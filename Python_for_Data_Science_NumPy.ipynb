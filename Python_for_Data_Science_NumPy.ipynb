{
 "cells": [
  {
   "cell_type": "code",
   "execution_count": 1,
   "metadata": {},
   "outputs": [],
   "source": [
    "# The first step of using numpy is to tell python to import it\n",
    "import numpy as np"
   ]
  },
  {
   "cell_type": "markdown",
   "metadata": {},
   "source": [
    "\n",
    "### 2.1 NumPy Arrays<a href=\"#2.1-NumPy-Arrays\" class=\"anchor-link\">¶</a>\n",
    "\n",
    "**NumPy Array**\n",
    "\n",
    "-   An array is a data structure that stores values of same data type.\n",
    "-   While python lists can contain values corresponding to different\n",
    "    data types, arrays in python can only contain values corresponding\n",
    "    to the same data type.\n",
    "-   However python lists fail to deliver the performance required while\n",
    "    computing large sets of numerical data. To address this issue we use\n",
    "    NumPy arrays.\n",
    "-   We can create NumPy arrays by converting a list to an array.\n",
    "\n"
   ]
  },
  {
   "cell_type": "code",
   "execution_count": 2,
   "metadata": {},
   "outputs": [],
   "source": [
    "# defining a list of different car companies or string elements\n",
    "arr_str = ['Mercedes', 'BMW', 'Audi', 'Ferrari', 'Tesla']\n",
    "\n",
    "# defining a list of number of cylinders in car or numerical elements\n",
    "arr_num = [5, 4, 6, 7, 3]"
   ]
  },
  {
   "cell_type": "code",
   "execution_count": 3,
   "metadata": {},
   "outputs": [],
   "source": [
    "# connverting the list arr_str to a NumPy array\n",
    "np_arr_str = np.array(arr_str)"
   ]
  },
  {
   "cell_type": "code",
   "execution_count": 4,
   "metadata": {},
   "outputs": [],
   "source": [
    "# connverting the list arr_num to a NumPy array\n",
    "np_arr_num = np.array(arr_num)"
   ]
  },
  {
   "cell_type": "code",
   "execution_count": 6,
   "metadata": {},
   "outputs": [
    {
     "name": "stdout",
     "output_type": "stream",
     "text": [
      "Numpy Array (arr_str):  ['Mercedes' 'BMW' 'Audi' 'Ferrari' 'Tesla']\n",
      "Numpy Array (arr_num):  [5 4 6 7 3]\n"
     ]
    }
   ],
   "source": [
    "# checking the output\n",
    "print('Numpy Array (arr_str): ',np_arr_str)\n",
    "print('Numpy Array (arr_num): ',np_arr_num)"
   ]
  },
  {
   "cell_type": "markdown",
   "metadata": {},
   "source": [
    "The resuts look similar to a list but arr_str and arr_num have been\n",
    "converted to NumPy arrays. Let's check the data type to confirm this."
   ]
  },
  {
   "cell_type": "code",
   "execution_count": 7,
   "metadata": {},
   "outputs": [
    {
     "name": "stdout",
     "output_type": "stream",
     "text": [
      "Data type of arr_str:  <class 'list'>\n",
      "Data type of arr_num:  <class 'list'>\n",
      "Data type of np_arr_str:  <class 'numpy.ndarray'>\n",
      "Data type of np_arr_num:  <class 'numpy.ndarray'>\n"
     ]
    }
   ],
   "source": [
    "# printing the data type of lists\n",
    "print('Data type of arr_str: ',type(arr_str))\n",
    "print('Data type of arr_num: ',type(arr_num))\n",
    "\n",
    "# printing the data type after conversion of lists to array\n",
    "print('Data type of np_arr_str: ',type(np_arr_str))\n",
    "print('Data type of np_arr_num: ',type(np_arr_num))"
   ]
  },
  {
   "cell_type": "markdown",
   "metadata": {},
   "source": [
    "-   The above output confirms that both the lists were successfully\n",
    "    converted to arrays\n",
    "\n",
    "**NumPy Matrix**\n",
    "\n",
    "-   A matrix is a two-dimensional data structure where elements are\n",
    "    arranged into rows and columns.\n",
    "-   A matrix can be created by using list of lists"
   ]
  },
  {
   "cell_type": "code",
   "execution_count": 8,
   "metadata": {},
   "outputs": [
    {
     "name": "stdout",
     "output_type": "stream",
     "text": [
      "[[1 2 1]\n",
      " [4 5 9]\n",
      " [1 8 9]]\n"
     ]
    }
   ],
   "source": [
    "# let's say we have information of different number of cylinders in a car and we want to display them in a matrix format\n",
    "matrix = np.array([[1,2,1],[4,5,9],[1,8,9]])\n",
    "print(matrix)"
   ]
  },
  {
   "cell_type": "code",
   "execution_count": 9,
   "metadata": {},
   "outputs": [
    {
     "name": "stdout",
     "output_type": "stream",
     "text": [
      "Data type of matrix:  <class 'numpy.ndarray'>\n"
     ]
    }
   ],
   "source": [
    "print('Data type of matrix: ',type(matrix))"
   ]
  },
  {
   "cell_type": "markdown",
   "metadata": {},
   "source": [
    "-   We see that all the NumPy objects have data type as ndarray\n",
    "\n",
    "### 2.2 NumPy Functions<a href=\"#2.2-NumPy-Functions\" class=\"anchor-link\">¶</a>\n",
    "\n",
    "**There are different ways to create NumPy arrays using the functions\n",
    "available in NumPy library**\n",
    "\n",
    "**Using np.arange() function**\n",
    "\n",
    "-   The np.arange() function returns an array with evenly spaced\n",
    "    elements as per the interval. The interval mentioned is half-opened\n",
    "    i.e. start is included but stop is excluded.\n",
    "-   It has the following paramaters:\n",
    "    -   start : start of interval range. By default start = 0\n",
    "    -   stop : end of interval range\n",
    "    -   step : step size of interval. By default step size = 1"
   ]
  },
  {
   "cell_type": "code",
   "execution_count": 10,
   "metadata": {},
   "outputs": [
    {
     "name": "stdout",
     "output_type": "stream",
     "text": [
      "[0 1 2 3 4 5 6 7 8 9]\n"
     ]
    }
   ],
   "source": [
    "arr2  = np.arange(start = 0, stop = 10) # 10 will be excluded from the output\n",
    "print(arr2)"
   ]
  },
  {
   "cell_type": "code",
   "execution_count": 11,
   "metadata": {},
   "outputs": [
    {
     "name": "stdout",
     "output_type": "stream",
     "text": [
      "[0 1 2 3 4 5 6 7 8 9]\n"
     ]
    }
   ],
   "source": [
    "# or\n",
    "arr2  = np.arange(0,10) \n",
    "print(arr2)"
   ]
  },
  {
   "cell_type": "code",
   "execution_count": 12,
   "metadata": {},
   "outputs": [
    {
     "data": {
      "text/plain": [
       "array([ 0,  5, 10, 15])"
      ]
     },
     "execution_count": 12,
     "metadata": {},
     "output_type": "execute_result"
    }
   ],
   "source": [
    "# adding a step size of 5 to create an array\n",
    "arr3  = np.arange(start = 0, stop = 20, step = 5)\n",
    "arr3"
   ]
  },
  {
   "cell_type": "markdown",
   "metadata": {},
   "source": [
    "**Using np.linspace() function**\n",
    "\n",
    "-   The np.linspace() function returns numbers which are evenly\n",
    "    distributed with respect to interval. Here the start and stop both\n",
    "    are included.\n",
    "\n",
    "\\*It has the following parameters:\n",
    "\n",
    "-   start: start of interval range. By default start = 0\n",
    "-   stop: end of interval range\n",
    "-   num : No. of samples to generate. By default num = 50"
   ]
  },
  {
   "cell_type": "code",
   "execution_count": 13,
   "metadata": {},
   "outputs": [
    {
     "data": {
      "text/plain": [
       "array([0.        , 0.10204082, 0.20408163, 0.30612245, 0.40816327,\n",
       "       0.51020408, 0.6122449 , 0.71428571, 0.81632653, 0.91836735,\n",
       "       1.02040816, 1.12244898, 1.2244898 , 1.32653061, 1.42857143,\n",
       "       1.53061224, 1.63265306, 1.73469388, 1.83673469, 1.93877551,\n",
       "       2.04081633, 2.14285714, 2.24489796, 2.34693878, 2.44897959,\n",
       "       2.55102041, 2.65306122, 2.75510204, 2.85714286, 2.95918367,\n",
       "       3.06122449, 3.16326531, 3.26530612, 3.36734694, 3.46938776,\n",
       "       3.57142857, 3.67346939, 3.7755102 , 3.87755102, 3.97959184,\n",
       "       4.08163265, 4.18367347, 4.28571429, 4.3877551 , 4.48979592,\n",
       "       4.59183673, 4.69387755, 4.79591837, 4.89795918, 5.        ])"
      ]
     },
     "execution_count": 13,
     "metadata": {},
     "output_type": "execute_result"
    }
   ],
   "source": [
    "matrix2 = np.linspace(0,5) # by default 50 evenly spaced values will be generated between 0 and 5\n",
    "matrix2"
   ]
  },
  {
   "cell_type": "markdown",
   "metadata": {},
   "source": [
    "**How are these values getting generated?**\n",
    "\n",
    "The step size or the difference between each element will be decided by\n",
    "the following formula:\n",
    "\n",
    "**(stop - start) / (total elements - 1)**\n",
    "\n",
    "So, in this case: (5 - 0) / 49 = 0.10204082\n",
    "\n",
    "The first value will be 0.10204082, the second value will be\n",
    "0.10204082 + 0.10204082, the third value will be 0.10204082 + 0.10204082\n",
    "+0.10204082, and so on."
   ]
  },
  {
   "cell_type": "code",
   "execution_count": 14,
   "metadata": {},
   "outputs": [
    {
     "data": {
      "text/plain": [
       "array([10.        , 11.11111111, 12.22222222, 13.33333333, 14.44444444,\n",
       "       15.55555556, 16.66666667, 17.77777778, 18.88888889, 20.        ])"
      ]
     },
     "execution_count": 14,
     "metadata": {},
     "output_type": "execute_result"
    }
   ],
   "source": [
    "# generating 10 evenly spaced values between 10 and 20\n",
    "matrix3 = np.linspace(10,20,10)\n",
    "matrix3"
   ]
  },
  {
   "cell_type": "markdown",
   "metadata": {},
   "source": [
    "**Similarly we can create matrices using the functions available in\n",
    "NumPy library**\n",
    "\n",
    "**Using np.zeros()**\n",
    "\n",
    "-   The np.zeros() is a function for creating a matrix and performing\n",
    "    matrix operations in NumPy.\n",
    "-   It returns a matrix filled with zeros of the given shape.\n",
    "-   It has the following parameters:\n",
    "    -   shape : Number of rows and columns in the output matrix.\n",
    "    -   dtype: data type of the elements in the matrix, by default the\n",
    "        value is set to `float`."
   ]
  },
  {
   "cell_type": "code",
   "execution_count": 15,
   "metadata": {},
   "outputs": [
    {
     "data": {
      "text/plain": [
       "array([[0., 0., 0., 0., 0.],\n",
       "       [0., 0., 0., 0., 0.],\n",
       "       [0., 0., 0., 0., 0.]])"
      ]
     },
     "execution_count": 15,
     "metadata": {},
     "output_type": "execute_result"
    }
   ],
   "source": [
    "matrix4 = np.zeros([3,5])\n",
    "matrix4"
   ]
  },
  {
   "cell_type": "markdown",
   "metadata": {},
   "source": [
    "**Using np.ones()**\n",
    "\n",
    "-   The np.ones() is another function for creating a matrix and\n",
    "    performing matrix operations in NumPy.\n",
    "-   It returns a matrix of given shape and type, filled with ones.\n",
    "-   It has the following parameters:\n",
    "    -   shape : Number of rows and columns in the output matrix.\n",
    "    -   dtype: data type of the elements in the matrix, by default the\n",
    "        value is set to `float`."
   ]
  },
  {
   "cell_type": "code",
   "execution_count": 16,
   "metadata": {},
   "outputs": [
    {
     "data": {
      "text/plain": [
       "array([[1., 1., 1., 1., 1.],\n",
       "       [1., 1., 1., 1., 1.],\n",
       "       [1., 1., 1., 1., 1.]])"
      ]
     },
     "execution_count": 16,
     "metadata": {},
     "output_type": "execute_result"
    }
   ],
   "source": [
    "matrix5 = np.ones([3,5])\n",
    "matrix5"
   ]
  },
  {
   "cell_type": "markdown",
   "metadata": {},
   "source": [
    "**Using np.eye()**\n",
    "\n",
    "-   The np.eye() is a function for creating a matrix and performing\n",
    "    matrix operations in NumPy.\n",
    "-   It returns a matrix with ones on the diagonal and zeros elsewhere.\n",
    "-   It has the following parameters:\n",
    "    -   n: Number of rows and columns in the output matrix\n",
    "    -   dtype: data type of the elements in the matrix, by default the\n",
    "        value is set to `float`."
   ]
  },
  {
   "cell_type": "code",
   "execution_count": 17,
   "metadata": {},
   "outputs": [
    {
     "data": {
      "text/plain": [
       "array([[1., 0., 0., 0., 0.],\n",
       "       [0., 1., 0., 0., 0.],\n",
       "       [0., 0., 1., 0., 0.],\n",
       "       [0., 0., 0., 1., 0.],\n",
       "       [0., 0., 0., 0., 1.]])"
      ]
     },
     "execution_count": 17,
     "metadata": {},
     "output_type": "execute_result"
    }
   ],
   "source": [
    "matrix6 = np.eye(5)\n",
    "matrix6"
   ]
  },
  {
   "cell_type": "markdown",
   "metadata": {},
   "source": [
    "**We can also convert a one dimension array to a matrix. This can be\n",
    "done by using the np.reshape() function.**\n",
    "\n",
    "-   The shape of an array basically tells the number of elements and\n",
    "    dimensions of the array. Reshaping a Numpy array simply means\n",
    "    changing the shape of the given array.\n",
    "-   By reshaping an array we can add or remove dimensions or change\n",
    "    number of elements in each dimension.\n",
    "-   In order to reshape a NumPy array, we use the reshape method with\n",
    "    the given array.\n",
    "-   **Syntax:** array.reshape(shape)\n",
    "    -   shape: a tuple given as input, the values in tuple will be the\n",
    "        new shape of the array."
   ]
  },
  {
   "cell_type": "code",
   "execution_count": 18,
   "metadata": {},
   "outputs": [
    {
     "data": {
      "text/plain": [
       "array([0, 1, 2, 3, 4, 5, 6, 7, 8, 9])"
      ]
     },
     "execution_count": 18,
     "metadata": {},
     "output_type": "execute_result"
    }
   ],
   "source": [
    "# defining an array with values 0 to 9\n",
    "arr4 = np.arange(0,10) \n",
    "arr4"
   ]
  },
  {
   "cell_type": "code",
   "execution_count": 19,
   "metadata": {},
   "outputs": [
    {
     "data": {
      "text/plain": [
       "array([[0, 1, 2, 3, 4],\n",
       "       [5, 6, 7, 8, 9]])"
      ]
     },
     "execution_count": 19,
     "metadata": {},
     "output_type": "execute_result"
    }
   ],
   "source": [
    "# reshaping the array arr4 to a 2 x 5 matrix\n",
    "arr4_reshaped = arr4.reshape((2,5))\n",
    "arr4_reshaped"
   ]
  },
  {
   "cell_type": "code",
   "execution_count": 20,
   "metadata": {},
   "outputs": [
    {
     "data": {
      "text/plain": [
       "array([0, 1, 2, 3, 4, 5, 6, 7, 8, 9])"
      ]
     },
     "execution_count": 20,
     "metadata": {},
     "output_type": "execute_result"
    }
   ],
   "source": [
    "arr4"
   ]
  },
  {
   "cell_type": "code",
   "execution_count": 21,
   "metadata": {},
   "outputs": [
    {
     "ename": "ValueError",
     "evalue": "cannot reshape array of size 10 into shape (2,6)",
     "output_type": "error",
     "traceback": [
      "\u001b[1;31m---------------------------------------------------------------------------\u001b[0m",
      "\u001b[1;31mValueError\u001b[0m                                Traceback (most recent call last)",
      "\u001b[1;32md:\\Latihan Python\\Python_for_Data_Science_NumPy.ipynb Cell 30\u001b[0m line \u001b[0;36m2\n\u001b[0;32m      <a href='vscode-notebook-cell:/d%3A/Latihan%20Python/Python_for_Data_Science_NumPy.ipynb#Y100sZmlsZQ%3D%3D?line=0'>1</a>\u001b[0m \u001b[39m# reshaping the array arr4 to a 2 x 6 matrix\u001b[39;00m\n\u001b[1;32m----> <a href='vscode-notebook-cell:/d%3A/Latihan%20Python/Python_for_Data_Science_NumPy.ipynb#Y100sZmlsZQ%3D%3D?line=1'>2</a>\u001b[0m arr4\u001b[39m.\u001b[39;49mreshape((\u001b[39m2\u001b[39;49m,\u001b[39m6\u001b[39;49m))\n",
      "\u001b[1;31mValueError\u001b[0m: cannot reshape array of size 10 into shape (2,6)"
     ]
    }
   ],
   "source": [
    "# reshaping the array arr4 to a 2 x 6 matrix\n",
    "arr4.reshape((2,6))"
   ]
  },
  {
   "cell_type": "markdown",
   "metadata": {},
   "source": [
    "-   This did not work because we have 10 elements which we are trying to\n",
    "    fit in a 2 X 6 shape which will require 12 elements.\n",
    "\n",
    "**NumPy can also perform a large number of different mathematical\n",
    "operations and it provides different functions to do so.**\n",
    "\n",
    "NumPy provides:\n",
    "\n",
    "1.  Trigonometric functions\n",
    "2.  Exponents and Logarithmic functions\n",
    "3.  Functions for arithmetic operations between arrays and matrices"
   ]
  },
  {
   "cell_type": "markdown",
   "metadata": {},
   "source": [
    "**Trigonometric functions**"
   ]
  },
  {
   "cell_type": "code",
   "execution_count": 22,
   "metadata": {},
   "outputs": [
    {
     "name": "stdout",
     "output_type": "stream",
     "text": [
      "Sine Function: -0.7568024953079282\n",
      "Cosine Function: -0.6536436208636119\n",
      "Tan Function 1.1578212823495777\n"
     ]
    }
   ],
   "source": [
    "print('Sine Function:',np.sin(4))\n",
    "print('Cosine Function:',np.cos(4))\n",
    "print('Tan Function',np.tan(4))"
   ]
  },
  {
   "cell_type": "markdown",
   "metadata": {},
   "source": [
    "**Exponents and Logarithmic functions**\n",
    "\n",
    "-   Exponents"
   ]
  },
  {
   "cell_type": "code",
   "execution_count": 23,
   "metadata": {},
   "outputs": [
    {
     "data": {
      "text/plain": [
       "7.38905609893065"
      ]
     },
     "execution_count": 23,
     "metadata": {},
     "output_type": "execute_result"
    }
   ],
   "source": [
    "np.exp(2)"
   ]
  },
  {
   "cell_type": "code",
   "execution_count": 25,
   "metadata": {},
   "outputs": [
    {
     "data": {
      "text/plain": [
       "array([  7.3890561 ,  54.59815003, 403.42879349])"
      ]
     },
     "execution_count": 25,
     "metadata": {},
     "output_type": "execute_result"
    }
   ],
   "source": [
    "arr5 = np.array([2,4,6])\n",
    "np.exp(arr5)"
   ]
  },
  {
   "cell_type": "markdown",
   "metadata": {},
   "source": [
    "-   Logarithms"
   ]
  },
  {
   "cell_type": "code",
   "execution_count": 26,
   "metadata": {},
   "outputs": [
    {
     "data": {
      "text/plain": [
       "0.6931471805599453"
      ]
     },
     "execution_count": 26,
     "metadata": {},
     "output_type": "execute_result"
    }
   ],
   "source": [
    "# by default NumPy takes the base of log as e\n",
    "np.log(2)"
   ]
  },
  {
   "cell_type": "code",
   "execution_count": 27,
   "metadata": {},
   "outputs": [
    {
     "data": {
      "text/plain": [
       "array([0.69314718, 1.38629436, 1.79175947])"
      ]
     },
     "execution_count": 27,
     "metadata": {},
     "output_type": "execute_result"
    }
   ],
   "source": [
    "np.log(arr5)"
   ]
  },
  {
   "cell_type": "code",
   "execution_count": 28,
   "metadata": {},
   "outputs": [
    {
     "data": {
      "text/plain": [
       "0.9030899869919435"
      ]
     },
     "execution_count": 28,
     "metadata": {},
     "output_type": "execute_result"
    }
   ],
   "source": [
    "# log with base 10\n",
    "np.log10(8)"
   ]
  },
  {
   "cell_type": "markdown",
   "metadata": {},
   "source": [
    "**Arithmetic Operations on arrays**"
   ]
  },
  {
   "cell_type": "code",
   "execution_count": 29,
   "metadata": {},
   "outputs": [
    {
     "name": "stdout",
     "output_type": "stream",
     "text": [
      "[1, 2, 3, 4, 5, 6]\n"
     ]
    }
   ],
   "source": [
    "# arithmetic on lists\n",
    "\n",
    "l1 = [1,2,3]\n",
    "l2 = [4,5,6]\n",
    "print(l1+l2)\n",
    "# this does not behave as you would expect!"
   ]
  },
  {
   "cell_type": "code",
   "execution_count": 30,
   "metadata": {},
   "outputs": [
    {
     "name": "stdout",
     "output_type": "stream",
     "text": [
      "arr7: [1 2 3 4 5]\n",
      "arr8: [3 4 5 6 7]\n"
     ]
    }
   ],
   "source": [
    "# we can +-*/ arrays together\n",
    "\n",
    "# defining two arrays\n",
    "arr7 = np.arange(1,6)\n",
    "print('arr7:', arr7)\n",
    "\n",
    "arr8 = np.arange(3,8)\n",
    "print('arr8:', arr8)"
   ]
  },
  {
   "cell_type": "code",
   "execution_count": 31,
   "metadata": {},
   "outputs": [
    {
     "name": "stdout",
     "output_type": "stream",
     "text": [
      "Addition:  [ 4  6  8 10 12]\n",
      "Subtraction:  [2 2 2 2 2]\n",
      "Multiplication: [ 3  8 15 24 35]\n",
      "Division: [0.33333333 0.5        0.6        0.66666667 0.71428571]\n",
      "Inverse: [1.         0.5        0.33333333 0.25       0.2       ]\n",
      "Powers: [    1    16   243  4096 78125]\n"
     ]
    }
   ],
   "source": [
    "print('Addition: ',arr7+arr8)\n",
    "print('Subtraction: ',arr8-arr7)\n",
    "print('Multiplication:' , arr7*arr8)\n",
    "print('Division:', arr7/arr8)\n",
    "print('Inverse:', 1/arr7)\n",
    "print('Powers:', arr7**arr8) # in python, powers are achieved using **, NOT ^!!! ^ does something completely different!"
   ]
  },
  {
   "cell_type": "markdown",
   "metadata": {},
   "source": [
    "**Operations on Matrices**"
   ]
  },
  {
   "cell_type": "code",
   "execution_count": 32,
   "metadata": {},
   "outputs": [
    {
     "name": "stdout",
     "output_type": "stream",
     "text": [
      "[[1 2 3]\n",
      " [4 5 6]\n",
      " [7 8 9]]\n",
      "[[1. 0. 0.]\n",
      " [0. 1. 0.]\n",
      " [0. 0. 1.]]\n"
     ]
    }
   ],
   "source": [
    "matrix7 = np.arange(1,10).reshape(3,3)\n",
    "print(matrix7)\n",
    "\n",
    "matrix8 = np.eye(3)\n",
    "print(matrix8)"
   ]
  },
  {
   "cell_type": "code",
   "execution_count": 33,
   "metadata": {},
   "outputs": [
    {
     "name": "stdout",
     "output_type": "stream",
     "text": [
      "Addition: \n",
      " [[ 2.  2.  3.]\n",
      " [ 4.  6.  6.]\n",
      " [ 7.  8. 10.]]\n",
      "Subtraction: \n",
      "  [[0. 2. 3.]\n",
      " [4. 4. 6.]\n",
      " [7. 8. 8.]]\n",
      "Multiplication: \n",
      " [[1. 0. 0.]\n",
      " [0. 5. 0.]\n",
      " [0. 0. 9.]]\n",
      "Division: \n",
      " [[ 1. inf inf]\n",
      " [inf  5. inf]\n",
      " [inf inf  9.]]\n"
     ]
    },
    {
     "name": "stderr",
     "output_type": "stream",
     "text": [
      "C:\\Users\\acer\\AppData\\Local\\Temp\\ipykernel_20192\\2604038799.py:4: RuntimeWarning: divide by zero encountered in divide\n",
      "  print('Division: \\n', matrix7/matrix8)\n"
     ]
    }
   ],
   "source": [
    "print('Addition: \\n', matrix7+matrix8)\n",
    "print('Subtraction: \\n ', matrix7-matrix8)\n",
    "print('Multiplication: \\n', matrix7*matrix8)\n",
    "print('Division: \\n', matrix7/matrix8)"
   ]
  },
  {
   "cell_type": "markdown",
   "metadata": {},
   "source": [
    "-   RuntimeWarning: Errors which occur during program\n",
    "    execution(run-time) after successful compilation are called run-time\n",
    "    errors.\n",
    "-   One of the most common run-time error is division by zero also known\n",
    "    as Division error.\n",
    "-   Due to division by zero error, we are getting inf (infinity) values\n",
    "    because 1/0 is not a defined operation.\n",
    "\n",
    "**Linear algebra matrix multiplication**"
   ]
  },
  {
   "cell_type": "code",
   "execution_count": 34,
   "metadata": {},
   "outputs": [
    {
     "name": "stdout",
     "output_type": "stream",
     "text": [
      "First Matrix: \n",
      " [[1 2 3]\n",
      " [4 5 6]\n",
      " [7 8 9]]\n",
      "Second Matrix: \n",
      " [[11 12 13]\n",
      " [14 15 16]\n",
      " [17 18 19]]\n",
      "\n",
      "Multiplication: \n",
      " [[ 90  96 102]\n",
      " [216 231 246]\n",
      " [342 366 390]]\n"
     ]
    }
   ],
   "source": [
    "matrix9 = np.arange(1,10).reshape(3,3)\n",
    "print('First Matrix: \\n',matrix9)\n",
    "\n",
    "matrix10 = np.arange(11,20).reshape(3,3)\n",
    "print('Second Matrix: \\n',matrix10)\n",
    "print('')\n",
    "# taking linear algebra matrix multiplication (some may have heard this called the dot product)\n",
    "print('Multiplication: \\n', matrix9 @ matrix10)"
   ]
  },
  {
   "cell_type": "markdown",
   "metadata": {},
   "source": [
    "**Transpose of a matrix**"
   ]
  },
  {
   "cell_type": "code",
   "execution_count": 35,
   "metadata": {},
   "outputs": [
    {
     "name": "stdout",
     "output_type": "stream",
     "text": [
      "[[1 2 3]\n",
      " [4 5 6]\n",
      " [7 8 9]]\n"
     ]
    }
   ],
   "source": [
    "print(matrix9)"
   ]
  },
  {
   "cell_type": "code",
   "execution_count": 36,
   "metadata": {},
   "outputs": [
    {
     "data": {
      "text/plain": [
       "array([[1, 4, 7],\n",
       "       [2, 5, 8],\n",
       "       [3, 6, 9]])"
      ]
     },
     "execution_count": 36,
     "metadata": {},
     "output_type": "execute_result"
    }
   ],
   "source": [
    "# taking transpose of matrix\n",
    "np.transpose(matrix9)"
   ]
  },
  {
   "cell_type": "code",
   "execution_count": 37,
   "metadata": {},
   "outputs": [
    {
     "data": {
      "text/plain": [
       "array([[1, 4, 7],\n",
       "       [2, 5, 8],\n",
       "       [3, 6, 9]])"
      ]
     },
     "execution_count": 37,
     "metadata": {},
     "output_type": "execute_result"
    }
   ],
   "source": [
    "# another way of taking a transpose\n",
    "matrix9.T"
   ]
  },
  {
   "cell_type": "markdown",
   "metadata": {},
   "source": [
    "**Function to find minimum and maximum values**"
   ]
  },
  {
   "cell_type": "code",
   "execution_count": 38,
   "metadata": {},
   "outputs": [
    {
     "name": "stdout",
     "output_type": "stream",
     "text": [
      "[[1 2 3]\n",
      " [4 5 6]\n",
      " [7 8 9]]\n"
     ]
    }
   ],
   "source": [
    "print(matrix9)"
   ]
  },
  {
   "cell_type": "code",
   "execution_count": 39,
   "metadata": {},
   "outputs": [
    {
     "name": "stdout",
     "output_type": "stream",
     "text": [
      "Minimum value:  1\n"
     ]
    }
   ],
   "source": [
    "print('Minimum value: ',np.min(matrix9))"
   ]
  },
  {
   "cell_type": "code",
   "execution_count": 40,
   "metadata": {},
   "outputs": [
    {
     "name": "stdout",
     "output_type": "stream",
     "text": [
      "Maximum value:  9\n"
     ]
    }
   ],
   "source": [
    "print('Maximum value: ',np.max(matrix9))"
   ]
  },
  {
   "cell_type": "markdown",
   "metadata": {},
   "source": [
    "**Function to generate random samples**\n",
    "\n",
    "**Using np.random.rand function**\n",
    "\n",
    "-   The np.random.rand returns a random NumPy array whose element(s) are\n",
    "    drawn randomly from the uniform distribution over \\[0,1). (including\n",
    "    0 but excluding 1).\n",
    "-   **Syntax** - np.random.rand(d0,d1)\n",
    "    -   d0,d1 – It represents the dimension of the required array given\n",
    "        as int, where d1 is optional."
   ]
  },
  {
   "cell_type": "code",
   "execution_count": 41,
   "metadata": {},
   "outputs": [
    {
     "name": "stdout",
     "output_type": "stream",
     "text": [
      "[0.80551497 0.64690159 0.17244782 0.83167654 0.92109335]\n"
     ]
    }
   ],
   "source": [
    "# Generating random values in an array\n",
    "rand_mat = np.random.rand(5)\n",
    "print(rand_mat)"
   ]
  },
  {
   "cell_type": "code",
   "execution_count": 42,
   "metadata": {},
   "outputs": [
    {
     "name": "stdout",
     "output_type": "stream",
     "text": [
      "[[0.3824405  0.12945818 0.86296332 0.68122915 0.78301093]\n",
      " [0.25507064 0.54851148 0.91919841 0.01953608 0.54438823]\n",
      " [0.05442505 0.92588402 0.07091178 0.31137578 0.55992409]\n",
      " [0.54936662 0.47034121 0.22434761 0.09906725 0.9378072 ]\n",
      " [0.29242805 0.47472319 0.66199508 0.18600803 0.84116451]]\n"
     ]
    }
   ],
   "source": [
    "# * Generating random values in a matrix\n",
    "rand_mat = np.random.rand(5,5) # uniform random variable\n",
    "print(rand_mat)"
   ]
  },
  {
   "cell_type": "markdown",
   "metadata": {},
   "source": [
    "**Using np.random.randn function**\n",
    "\n",
    "-   The np.random.randn returns a random numpy array whose sample(s) are\n",
    "    drawn randomly from the standard normal distribution (Mean as 0 and\n",
    "    standard deviation as 1)\n",
    "\n",
    "-   **Syntax** - np.random.randn(d0,d1)\n",
    "\n",
    "    -   d0,d1 – It represents the dimension of the output, where d1 is\n",
    "        optional."
   ]
  },
  {
   "cell_type": "code",
   "execution_count": 46,
   "metadata": {},
   "outputs": [
    {
     "name": "stdout",
     "output_type": "stream",
     "text": [
      "[-0.33746134 -1.10316022 -1.03029278 -1.09823378 -1.70360759]\n"
     ]
    }
   ],
   "source": [
    "# Generating random values in an array\n",
    "rand_mat2 = np.random.randn(5) \n",
    "print(rand_mat2)"
   ]
  },
  {
   "cell_type": "code",
   "execution_count": 49,
   "metadata": {},
   "outputs": [
    {
     "name": "stdout",
     "output_type": "stream",
     "text": [
      "[[-0.00253289 -0.21348875 -0.19114209 -0.23689337  0.73035447]\n",
      " [-0.91926642 -0.04236675  0.79709449 -1.40645231 -0.78280153]\n",
      " [-0.94362946 -0.1647715   0.21638714  1.75021631  0.25519348]\n",
      " [-0.68742509 -0.59891315  0.39795513 -0.74337474  1.09198669]\n",
      " [ 0.15960987 -0.49583804 -1.1237828   2.07370523  1.06382067]]\n"
     ]
    }
   ],
   "source": [
    "# Generating random values in a matrix\n",
    "rand_mat2 = np.random.randn(5,5) \n",
    "print(rand_mat2)"
   ]
  },
  {
   "cell_type": "code",
   "execution_count": 50,
   "metadata": {},
   "outputs": [
    {
     "name": "stdout",
     "output_type": "stream",
     "text": [
      "Mean: -0.0006542152448686522\n",
      "Standard Deviation: 0.861124204431122\n"
     ]
    }
   ],
   "source": [
    "# Let's check the mean and standard deviation of rand_mat2\n",
    "print('Mean:',np.mean(rand_mat2))\n",
    "print('Standard Deviation:',np.std(rand_mat2))"
   ]
  },
  {
   "cell_type": "markdown",
   "metadata": {},
   "source": [
    "-   We observe that the mean is very close to 0 and standard deviation\n",
    "    is very close to 1.\n",
    "\n",
    "**Using np.random.randint function**\n",
    "\n",
    "-   The np.random.randint returns a random numpy array whose element(s)\n",
    "    are drawn randomly from low (inclusive) to the high (exclusive)\n",
    "    range.\n",
    "\n",
    "-   **Syntax** - np.random.randint(low, high, size)\n",
    "\n",
    "    -   low – It represents the lowest inclusive bound of the\n",
    "        distribution from where the sample can be drawn.\n",
    "    -   high – It represents the upper exclusive bound of the\n",
    "        distribution from where the sample can be drawn.\n",
    "    -   size – It represents the shape of the output."
   ]
  },
  {
   "cell_type": "code",
   "execution_count": 58,
   "metadata": {},
   "outputs": [
    {
     "name": "stdout",
     "output_type": "stream",
     "text": [
      "[3 2 2 4 3 1 1 1 4 1]\n"
     ]
    }
   ],
   "source": [
    "# Generating random values in an array\n",
    "rand_mat3 = np.random.randint(1,5,10)\n",
    "print(rand_mat3)"
   ]
  },
  {
   "cell_type": "code",
   "execution_count": 62,
   "metadata": {},
   "outputs": [
    {
     "name": "stdout",
     "output_type": "stream",
     "text": [
      "[[7 6 1 1 6]\n",
      " [8 1 8 5 8]\n",
      " [2 8 8 9 9]\n",
      " [4 4 6 7 1]\n",
      " [7 2 3 2 3]]\n"
     ]
    }
   ],
   "source": [
    "# Generating random values in a matrix\n",
    "rand_mat3 = np.random.randint(1,10,[5,5])\n",
    "print(rand_mat3)"
   ]
  },
  {
   "cell_type": "markdown",
   "metadata": {},
   "source": [
    "### 2.3 Accessing the entries of a Numpy Array<a href=\"#2.3-Accessing-the-entries-of-a-Numpy-Array\" class=\"anchor-link\">¶</a>"
   ]
  },
  {
   "cell_type": "code",
   "execution_count": 63,
   "metadata": {},
   "outputs": [
    {
     "name": "stdout",
     "output_type": "stream",
     "text": [
      "[ 0.32392873  0.92563383  0.50651312  0.80914685  1.20735316 -1.82046066\n",
      "  1.53800717  0.02111299  3.75719496 -0.55241365]\n"
     ]
    }
   ],
   "source": [
    "# let's generate an array with 10 random values\n",
    "rand_arr = np.random.randn(10)\n",
    "print(rand_arr)"
   ]
  },
  {
   "cell_type": "markdown",
   "metadata": {},
   "source": [
    "-   Accessing one element from an array"
   ]
  },
  {
   "cell_type": "code",
   "execution_count": 74,
   "metadata": {},
   "outputs": [
    {
     "name": "stdout",
     "output_type": "stream",
     "text": [
      "1.53800716569196\n"
     ]
    }
   ],
   "source": [
    "# accessing the 6 th entry of rand_arr\n",
    "print(rand_arr[6])"
   ]
  },
  {
   "cell_type": "markdown",
   "metadata": {},
   "source": [
    "-   Accessing multiple elements from an array"
   ]
  },
  {
   "cell_type": "code",
   "execution_count": 75,
   "metadata": {},
   "outputs": [
    {
     "name": "stdout",
     "output_type": "stream",
     "text": [
      "[ 1.20735316 -1.82046066  1.53800717  0.02111299  3.75719496]\n"
     ]
    }
   ],
   "source": [
    "# we can access multiple entries at once using\n",
    "print(rand_arr[4:9])"
   ]
  },
  {
   "cell_type": "code",
   "execution_count": 76,
   "metadata": {},
   "outputs": [
    {
     "name": "stdout",
     "output_type": "stream",
     "text": [
      "Index of values to access:  [3 6 9]\n",
      "[ 0.80914685  1.53800717 -0.55241365]\n"
     ]
    }
   ],
   "source": [
    "# we can also access multiple non-consecutive entries using np.arange\n",
    "print('Index of values to access: ',np.arange(3,10,3))\n",
    "print(rand_arr[np.arange(3,10,3)])"
   ]
  },
  {
   "cell_type": "code",
   "execution_count": 77,
   "metadata": {},
   "outputs": [
    {
     "name": "stdout",
     "output_type": "stream",
     "text": [
      "5\n"
     ]
    }
   ],
   "source": [
    "import numpy as np\n",
    "matrix = np.array([[1,2,3],[4,5,6],[7,8,9]])\n",
    "print(matrix[1][1])"
   ]
  },
  {
   "cell_type": "code",
   "execution_count": 78,
   "metadata": {},
   "outputs": [
    {
     "name": "stdout",
     "output_type": "stream",
     "text": [
      "[4 2 2 2 2 6 1]\n"
     ]
    }
   ],
   "source": [
    "import numpy as np\n",
    "vec1 = np.array([4, 7, 8, 9, 10, 6, 1])\n",
    "vec1[vec1>6] = 2\n",
    "print(vec1)"
   ]
  },
  {
   "cell_type": "markdown",
   "metadata": {},
   "source": [
    "**Accessing arrays using logical operations**"
   ]
  },
  {
   "cell_type": "code",
   "execution_count": 84,
   "metadata": {},
   "outputs": [
    {
     "name": "stdout",
     "output_type": "stream",
     "text": [
      "[ 0.32392873  0.92563383  0.50651312  0.80914685  1.20735316 -1.82046066\n",
      "  1.53800717  0.02111299  3.75719496 -0.55241365]\n"
     ]
    }
   ],
   "source": [
    "print(rand_arr)"
   ]
  },
  {
   "cell_type": "code",
   "execution_count": 85,
   "metadata": {},
   "outputs": [
    {
     "data": {
      "text/plain": [
       "array([ True,  True,  True,  True,  True, False,  True,  True,  True,\n",
       "       False])"
      ]
     },
     "execution_count": 85,
     "metadata": {},
     "output_type": "execute_result"
    }
   ],
   "source": [
    "rand_arr > 0"
   ]
  },
  {
   "cell_type": "code",
   "execution_count": 89,
   "metadata": {},
   "outputs": [
    {
     "name": "stdout",
     "output_type": "stream",
     "text": [
      "Values greater than 0:  [0.32392873 0.92563383 0.50651312 0.80914685 1.20735316 1.53800717\n",
      " 0.02111299 3.75719496]\n",
      "Values less than 0:  [-1.82046066 -0.55241365]\n"
     ]
    }
   ],
   "source": [
    "# accessing all the values of rand_arr which are greater than 0\n",
    "print('Values greater than 0: ',rand_arr[rand_arr>0])\n",
    "\n",
    "# accessing all the values of rand_arr which are less than 0\n",
    "print('Values less than 0: ',rand_arr[rand_arr<0])"
   ]
  },
  {
   "cell_type": "markdown",
   "metadata": {},
   "source": [
    "**Accessing the entries of a Matrix**"
   ]
  },
  {
   "cell_type": "code",
   "execution_count": 90,
   "metadata": {},
   "outputs": [
    {
     "name": "stdout",
     "output_type": "stream",
     "text": [
      "[[-1.01817984 -0.52792623  0.42340045 -0.41820749  1.36130149]\n",
      " [ 1.83188664  0.62904945 -0.34187204 -0.29774022 -1.47655617]\n",
      " [-1.43749204 -0.71444986 -0.29301653 -0.80051094  0.15774212]\n",
      " [-0.49590769  0.59115983  1.02687445  0.74726049  1.82614095]\n",
      " [-0.49063728 -0.32911031 -0.81169518  0.71590593  0.28862913]]\n"
     ]
    }
   ],
   "source": [
    "# let's generate an array with 10 random values\n",
    "rand_mat = np.random.randn(5,5)\n",
    "print(rand_mat)"
   ]
  },
  {
   "cell_type": "code",
   "execution_count": 91,
   "metadata": {},
   "outputs": [
    {
     "data": {
      "text/plain": [
       "array([ 1.83188664,  0.62904945, -0.34187204, -0.29774022, -1.47655617])"
      ]
     },
     "execution_count": 91,
     "metadata": {},
     "output_type": "execute_result"
    }
   ],
   "source": [
    "# acessing the second row of the rand_mat\n",
    "rand_mat[1]"
   ]
  },
  {
   "cell_type": "code",
   "execution_count": 94,
   "metadata": {},
   "outputs": [
    {
     "name": "stdout",
     "output_type": "stream",
     "text": [
      "-0.34187203695644314\n",
      "-0.34187203695644314\n"
     ]
    }
   ],
   "source": [
    "# acessing third element of the second row\n",
    "print(rand_mat[1][2])\n",
    "\n",
    "#or \n",
    "print(rand_mat[1,2])"
   ]
  },
  {
   "cell_type": "code",
   "execution_count": 96,
   "metadata": {},
   "outputs": [
    {
     "name": "stdout",
     "output_type": "stream",
     "text": [
      "[[-0.52792623  0.42340045]\n",
      " [ 0.62904945 -0.34187204]]\n"
     ]
    }
   ],
   "source": [
    "# accessing first two rows with second and third column \n",
    "print(rand_mat[0:2,1:3])"
   ]
  },
  {
   "cell_type": "markdown",
   "metadata": {},
   "source": [
    "**Accessing matrices using logical operations**"
   ]
  },
  {
   "cell_type": "code",
   "execution_count": null,
   "metadata": {},
   "outputs": [],
   "source": [
    "print(rand_mat)"
   ]
  },
  {
   "cell_type": "code",
   "execution_count": null,
   "metadata": {},
   "outputs": [],
   "source": [
    "# accessing all the values of rand_mat which are greater than 0\n",
    "print('Values greater than 0: \\n ',rand_mat[rand_mat>0])\n",
    "\n",
    "# accessing all the values of rand_mat which are less than 0\n",
    "print('Values less than 0: \\n',rand_mat[rand_mat<0])"
   ]
  },
  {
   "cell_type": "markdown",
   "metadata": {},
   "source": [
    "**Modifying the entries of an Array**"
   ]
  },
  {
   "cell_type": "code",
   "execution_count": 97,
   "metadata": {},
   "outputs": [
    {
     "name": "stdout",
     "output_type": "stream",
     "text": [
      "[ 0.32392873  0.92563383  0.50651312  0.80914685  1.20735316 -1.82046066\n",
      "  1.53800717  0.02111299  3.75719496 -0.55241365]\n"
     ]
    }
   ],
   "source": [
    "print(rand_arr)"
   ]
  },
  {
   "cell_type": "code",
   "execution_count": null,
   "metadata": {},
   "outputs": [],
   "source": [
    "# let's change some values in an array!\n",
    "# changing the values of index value 3 and index value 4 to 5\n",
    "rand_arr[3:5] = 5\n",
    "print(rand_arr)"
   ]
  },
  {
   "cell_type": "code",
   "execution_count": null,
   "metadata": {},
   "outputs": [],
   "source": [
    "# changing the values of index value 0 and index value 1 to 2 and 3 respectively\n",
    "rand_arr[0:2] = [2,3]\n",
    "print(rand_arr)"
   ]
  },
  {
   "cell_type": "code",
   "execution_count": null,
   "metadata": {},
   "outputs": [],
   "source": [
    "# modify entries using logical references\n",
    "rand_arr[rand_arr>0] = 65\n",
    "rand_arr"
   ]
  },
  {
   "cell_type": "code",
   "execution_count": null,
   "metadata": {},
   "outputs": [],
   "source": [
    "import numpy as np\n",
    "matrix = np.arange(1,10).reshape(3,3)\n",
    "matrix[0:2,1:2] = 0\n",
    "print(matrix)"
   ]
  },
  {
   "cell_type": "markdown",
   "metadata": {},
   "source": [
    "**Modifying the entries of a Matrix**"
   ]
  },
  {
   "cell_type": "code",
   "execution_count": null,
   "metadata": {},
   "outputs": [],
   "source": [
    "import numpy as np\n",
    "array1 = np.array([[1,2,3],[4,5,6],[7,8,9]])\n",
    "print(array1)\n",
    "array2 = array1"
   ]
  },
  {
   "cell_type": "code",
   "execution_count": null,
   "metadata": {},
   "outputs": [],
   "source": [
    "array2[1,2]= 100\n",
    "print(array1)\n",
    "print(array2)"
   ]
  },
  {
   "cell_type": "code",
   "execution_count": null,
   "metadata": {},
   "outputs": [],
   "source": [
    "print(rand_mat3)"
   ]
  },
  {
   "cell_type": "code",
   "execution_count": null,
   "metadata": {},
   "outputs": [],
   "source": [
    "# changing the values of the 4th and 5th element of the second and third rows of the matrix to 0\n",
    "print('Matrix before modification: \\n',rand_mat3)\n",
    "rand_mat3[1:3,3:5] = 0\n",
    "print('Matrix after modification: \\n',rand_mat3)"
   ]
  },
  {
   "cell_type": "code",
   "execution_count": null,
   "metadata": {},
   "outputs": [],
   "source": [
    "# extracting the first 2 rows and first 3 columns from the matrix\n",
    "sub_mat = rand_mat[0:2,0:3]\n",
    "print(sub_mat)"
   ]
  },
  {
   "cell_type": "code",
   "execution_count": null,
   "metadata": {},
   "outputs": [],
   "source": [
    "# changing all the values of the extracted matrix to 3\n",
    "sub_mat[:] = 3\n",
    "print(sub_mat)"
   ]
  },
  {
   "cell_type": "code",
   "execution_count": null,
   "metadata": {},
   "outputs": [],
   "source": [
    "# what happened to rand_mat when we change sub_mat?\n",
    "rand_mat"
   ]
  },
  {
   "cell_type": "code",
   "execution_count": null,
   "metadata": {},
   "outputs": [],
   "source": [
    "# to prevent this behavior we need to use the .copy() method when we assign sub_mat\n",
    "# this behavior is the source of MANY errors for early python users!!!\n",
    "\n",
    "rand_mat = np.random.randn(5,5)\n",
    "print(rand_mat)\n",
    "sub_mat = rand_mat[0:2,0:3].copy()\n",
    "sub_mat[:] = 3\n",
    "print(sub_mat)\n",
    "print(rand_mat)"
   ]
  },
  {
   "cell_type": "markdown",
   "metadata": {},
   "source": [
    "### 2.4 Saving and Loading a NumPy array<a href=\"#2.4-Saving-and-Loading-a-NumPy-array\" class=\"anchor-link\">¶</a>\n",
    "\n",
    "**Let's save some NumPy objects on the disk for use later!**"
   ]
  },
  {
   "cell_type": "code",
   "execution_count": 98,
   "metadata": {},
   "outputs": [
    {
     "ename": "ModuleNotFoundError",
     "evalue": "No module named 'google'",
     "output_type": "error",
     "traceback": [
      "\u001b[1;31m---------------------------------------------------------------------------\u001b[0m",
      "\u001b[1;31mModuleNotFoundError\u001b[0m                       Traceback (most recent call last)",
      "\u001b[1;32md:\\Latihan Python\\Python_for_Data_Science_NumPy.ipynb Cell 105\u001b[0m line \u001b[0;36m1\n\u001b[1;32m----> <a href='vscode-notebook-cell:/d%3A/Latihan%20Python/Python_for_Data_Science_NumPy.ipynb#Y334sZmlsZQ%3D%3D?line=0'>1</a>\u001b[0m \u001b[39mfrom\u001b[39;00m \u001b[39mgoogle\u001b[39;00m\u001b[39m.\u001b[39;00m\u001b[39mcolab\u001b[39;00m \u001b[39mimport\u001b[39;00m drive\n\u001b[0;32m      <a href='vscode-notebook-cell:/d%3A/Latihan%20Python/Python_for_Data_Science_NumPy.ipynb#Y334sZmlsZQ%3D%3D?line=1'>2</a>\u001b[0m drive\u001b[39m.\u001b[39mmount(\u001b[39m'\u001b[39m\u001b[39m/content/drive\u001b[39m\u001b[39m'\u001b[39m)\n",
      "\u001b[1;31mModuleNotFoundError\u001b[0m: No module named 'google'"
     ]
    }
   ],
   "source": [
    "from google.colab import drive\n",
    "drive.mount('/content/drive')"
   ]
  },
  {
   "cell_type": "code",
   "execution_count": null,
   "metadata": {},
   "outputs": [],
   "source": [
    "# creating a random matrices\n",
    "randint_matrix1 = np.random.randint(1,10,10).reshape(2,5)\n",
    "print(randint_matrix1)\n",
    "print('')\n",
    "randint_matrix2 = np.random.randint(10,20,10).reshape(2,5)\n",
    "print(randint_matrix2)"
   ]
  },
  {
   "cell_type": "markdown",
   "metadata": {},
   "source": [
    "**Using np.save() function**\n"
   ]
  },
  {
   "cell_type": "code",
   "execution_count": null,
   "metadata": {},
   "outputs": [],
   "source": [
    "np.save('randint_matrik',randint_matrix1)"
   ]
  },
  {
   "cell_type": "markdown",
   "metadata": {},
   "source": [
    "**Using np.savez() function**"
   ]
  },
  {
   "cell_type": "code",
   "execution_count": null,
   "metadata": {},
   "outputs": [],
   "source": [
    "np.savez('multiple_randint_matrik',randint_matrix1=randint_matrix1,randint_matrix2=randint_matrix2)"
   ]
  },
  {
   "cell_type": "markdown",
   "metadata": {},
   "source": [
    "-   The files will be saved in the directory where the Jupyter Notebook\n",
    "    is located.\n",
    "-   With np.save() function, we can save an array/matrix to a NumPy .npy\n",
    "    format.\n",
    "-   np.savez() function has an advantage over np.save() function because\n",
    "    with np.savez(), we can store several arrays/matrices into a single\n",
    "    file in uncompressed .npz format."
   ]
  },
  {
   "cell_type": "code",
   "execution_count": null,
   "metadata": {},
   "outputs": [],
   "source": [
    "# now let's load it\n",
    "loaded_arr = np.load('randint_matrik.npy')\n",
    "loaded_multi = np.load('multiple_randint_matrik.npz')\n",
    "\n",
    "print(loaded_arr)\n",
    "print('')\n",
    "print(loaded_multi)"
   ]
  },
  {
   "cell_type": "markdown",
   "metadata": {},
   "source": [
    "-   We see that .npy file has been loaded but the .npz file is returning\n",
    "    a memory location.\n",
    "-   Let's see how to load the values stored in .npz file."
   ]
  },
  {
   "cell_type": "code",
   "execution_count": 99,
   "metadata": {},
   "outputs": [
    {
     "ename": "NameError",
     "evalue": "name 'loaded_multi' is not defined",
     "output_type": "error",
     "traceback": [
      "\u001b[1;31m---------------------------------------------------------------------------\u001b[0m",
      "\u001b[1;31mNameError\u001b[0m                                 Traceback (most recent call last)",
      "\u001b[1;32md:\\Latihan Python\\Python_for_Data_Science_NumPy.ipynb Cell 114\u001b[0m line \u001b[0;36m1\n\u001b[1;32m----> <a href='vscode-notebook-cell:/d%3A/Latihan%20Python/Python_for_Data_Science_NumPy.ipynb#Y356sZmlsZQ%3D%3D?line=0'>1</a>\u001b[0m \u001b[39mprint\u001b[39m(\u001b[39m'\u001b[39m\u001b[39m1st Matrix: \u001b[39m\u001b[39m\\n\u001b[39;00m\u001b[39m'\u001b[39m,loaded_multi[\u001b[39m'\u001b[39m\u001b[39mrandint_matrix1\u001b[39m\u001b[39m'\u001b[39m])\n\u001b[0;32m      <a href='vscode-notebook-cell:/d%3A/Latihan%20Python/Python_for_Data_Science_NumPy.ipynb#Y356sZmlsZQ%3D%3D?line=1'>2</a>\u001b[0m \u001b[39mprint\u001b[39m(\u001b[39m'\u001b[39m\u001b[39m2nd Matrix: \u001b[39m\u001b[39m\\n\u001b[39;00m\u001b[39m'\u001b[39m,loaded_multi[\u001b[39m'\u001b[39m\u001b[39mrandint_matrix2\u001b[39m\u001b[39m'\u001b[39m])\n\u001b[0;32m      <a href='vscode-notebook-cell:/d%3A/Latihan%20Python/Python_for_Data_Science_NumPy.ipynb#Y356sZmlsZQ%3D%3D?line=3'>4</a>\u001b[0m new_matrix  \u001b[39m=\u001b[39m loaded_multi[\u001b[39m'\u001b[39m\u001b[39mrandint_matrix1\u001b[39m\u001b[39m'\u001b[39m]\n",
      "\u001b[1;31mNameError\u001b[0m: name 'loaded_multi' is not defined"
     ]
    }
   ],
   "source": [
    "print('1st Matrix: \\n',loaded_multi['randint_matrix1'])\n",
    "print('2nd Matrix: \\n',loaded_multi['randint_matrix2'])\n",
    "\n",
    "new_matrix  = loaded_multi['randint_matrix1']\n",
    "print('New Matrix: \\n',new_matrix)"
   ]
  },
  {
   "cell_type": "code",
   "execution_count": null,
   "metadata": {},
   "outputs": [],
   "source": [
    "# we can also save/load text files...but only single variables\n",
    "np.savetxt('text_file_name.txt',randint_matrix1,delimiter=',')\n",
    "rand_mat_txt = np.loadtxt('text_file_name.txt',delimiter=',')\n",
    "print(randint_matrix1)\n",
    "print('')\n",
    "print(rand_mat_txt)"
   ]
  }
 ],
 "metadata": {
  "kernelspec": {
   "display_name": "Python 3",
   "language": "python",
   "name": "python3"
  },
  "language_info": {
   "codemirror_mode": {
    "name": "ipython",
    "version": 3
   },
   "file_extension": ".py",
   "mimetype": "text/x-python",
   "name": "python",
   "nbconvert_exporter": "python",
   "pygments_lexer": "ipython3",
   "version": "3.10.11"
  }
 },
 "nbformat": 4,
 "nbformat_minor": 5
}
