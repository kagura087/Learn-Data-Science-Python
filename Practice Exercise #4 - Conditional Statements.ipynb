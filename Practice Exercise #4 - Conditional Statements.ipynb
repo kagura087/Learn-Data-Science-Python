{
 "cells": [
  {
   "cell_type": "markdown",
   "metadata": {},
   "source": [
    "# **CONDITIONAL STATEMENTS EXERCISE**"
   ]
  },
  {
   "cell_type": "markdown",
   "metadata": {},
   "source": [
    "### 1. Check if a is equal to 10, If yes, print \"Hello\", else print \"Good Bye\"\n",
    "a = 56"
   ]
  },
  {
   "cell_type": "code",
   "execution_count": 4,
   "metadata": {},
   "outputs": [
    {
     "name": "stdout",
     "output_type": "stream",
     "text": [
      "Good Bye\n"
     ]
    }
   ],
   "source": [
    "a = 56\n",
    "if a == 10:\n",
    "    print(\"Hello\")\n",
    "else:\n",
    "    print(\"Good Bye\")"
   ]
  },
  {
   "cell_type": "markdown",
   "metadata": {},
   "source": [
    "### 2. Check whether a number is even or odd\n",
    "a = 2020"
   ]
  },
  {
   "cell_type": "code",
   "execution_count": 11,
   "metadata": {},
   "outputs": [
    {
     "name": "stdout",
     "output_type": "stream",
     "text": [
      "Genap\n"
     ]
    }
   ],
   "source": [
    "a = 2020\n",
    "if a % 2 == 0:\n",
    "    print(\"Genap\")\n",
    "else:\n",
    "    print(\"Ganjil\")"
   ]
  },
  {
   "cell_type": "markdown",
   "metadata": {},
   "source": [
    "### 3.  Check whether the area of the rectangle is greater than the perimeter of the rectangle\n",
    "length = 5\n",
    "breadth = 10\n",
    "\n",
    "Hint: Area of rectangle = length * breadth \n",
    "\n",
    "Hint: Perimeter of rectangle = 2 * (length + breadth)"
   ]
  },
  {
   "cell_type": "code",
   "execution_count": 1,
   "metadata": {},
   "outputs": [
    {
     "name": "stdout",
     "output_type": "stream",
     "text": [
      "Area rectangle greater than the perimeter of the rectangle\n"
     ]
    }
   ],
   "source": [
    "length = 5\n",
    "breadth = 10\n",
    "area = length * breadth\n",
    "perimeter = 2 * (length + breadth)\n",
    "\n",
    "if area == length:\n",
    "    print(\"Area rectangle equal perimeter of the rectangle\")\n",
    "elif area > length:\n",
    "    print(\"Area rectangle greater than the perimeter of the rectangle\")\n",
    "else:\n",
    "    print(\"Area rectangle lowest than the perimeter of the rectangle\")"
   ]
  },
  {
   "cell_type": "markdown",
   "metadata": {},
   "source": [
    "### 4. Calculate the average marks of a student in 5 subjects and give grades accordingly:\n",
    "If average>90 then Grade = A\n",
    "\n",
    "If average>80 then Grade = B\n",
    "\n",
    "If average>70 then Grade = C\n",
    "\n",
    "If average>60 then Grade = D\n",
    "\n",
    "If average>50 then Grade = E\n",
    "\n",
    "else Fail\n",
    "\n",
    "Marks in subject 1= 72\n",
    "\n",
    "Marks in subject 2= 85\n",
    "\n",
    "Marks in subject 3= 96\n",
    "\n",
    "Marks in subject 4= 42\n",
    "\n",
    "Marks in subject 5= 95"
   ]
  },
  {
   "cell_type": "code",
   "execution_count": 1,
   "metadata": {},
   "outputs": [
    {
     "name": "stdout",
     "output_type": "stream",
     "text": [
      "Nama\t:  yudi\n",
      "Prodi\t:  ptik\n",
      "NIM\t:  41\n",
      "Selamat Kepada yudi Kamu Mendapatkan Nilai C\n"
     ]
    }
   ],
   "source": [
    "Name = str(input(\"Masukkan Name\\t: \"))\n",
    "Prodi = str(input(\"Masukkan Prodi\\t: \"))\n",
    "NIM = int(input(\"Masukkan NIM\\t: \"))\n",
    "\n",
    "print(\"Nama\\t: \", Name)\n",
    "print(\"Prodi\\t: \", Prodi)\n",
    "print(\"NIM\\t: \", NIM)\n",
    "\n",
    "Subject1 = float(input(\"Masukkan Nilai Subject1\\t: \"))\n",
    "Subject2 = float(input(\"Masukkan Nilai Subject2\\t: \"))\n",
    "Subject3 = float(input(\"Masukkan Nilai Subject3\\t: \"))\n",
    "Subject4 = float(input(\"Masukkan Nilai Subject4\\t: \"))\n",
    "Subject5 = float(input(\"Masukkan Nilai Subject5\\t: \"))\n",
    "\n",
    "average = (Subject1 + Subject2 + Subject3 + Subject4 + Subject5)/5\n",
    "\n",
    "if average > 90:\n",
    "    print(\"Selamat Kepada %s\" %Name, \"Kamu Mendapatkan Nilai A\")\n",
    "elif average > 80:\n",
    "    print(\"Selamat Kepada %s\" %Name, \"Kamu Mendapatkan Nilai B\")\n",
    "elif average > 70:\n",
    "    print(\"Selamat Kepada %s\" %Name, \"Kamu Mendapatkan Nilai C\")\n",
    "elif average > 60:\n",
    "    print(\"Selamat Kepada %s\" %Name, \"Kamu Mendapatkan Nilai D\")\n",
    "elif average > 50:\n",
    "    print(\"Selamat Kepada %s\" %Name, \"Kamu Dapat E untuk Engineer\")\n",
    "else:\n",
    "    print(\"Selamat Kepada %s\" %Name, \"Kamu Tidak Cocok Jadi Anak Teknik\")"
   ]
  },
  {
   "cell_type": "markdown",
   "metadata": {},
   "source": [
    "###  5. Check if a triangle is equilateral, isosceles or scalene.\n",
    "\n",
    "Hint :\n",
    "1. An equilateral triangle is a triangle in which all three sides are equal.\n",
    "\n",
    "2. A scalene triangle is a triangle that has three unequal sides.\n",
    "\n",
    "3. An isosceles triangle is a triangle with (at least) two equal sides.\n",
    "\n",
    "Dimensions of triangle:\n",
    "\n",
    "side 1 = 6 \n",
    "\n",
    "side 2 = 8 \n",
    "\n",
    "side 3 = 12"
   ]
  },
  {
   "cell_type": "code",
   "execution_count": 3,
   "metadata": {},
   "outputs": [
    {
     "name": "stdout",
     "output_type": "stream",
     "text": [
      "Segitiga Sama Sisi/ Equilateral Triangle\n"
     ]
    }
   ],
   "source": [
    "Side1 = 6\n",
    "Side2 = 8\n",
    "Side3 = 12\n",
    "\n",
    "if Side1 == Side2 == Side3:\n",
    "    print(\"Segitiga Sama Sisi/ Equilateral Triangle\")\n",
    "elif Side1 == Side2 or Side2 == Side3 or Side3 == Side1:\n",
    "    print(\"Segitiga Sama Kaki/ Isoscalene Triangle\")\n",
    "else:\n",
    "    print(\"Segitiga Sembarang/ Scalene Triangle\")"
   ]
  },
  {
   "cell_type": "markdown",
   "metadata": {},
   "source": [
    "### 6. Check if the word \"Data\" is present in the sentence \"I am a Data Scientist\". If found print \"It is present\" else print FALSE"
   ]
  },
  {
   "cell_type": "code",
   "execution_count": 18,
   "metadata": {},
   "outputs": [
    {
     "name": "stdout",
     "output_type": "stream",
     "text": [
      "It is Present\n"
     ]
    }
   ],
   "source": [
    "sentence = \"I am a Data Scientist\"\n",
    "data = \"Data\"\n",
    "result = data in sentence\n",
    "\n",
    "if result == True:\n",
    "    print(\"It is Present\")\n",
    "else:\n",
    "    print(\"False\")"
   ]
  },
  {
   "cell_type": "markdown",
   "metadata": {},
   "source": [
    "### 7. Write Python code to check if a number is positive or negative."
   ]
  },
  {
   "cell_type": "code",
   "execution_count": 1,
   "metadata": {},
   "outputs": [
    {
     "name": "stdout",
     "output_type": "stream",
     "text": [
      "-5.0\n",
      "This number is negative\n"
     ]
    }
   ],
   "source": [
    "Number = float(input(\"Masukkan number:\"))\n",
    "print(Number)\n",
    "\n",
    "if Number < 0:\n",
    "    print(\"This number is negative\")\n",
    "else:\n",
    "    print(\"This number is positive\")"
   ]
  },
  {
   "cell_type": "markdown",
   "metadata": {},
   "source": [
    "### 8. x = 20 and y = 30. Write a Python code to check if x is less than y."
   ]
  },
  {
   "cell_type": "code",
   "execution_count": 27,
   "metadata": {},
   "outputs": [
    {
     "name": "stdout",
     "output_type": "stream",
     "text": [
      "x is less than y\n"
     ]
    }
   ],
   "source": [
    "x = 20\n",
    "y = 30\n",
    "\n",
    "if x > y:\n",
    "    print(\"x is greater than y\")\n",
    "elif x < y:\n",
    "    print(\"x is less than y\")\n",
    "else:\n",
    "    print(\"x is same than y\")"
   ]
  },
  {
   "cell_type": "markdown",
   "metadata": {},
   "source": [
    "### 9. Based on the users age, divide them into three groups \n",
    "    Group 1 : Age <18 , Minors who are not eligible to work\n",
    "    Group 2 : 18 < Age < 60 , Eligible to work\n",
    "    Group 3 : Age > 60, Too old to work as per govt. regulations. \n",
    "\n",
    "### Write a Python code for the same"
   ]
  },
  {
   "cell_type": "code",
   "execution_count": 2,
   "metadata": {},
   "outputs": [
    {
     "name": "stdout",
     "output_type": "stream",
     "text": [
      "Usia 50 \n",
      "Waw bentar lagi bau tanah\n"
     ]
    }
   ],
   "source": [
    "Age = int(input(\"Masukkan Umur: \"))\n",
    "print(\"Usia %d \" %Age)\n",
    "\n",
    "if Age < 18:\n",
    "    print(\"Group 1: Minors who are not eligible to work.\")\n",
    "elif Age == 50:\n",
    "    print(\"Waw bentar lagi bau tanah\")\n",
    "elif 18 <= Age < 60 and Age != 50:\n",
    "    print(\"Group 2: Minors who are eligible to work.\")\n",
    "else:\n",
    "    print(\"Group 3: Too old to work as per govt. regulations.\")"
   ]
  },
  {
   "cell_type": "markdown",
   "metadata": {},
   "source": [
    "### 10. From the age of 3 people determine the oldest person among them.\n",
    "Age of first person = 25\n",
    "\n",
    "Age of second person = 34\n",
    "\n",
    "Age of third person = 45"
   ]
  },
  {
   "cell_type": "code",
   "execution_count": 31,
   "metadata": {},
   "outputs": [
    {
     "name": "stdout",
     "output_type": "stream",
     "text": [
      "Third Personal the oldest person among them\n"
     ]
    }
   ],
   "source": [
    "first = 25\n",
    "second = 34\n",
    "third = 45\n",
    "\n",
    "if first > second > third or first > third > second:\n",
    "    print(\"First Personal the oldest person among them\")\n",
    "elif second > third > first or second > first > third:\n",
    "    print(\"Second Personal the oldest person among them\")\n",
    "else:\n",
    "    print(\"Third Personal the oldest person among them\")"
   ]
  }
 ],
 "metadata": {
  "kernelspec": {
   "display_name": "Python 3 (ipykernel)",
   "language": "python",
   "name": "python3"
  },
  "language_info": {
   "codemirror_mode": {
    "name": "ipython",
    "version": 3
   },
   "file_extension": ".py",
   "mimetype": "text/x-python",
   "name": "python",
   "nbconvert_exporter": "python",
   "pygments_lexer": "ipython3",
   "version": "3.10.11"
  }
 },
 "nbformat": 4,
 "nbformat_minor": 4
}
