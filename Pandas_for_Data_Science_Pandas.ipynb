{
 "cells": [
  {
   "cell_type": "code",
   "execution_count": 2,
   "metadata": {},
   "outputs": [],
   "source": [
    "# importing the libraries\n",
    "import numpy as np\n",
    "import pandas as pd"
   ]
  },
  {
   "cell_type": "markdown",
   "metadata": {},
   "source": [
    "\n",
    "### 2.6 Pandas - Series and DataFrames<a href=\"#2.6-Pandas----Series-and-DataFrames\" class=\"anchor-link\">¶</a>\n",
    "\n",
    "**Pandas Series**\n",
    "\n",
    "-   Pandas Series is a one-dimensional labeled array/list capable of\n",
    "    holding data of any type (integer, string, float, python objects,\n",
    "    etc.).\n",
    "-   The labels are collectively called index.\n",
    "-   Pandas Series can be thought as a single column of an excel\n",
    "    spreadsheet and each entry in a series corresponds to an individual\n",
    "    row in the spreadsheet."
   ]
  },
  {
   "cell_type": "code",
   "execution_count": 2,
   "metadata": {},
   "outputs": [
    {
     "name": "stdout",
     "output_type": "stream",
     "text": [
      "[55, 25, 75, 40, 90]\n",
      "[55 25 75 40 90]\n",
      "0    55\n",
      "1    25\n",
      "2    75\n",
      "3    40\n",
      "4    90\n",
      "dtype: int64\n",
      "168\n",
      "0    55\n",
      "1    25\n",
      "2    75\n",
      "3    40\n",
      "4    90\n",
      "dtype: int32\n",
      "148\n"
     ]
    }
   ],
   "source": [
    "# creating a list of price of different medicines\n",
    "med_price_list = [55,25,75,40,90]\n",
    "\n",
    "# converting the med_price_list to an array \n",
    "med_price_arr = np.array(med_price_list)\n",
    "\n",
    "# converting the list and array into a Pandas Series object  \n",
    "series_list = pd.Series(med_price_list)\n",
    "series_arr = pd.Series(med_price_arr)\n",
    "\n",
    "# printing the converted series object\n",
    "print(med_price_list)\n",
    "print(med_price_arr)\n",
    "print(series_list)\n",
    "data_64 = series_list.memory_usage(deep=True)\n",
    "print(data_64)\n",
    "print(series_arr)\n",
    "data_32 = series_arr.memory_usage(deep=True)\n",
    "print(data_32)\n"
   ]
  },
  {
   "cell_type": "markdown",
   "metadata": {},
   "source": [
    "-   We can see that the list and array have been converted to a Pandas\n",
    "    Series object.\n",
    "-   We also see that the series has automatically got index labels.\n",
    "    Let's see how these can be modified."
   ]
  },
  {
   "cell_type": "code",
   "execution_count": 3,
   "metadata": {},
   "outputs": [
    {
     "name": "stdout",
     "output_type": "stream",
     "text": [
      "Omeprazole      55\n",
      "Azithromycin    25\n",
      "Metformin       75\n",
      "Ibuprofen       40\n",
      "Cetirizine      90\n",
      "dtype: int64\n"
     ]
    }
   ],
   "source": [
    "# changing the index of a series\n",
    "med_price_list_labeled = pd.Series(med_price_list, index = ['Omeprazole','Azithromycin','Metformin','Ibuprofen','Cetirizine'])\n",
    "print(med_price_list_labeled)"
   ]
  },
  {
   "cell_type": "markdown",
   "metadata": {},
   "source": [
    "**Performing mathematical operations on Pandas Series**\n",
    "\n",
    "-   The price of each medicine was increased by \\$2.5. Let's add this to\n",
    "    the existing price."
   ]
  },
  {
   "cell_type": "code",
   "execution_count": 4,
   "metadata": {},
   "outputs": [
    {
     "data": {
      "text/plain": [
       "Omeprazole      57.5\n",
       "Azithromycin    27.5\n",
       "Metformin       77.5\n",
       "Ibuprofen       42.5\n",
       "Cetirizine      92.5\n",
       "dtype: float64"
      ]
     },
     "execution_count": 4,
     "metadata": {},
     "output_type": "execute_result"
    }
   ],
   "source": [
    "# adding 2.5 to existing prices\n",
    "med_price_list_labeled_updated = med_price_list_labeled + 2.5\n",
    "med_price_list_labeled_updated"
   ]
  },
  {
   "cell_type": "code",
   "execution_count": 5,
   "metadata": {},
   "outputs": [
    {
     "data": {
      "text/plain": [
       "Omeprazole      57.5\n",
       "Azithromycin    27.5\n",
       "Metformin       77.5\n",
       "Ibuprofen       42.5\n",
       "Cetirizine      92.5\n",
       "dtype: float64"
      ]
     },
     "execution_count": 5,
     "metadata": {},
     "output_type": "execute_result"
    }
   ],
   "source": [
    "# adding 2.5 to existing prices\n",
    "updated_price = float(input(\"Masukkan tambahan harga : \"))\n",
    "med_price_list_labeled_updated = med_price_list_labeled + updated_price\n",
    "med_price_list_labeled_updated"
   ]
  },
  {
   "cell_type": "markdown",
   "metadata": {},
   "source": [
    "-   A new price list was released by vendors for each medicine. Let's\n",
    "    find the difference between new price and the old price"
   ]
  },
  {
   "cell_type": "code",
   "execution_count": 6,
   "metadata": {},
   "outputs": [
    {
     "name": "stdout",
     "output_type": "stream",
     "text": [
      "Omeprazole       77.0\n",
      "Azithromycin     45.5\n",
      "Metformin       100.0\n",
      "Ibuprofen        50.0\n",
      "Cetirizine       80.0\n",
      "dtype: float64\n"
     ]
    }
   ],
   "source": [
    "new_price_list = [77, 45.5, 100, 50, 80]\n",
    "new_price_list_labeled = pd.Series(new_price_list, index = ['Omeprazole','Azithromycin','Metformin','Ibuprofen','Cetirizine'])\n",
    "print(new_price_list_labeled)"
   ]
  },
  {
   "cell_type": "code",
   "execution_count": 7,
   "metadata": {},
   "outputs": [
    {
     "name": "stdout",
     "output_type": "stream",
     "text": [
      "Difference between new price and old price - \n",
      "Omeprazole      19.5\n",
      "Azithromycin    18.0\n",
      "Metformin       22.5\n",
      "Ibuprofen        7.5\n",
      "Cetirizine     -12.5\n",
      "dtype: float64\n"
     ]
    }
   ],
   "source": [
    "print('Difference between new price and old price - ')\n",
    "print(new_price_list_labeled - med_price_list_labeled_updated)"
   ]
  },
  {
   "cell_type": "markdown",
   "metadata": {},
   "source": [
    "**Pandas DataFrame**\n",
    "\n",
    "Pandas DataFrame is a two-dimensional tabular data structure with\n",
    "labeled axes (rows and columns).\n",
    "\n",
    "**Creating a Pandas DataFrame using a list**"
   ]
  },
  {
   "cell_type": "code",
   "execution_count": 8,
   "metadata": {},
   "outputs": [
    {
     "data": {
      "text/html": [
       "<div>\n",
       "<style scoped>\n",
       "    .dataframe tbody tr th:only-of-type {\n",
       "        vertical-align: middle;\n",
       "    }\n",
       "\n",
       "    .dataframe tbody tr th {\n",
       "        vertical-align: top;\n",
       "    }\n",
       "\n",
       "    .dataframe thead th {\n",
       "        text-align: right;\n",
       "    }\n",
       "</style>\n",
       "<table border=\"1\" class=\"dataframe\">\n",
       "  <thead>\n",
       "    <tr style=\"text-align: right;\">\n",
       "      <th></th>\n",
       "      <th>Student</th>\n",
       "    </tr>\n",
       "  </thead>\n",
       "  <tbody>\n",
       "    <tr>\n",
       "      <th>0</th>\n",
       "      <td>Mary</td>\n",
       "    </tr>\n",
       "    <tr>\n",
       "      <th>1</th>\n",
       "      <td>Peter</td>\n",
       "    </tr>\n",
       "    <tr>\n",
       "      <th>2</th>\n",
       "      <td>Susan</td>\n",
       "    </tr>\n",
       "    <tr>\n",
       "      <th>3</th>\n",
       "      <td>Toby</td>\n",
       "    </tr>\n",
       "    <tr>\n",
       "      <th>4</th>\n",
       "      <td>Vishal</td>\n",
       "    </tr>\n",
       "  </tbody>\n",
       "</table>\n",
       "</div>"
      ],
      "text/plain": [
       "  Student\n",
       "0    Mary\n",
       "1   Peter\n",
       "2   Susan\n",
       "3    Toby\n",
       "4  Vishal"
      ]
     },
     "execution_count": 8,
     "metadata": {},
     "output_type": "execute_result"
    }
   ],
   "source": [
    "student = ['Mary', 'Peter', 'Susan', 'Toby', 'Vishal']\n",
    "df1 = pd.DataFrame(student,columns=['Student'])\n",
    "df1"
   ]
  },
  {
   "cell_type": "code",
   "execution_count": 40,
   "metadata": {},
   "outputs": [
    {
     "data": {
      "text/plain": [
       "pandas.core.frame.DataFrame"
      ]
     },
     "execution_count": 40,
     "metadata": {},
     "output_type": "execute_result"
    }
   ],
   "source": [
    "type(df1)"
   ]
  },
  {
   "cell_type": "markdown",
   "metadata": {},
   "source": [
    "**Creating a Pandas DataFrame using a dictionary**"
   ]
  },
  {
   "cell_type": "code",
   "execution_count": 9,
   "metadata": {},
   "outputs": [
    {
     "data": {
      "text/html": [
       "<div>\n",
       "<style scoped>\n",
       "    .dataframe tbody tr th:only-of-type {\n",
       "        vertical-align: middle;\n",
       "    }\n",
       "\n",
       "    .dataframe tbody tr th {\n",
       "        vertical-align: top;\n",
       "    }\n",
       "\n",
       "    .dataframe thead th {\n",
       "        text-align: right;\n",
       "    }\n",
       "</style>\n",
       "<table border=\"1\" class=\"dataframe\">\n",
       "  <thead>\n",
       "    <tr style=\"text-align: right;\">\n",
       "      <th></th>\n",
       "      <th>Student</th>\n",
       "      <th>Grade</th>\n",
       "      <th>Prodi</th>\n",
       "    </tr>\n",
       "  </thead>\n",
       "  <tbody>\n",
       "    <tr>\n",
       "      <th>0</th>\n",
       "      <td>Mary</td>\n",
       "      <td>B-</td>\n",
       "      <td>PTIK</td>\n",
       "    </tr>\n",
       "    <tr>\n",
       "      <th>1</th>\n",
       "      <td>Peter</td>\n",
       "      <td>A+</td>\n",
       "      <td>TE</td>\n",
       "    </tr>\n",
       "    <tr>\n",
       "      <th>2</th>\n",
       "      <td>Susan</td>\n",
       "      <td>A-</td>\n",
       "      <td>PTE</td>\n",
       "    </tr>\n",
       "    <tr>\n",
       "      <th>3</th>\n",
       "      <td>Toby</td>\n",
       "      <td>B+</td>\n",
       "      <td>TK</td>\n",
       "    </tr>\n",
       "    <tr>\n",
       "      <th>4</th>\n",
       "      <td>Vishal</td>\n",
       "      <td>C</td>\n",
       "      <td>SI</td>\n",
       "    </tr>\n",
       "  </tbody>\n",
       "</table>\n",
       "</div>"
      ],
      "text/plain": [
       "  Student Grade Prodi\n",
       "0    Mary    B-  PTIK\n",
       "1   Peter    A+    TE\n",
       "2   Susan    A-   PTE\n",
       "3    Toby    B+    TK\n",
       "4  Vishal     C    SI"
      ]
     },
     "execution_count": 9,
     "metadata": {},
     "output_type": "execute_result"
    }
   ],
   "source": [
    "# defining another list\n",
    "grades = ['B-','A+','A-', 'B+', 'C']\n",
    "prodi = ['PTIK','TE','PTE', 'TK', 'SI']\n",
    "\n",
    "# creating the dataframe using a dictionary\n",
    "df2 = pd.DataFrame({'Student':student,'Grade':grades, 'Prodi':prodi})\n",
    "df2"
   ]
  },
  {
   "cell_type": "markdown",
   "metadata": {},
   "source": [
    "**Creating a Pandas DataFrame using Series**\n",
    "\n",
    "The data for total energy consumption for the U.S. was collected from\n",
    "2012 - 2018. Let's see how this data can be presented in form of data\n",
    "frame."
   ]
  },
  {
   "cell_type": "code",
   "execution_count": 50,
   "metadata": {},
   "outputs": [
    {
     "data": {
      "text/html": [
       "<div>\n",
       "<style scoped>\n",
       "    .dataframe tbody tr th:only-of-type {\n",
       "        vertical-align: middle;\n",
       "    }\n",
       "\n",
       "    .dataframe tbody tr th {\n",
       "        vertical-align: top;\n",
       "    }\n",
       "\n",
       "    .dataframe thead th {\n",
       "        text-align: right;\n",
       "    }\n",
       "</style>\n",
       "<table border=\"1\" class=\"dataframe\">\n",
       "  <thead>\n",
       "    <tr style=\"text-align: right;\">\n",
       "      <th></th>\n",
       "      <th>Year</th>\n",
       "      <th>Energy_Consumption(Mtoe)</th>\n",
       "    </tr>\n",
       "  </thead>\n",
       "  <tbody>\n",
       "    <tr>\n",
       "      <th>0</th>\n",
       "      <td>2012</td>\n",
       "      <td>2152</td>\n",
       "    </tr>\n",
       "    <tr>\n",
       "      <th>1</th>\n",
       "      <td>2013</td>\n",
       "      <td>2196</td>\n",
       "    </tr>\n",
       "    <tr>\n",
       "      <th>2</th>\n",
       "      <td>2014</td>\n",
       "      <td>2217</td>\n",
       "    </tr>\n",
       "    <tr>\n",
       "      <th>3</th>\n",
       "      <td>2015</td>\n",
       "      <td>2194</td>\n",
       "    </tr>\n",
       "    <tr>\n",
       "      <th>4</th>\n",
       "      <td>2016</td>\n",
       "      <td>2172</td>\n",
       "    </tr>\n",
       "    <tr>\n",
       "      <th>5</th>\n",
       "      <td>2017</td>\n",
       "      <td>2180</td>\n",
       "    </tr>\n",
       "    <tr>\n",
       "      <th>6</th>\n",
       "      <td>2018</td>\n",
       "      <td>2258</td>\n",
       "    </tr>\n",
       "  </tbody>\n",
       "</table>\n",
       "</div>"
      ],
      "text/plain": [
       "   Year  Energy_Consumption(Mtoe)\n",
       "0  2012                      2152\n",
       "1  2013                      2196\n",
       "2  2014                      2217\n",
       "3  2015                      2194\n",
       "4  2016                      2172\n",
       "5  2017                      2180\n",
       "6  2018                      2258"
      ]
     },
     "execution_count": 50,
     "metadata": {},
     "output_type": "execute_result"
    }
   ],
   "source": [
    "year = pd.Series([2012,2013,2014,2015,2016,2017,2018])\n",
    "energy_consumption = pd.Series([2152,2196,2217,2194,2172,2180,2258])\n",
    "\n",
    "df3 = pd.DataFrame({'Year':year,'Energy_Consumption(Mtoe)':energy_consumption})\n",
    "df3"
   ]
  },
  {
   "cell_type": "markdown",
   "metadata": {},
   "source": [
    "**Creating a Pandas DataFrame using random values**\n",
    "\n",
    "For encryption purposes a web browser company wants to generate random\n",
    "values which have mean equal to 0 and variance equal to 1. They want 5\n",
    "randomly generated numbers in 2 different trials."
   ]
  },
  {
   "cell_type": "code",
   "execution_count": 10,
   "metadata": {},
   "outputs": [
    {
     "data": {
      "text/html": [
       "<div>\n",
       "<style scoped>\n",
       "    .dataframe tbody tr th:only-of-type {\n",
       "        vertical-align: middle;\n",
       "    }\n",
       "\n",
       "    .dataframe tbody tr th {\n",
       "        vertical-align: top;\n",
       "    }\n",
       "\n",
       "    .dataframe thead th {\n",
       "        text-align: right;\n",
       "    }\n",
       "</style>\n",
       "<table border=\"1\" class=\"dataframe\">\n",
       "  <thead>\n",
       "    <tr style=\"text-align: right;\">\n",
       "      <th></th>\n",
       "      <th>Trial 1</th>\n",
       "      <th>Trial 2</th>\n",
       "    </tr>\n",
       "  </thead>\n",
       "  <tbody>\n",
       "    <tr>\n",
       "      <th>0</th>\n",
       "      <td>1.465895</td>\n",
       "      <td>2.262892</td>\n",
       "    </tr>\n",
       "    <tr>\n",
       "      <th>1</th>\n",
       "      <td>0.583972</td>\n",
       "      <td>-0.371737</td>\n",
       "    </tr>\n",
       "    <tr>\n",
       "      <th>2</th>\n",
       "      <td>-0.376519</td>\n",
       "      <td>0.718420</td>\n",
       "    </tr>\n",
       "    <tr>\n",
       "      <th>3</th>\n",
       "      <td>-0.413693</td>\n",
       "      <td>-0.536661</td>\n",
       "    </tr>\n",
       "    <tr>\n",
       "      <th>4</th>\n",
       "      <td>2.378686</td>\n",
       "      <td>-0.075556</td>\n",
       "    </tr>\n",
       "  </tbody>\n",
       "</table>\n",
       "</div>"
      ],
      "text/plain": [
       "    Trial 1   Trial 2\n",
       "0  1.465895  2.262892\n",
       "1  0.583972 -0.371737\n",
       "2 -0.376519  0.718420\n",
       "3 -0.413693 -0.536661\n",
       "4  2.378686 -0.075556"
      ]
     },
     "execution_count": 10,
     "metadata": {},
     "output_type": "execute_result"
    }
   ],
   "source": [
    "# we can create a new dataframe using random values \n",
    "df4 = pd.DataFrame(np.random.randn(5,2),columns = ['Trial 1', 'Trial 2'])\n",
    "df4"
   ]
  },
  {
   "cell_type": "markdown",
   "metadata": {},
   "source": [
    "### 2.7 Pandas - Accessing and Modifying<a href=\"#2.7-Pandas---Accessing-and-Modifying\" class=\"anchor-link\">¶</a>\n",
    "\n",
    "**Accessing Series**\n",
    "\n",
    "The revenue (in billion dollars) of different telecommunication\n",
    "operators in U.S. was collected for the year of 2020. The following\n",
    "lists consist of the names of the telecommunication operators and their\n",
    "respective revenue (in billion dollars).\n"
   ]
  },
  {
   "cell_type": "code",
   "execution_count": 11,
   "metadata": {},
   "outputs": [
    {
     "data": {
      "text/plain": [
       "AT&T           171.76\n",
       "Verizon        128.29\n",
       "T-Mobile US     68.40\n",
       "US Cellular      4.04\n",
       "dtype: float64"
      ]
     },
     "execution_count": 11,
     "metadata": {},
     "output_type": "execute_result"
    }
   ],
   "source": [
    "operators = ['AT&T', 'Verizon', 'T-Mobile US', 'US Cellular']\n",
    "revenue = [171.76, 128.29, 68.4, 4.04]\n",
    "\n",
    "#creating a Series from lists\n",
    "telecom = pd.Series(revenue, index=operators)\n",
    "telecom\n"
   ]
  },
  {
   "cell_type": "markdown",
   "metadata": {},
   "source": [
    "**Accessing Pandas Series using its index**"
   ]
  },
  {
   "cell_type": "code",
   "execution_count": 12,
   "metadata": {},
   "outputs": [
    {
     "name": "stderr",
     "output_type": "stream",
     "text": [
      "C:\\Users\\acer\\AppData\\Local\\Temp\\ipykernel_12792\\202520311.py:2: FutureWarning: Series.__getitem__ treating keys as positions is deprecated. In a future version, integer keys will always be treated as labels (consistent with DataFrame behavior). To access a value by position, use `ser.iloc[pos]`\n",
      "  telecom[0]\n"
     ]
    },
    {
     "data": {
      "text/plain": [
       "171.76"
      ]
     },
     "execution_count": 12,
     "metadata": {},
     "output_type": "execute_result"
    }
   ],
   "source": [
    "# accessing the first element of series \n",
    "telecom[0]"
   ]
  },
  {
   "cell_type": "code",
   "execution_count": 13,
   "metadata": {},
   "outputs": [
    {
     "data": {
      "text/plain": [
       "AT&T           171.76\n",
       "Verizon        128.29\n",
       "T-Mobile US     68.40\n",
       "dtype: float64"
      ]
     },
     "execution_count": 13,
     "metadata": {},
     "output_type": "execute_result"
    }
   ],
   "source": [
    "#  accessing firt 3 elements of a series\n",
    "telecom[:3]\n"
   ]
  },
  {
   "cell_type": "code",
   "execution_count": 14,
   "metadata": {},
   "outputs": [
    {
     "data": {
      "text/plain": [
       "Verizon        128.29\n",
       "T-Mobile US     68.40\n",
       "dtype: float64"
      ]
     },
     "execution_count": 14,
     "metadata": {},
     "output_type": "execute_result"
    }
   ],
   "source": [
    "#  accessing 1 - 3 elements of a series\n",
    "telecom[1:3]"
   ]
  },
  {
   "cell_type": "code",
   "execution_count": 15,
   "metadata": {},
   "outputs": [
    {
     "data": {
      "text/plain": [
       "T-Mobile US    68.40\n",
       "US Cellular     4.04\n",
       "dtype: float64"
      ]
     },
     "execution_count": 15,
     "metadata": {},
     "output_type": "execute_result"
    }
   ],
   "source": [
    "# accessing the last two elements of a series\n",
    "telecom[-2:]"
   ]
  },
  {
   "cell_type": "code",
   "execution_count": 16,
   "metadata": {},
   "outputs": [
    {
     "name": "stderr",
     "output_type": "stream",
     "text": [
      "C:\\Users\\acer\\AppData\\Local\\Temp\\ipykernel_12792\\3246025076.py:2: FutureWarning: Series.__getitem__ treating keys as positions is deprecated. In a future version, integer keys will always be treated as labels (consistent with DataFrame behavior). To access a value by position, use `ser.iloc[pos]`\n",
      "  telecom[[0,2,3]]\n"
     ]
    },
    {
     "data": {
      "text/plain": [
       "AT&T           171.76\n",
       "T-Mobile US     68.40\n",
       "US Cellular      4.04\n",
       "dtype: float64"
      ]
     },
     "execution_count": 16,
     "metadata": {},
     "output_type": "execute_result"
    }
   ],
   "source": [
    "# accessing multiple elements of a series\n",
    "telecom[[0,2,3]]"
   ]
  },
  {
   "cell_type": "markdown",
   "metadata": {},
   "source": [
    "**Accessing Pandas Series using its labeled index**"
   ]
  },
  {
   "cell_type": "code",
   "execution_count": 17,
   "metadata": {},
   "outputs": [
    {
     "data": {
      "text/plain": [
       "171.76"
      ]
     },
     "execution_count": 17,
     "metadata": {},
     "output_type": "execute_result"
    }
   ],
   "source": [
    "# accessing the revenue of AT&T\n",
    "telecom['AT&T']"
   ]
  },
  {
   "cell_type": "code",
   "execution_count": 18,
   "metadata": {},
   "outputs": [
    {
     "data": {
      "text/plain": [
       "AT&T           171.76\n",
       "Verizon        128.29\n",
       "T-Mobile US     68.40\n",
       "dtype: float64"
      ]
     },
     "execution_count": 18,
     "metadata": {},
     "output_type": "execute_result"
    }
   ],
   "source": [
    "#  accessing firt 3 revenues of operators in the series\n",
    "telecom[:'T-Mobile US']"
   ]
  },
  {
   "cell_type": "code",
   "execution_count": 19,
   "metadata": {},
   "outputs": [
    {
     "data": {
      "text/plain": [
       "AT&T           171.76\n",
       "US Cellular      4.04\n",
       "Verizon        128.29\n",
       "dtype: float64"
      ]
     },
     "execution_count": 19,
     "metadata": {},
     "output_type": "execute_result"
    }
   ],
   "source": [
    "# accessing multiple values\n",
    "telecom[['AT&T','US Cellular','Verizon']]"
   ]
  },
  {
   "cell_type": "markdown",
   "metadata": {},
   "source": [
    "**Accessing DataFrames**\n",
    "\n",
    "The data of the customers visiting 24/7 Stores from different locations\n",
    "was collected. The data includes Customer ID, location of store, gender\n",
    "of the customer, type of product purchased, quantity of products\n",
    "purchased, total bill amount. Let's create the dataset and see how to\n",
    "access different entries of it."
   ]
  },
  {
   "cell_type": "code",
   "execution_count": 89,
   "metadata": {},
   "outputs": [
    {
     "data": {
      "text/html": [
       "<div>\n",
       "<style scoped>\n",
       "    .dataframe tbody tr th:only-of-type {\n",
       "        vertical-align: middle;\n",
       "    }\n",
       "\n",
       "    .dataframe tbody tr th {\n",
       "        vertical-align: top;\n",
       "    }\n",
       "\n",
       "    .dataframe thead th {\n",
       "        text-align: right;\n",
       "    }\n",
       "</style>\n",
       "<table border=\"1\" class=\"dataframe\">\n",
       "  <thead>\n",
       "    <tr style=\"text-align: right;\">\n",
       "      <th></th>\n",
       "      <th>CustomerID</th>\n",
       "      <th>location</th>\n",
       "      <th>gender</th>\n",
       "      <th>type</th>\n",
       "      <th>quantity</th>\n",
       "      <th>total_bill</th>\n",
       "    </tr>\n",
       "  </thead>\n",
       "  <tbody>\n",
       "    <tr>\n",
       "      <th>0</th>\n",
       "      <td>CustID00</td>\n",
       "      <td>Chicago</td>\n",
       "      <td>M</td>\n",
       "      <td>Electronics</td>\n",
       "      <td>1</td>\n",
       "      <td>100</td>\n",
       "    </tr>\n",
       "    <tr>\n",
       "      <th>1</th>\n",
       "      <td>CustID01</td>\n",
       "      <td>Boston</td>\n",
       "      <td>M</td>\n",
       "      <td>Food&amp;Beverages</td>\n",
       "      <td>3</td>\n",
       "      <td>75</td>\n",
       "    </tr>\n",
       "    <tr>\n",
       "      <th>2</th>\n",
       "      <td>CustID02</td>\n",
       "      <td>Seattle</td>\n",
       "      <td>F</td>\n",
       "      <td>Food&amp;Beverages</td>\n",
       "      <td>4</td>\n",
       "      <td>125</td>\n",
       "    </tr>\n",
       "    <tr>\n",
       "      <th>3</th>\n",
       "      <td>CustID03</td>\n",
       "      <td>San Francisco</td>\n",
       "      <td>M</td>\n",
       "      <td>Medicine</td>\n",
       "      <td>2</td>\n",
       "      <td>50</td>\n",
       "    </tr>\n",
       "    <tr>\n",
       "      <th>4</th>\n",
       "      <td>CustID04</td>\n",
       "      <td>Austin</td>\n",
       "      <td>F</td>\n",
       "      <td>Beauty</td>\n",
       "      <td>1</td>\n",
       "      <td>80</td>\n",
       "    </tr>\n",
       "  </tbody>\n",
       "</table>\n",
       "</div>"
      ],
      "text/plain": [
       "  CustomerID       location gender            type  quantity  total_bill\n",
       "0   CustID00        Chicago      M     Electronics         1         100\n",
       "1   CustID01         Boston      M  Food&Beverages         3          75\n",
       "2   CustID02        Seattle      F  Food&Beverages         4         125\n",
       "3   CustID03  San Francisco      M        Medicine         2          50\n",
       "4   CustID04         Austin      F          Beauty         1          80"
      ]
     },
     "execution_count": 89,
     "metadata": {},
     "output_type": "execute_result"
    }
   ],
   "source": [
    "# creating the dataframe using dictionary\n",
    "store_data = pd.DataFrame({'CustomerID': ['CustID00','CustID01','CustID02','CustID03','CustID04']\n",
    "                               ,'location': ['Chicago', 'Boston', 'Seattle', 'San Francisco', 'Austin']\n",
    "                               ,'gender': ['M','M','F','M','F']\n",
    "                               ,'type': ['Electronics','Food&Beverages','Food&Beverages','Medicine','Beauty']\n",
    "                               ,'quantity':[1,3,4,2,1],'total_bill':[100,75,125,50,80]})\n",
    "store_data"
   ]
  },
  {
   "cell_type": "code",
   "execution_count": 21,
   "metadata": {},
   "outputs": [
    {
     "data": {
      "text/html": [
       "<div>\n",
       "<style scoped>\n",
       "    .dataframe tbody tr th:only-of-type {\n",
       "        vertical-align: middle;\n",
       "    }\n",
       "\n",
       "    .dataframe tbody tr th {\n",
       "        vertical-align: top;\n",
       "    }\n",
       "\n",
       "    .dataframe thead th {\n",
       "        text-align: right;\n",
       "    }\n",
       "</style>\n",
       "<table border=\"1\" class=\"dataframe\">\n",
       "  <thead>\n",
       "    <tr style=\"text-align: right;\">\n",
       "      <th></th>\n",
       "      <th>CustomerID</th>\n",
       "      <th>location</th>\n",
       "      <th>gender</th>\n",
       "      <th>type</th>\n",
       "      <th>quantity</th>\n",
       "      <th>total_bill</th>\n",
       "    </tr>\n",
       "  </thead>\n",
       "  <tbody>\n",
       "    <tr>\n",
       "      <th>0</th>\n",
       "      <td>CustID00</td>\n",
       "      <td>Chicago</td>\n",
       "      <td>M</td>\n",
       "      <td>Electronics</td>\n",
       "      <td>1</td>\n",
       "      <td>100</td>\n",
       "    </tr>\n",
       "  </tbody>\n",
       "</table>\n",
       "</div>"
      ],
      "text/plain": [
       "  CustomerID location gender         type  quantity  total_bill\n",
       "0   CustID00  Chicago      M  Electronics         1         100"
      ]
     },
     "execution_count": 21,
     "metadata": {},
     "output_type": "execute_result"
    }
   ],
   "source": [
    "# accessing first row of the dataframe\n",
    "store_data[:1]"
   ]
  },
  {
   "cell_type": "code",
   "execution_count": 22,
   "metadata": {},
   "outputs": [
    {
     "data": {
      "text/plain": [
       "0          Chicago\n",
       "1           Boston\n",
       "2          Seattle\n",
       "3    San Francisco\n",
       "4           Austin\n",
       "Name: location, dtype: object"
      ]
     },
     "execution_count": 22,
     "metadata": {},
     "output_type": "execute_result"
    }
   ],
   "source": [
    "# accessing first column of the dataframe\n",
    "store_data['location']"
   ]
  },
  {
   "cell_type": "code",
   "execution_count": 143,
   "metadata": {},
   "outputs": [
    {
     "data": {
      "text/html": [
       "<div>\n",
       "<style scoped>\n",
       "    .dataframe tbody tr th:only-of-type {\n",
       "        vertical-align: middle;\n",
       "    }\n",
       "\n",
       "    .dataframe tbody tr th {\n",
       "        vertical-align: top;\n",
       "    }\n",
       "\n",
       "    .dataframe thead th {\n",
       "        text-align: right;\n",
       "    }\n",
       "</style>\n",
       "<table border=\"1\" class=\"dataframe\">\n",
       "  <thead>\n",
       "    <tr style=\"text-align: right;\">\n",
       "      <th></th>\n",
       "      <th>CustomerID</th>\n",
       "      <th>location</th>\n",
       "      <th>gender</th>\n",
       "      <th>type</th>\n",
       "      <th>quantity</th>\n",
       "      <th>total_bill</th>\n",
       "    </tr>\n",
       "  </thead>\n",
       "  <tbody>\n",
       "    <tr>\n",
       "      <th>0</th>\n",
       "      <td>CustID00</td>\n",
       "      <td>Chicago</td>\n",
       "      <td>M</td>\n",
       "      <td>Electronics</td>\n",
       "      <td>1</td>\n",
       "      <td>100</td>\n",
       "    </tr>\n",
       "    <tr>\n",
       "      <th>2</th>\n",
       "      <td>CustID02</td>\n",
       "      <td>Seattle</td>\n",
       "      <td>F</td>\n",
       "      <td>Food&amp;Beverages</td>\n",
       "      <td>4</td>\n",
       "      <td>125</td>\n",
       "    </tr>\n",
       "    <tr>\n",
       "      <th>4</th>\n",
       "      <td>CustID04</td>\n",
       "      <td>Austin</td>\n",
       "      <td>F</td>\n",
       "      <td>Beauty</td>\n",
       "      <td>1</td>\n",
       "      <td>80</td>\n",
       "    </tr>\n",
       "  </tbody>\n",
       "</table>\n",
       "</div>"
      ],
      "text/plain": [
       "  CustomerID location gender            type  quantity  total_bill\n",
       "0   CustID00  Chicago      M     Electronics         1         100\n",
       "2   CustID02  Seattle      F  Food&Beverages         4         125\n",
       "4   CustID04   Austin      F          Beauty         1          80"
      ]
     },
     "execution_count": 143,
     "metadata": {},
     "output_type": "execute_result"
    }
   ],
   "source": [
    "# accessing rows with the step size of 2\n",
    "store_data[::2] "
   ]
  },
  {
   "cell_type": "code",
   "execution_count": 23,
   "metadata": {},
   "outputs": [
    {
     "data": {
      "text/html": [
       "<div>\n",
       "<style scoped>\n",
       "    .dataframe tbody tr th:only-of-type {\n",
       "        vertical-align: middle;\n",
       "    }\n",
       "\n",
       "    .dataframe tbody tr th {\n",
       "        vertical-align: top;\n",
       "    }\n",
       "\n",
       "    .dataframe thead th {\n",
       "        text-align: right;\n",
       "    }\n",
       "</style>\n",
       "<table border=\"1\" class=\"dataframe\">\n",
       "  <thead>\n",
       "    <tr style=\"text-align: right;\">\n",
       "      <th></th>\n",
       "      <th>CustomerID</th>\n",
       "      <th>location</th>\n",
       "      <th>gender</th>\n",
       "      <th>type</th>\n",
       "      <th>quantity</th>\n",
       "      <th>total_bill</th>\n",
       "    </tr>\n",
       "  </thead>\n",
       "  <tbody>\n",
       "    <tr>\n",
       "      <th>4</th>\n",
       "      <td>CustID04</td>\n",
       "      <td>Austin</td>\n",
       "      <td>F</td>\n",
       "      <td>Beauty</td>\n",
       "      <td>1</td>\n",
       "      <td>80</td>\n",
       "    </tr>\n",
       "    <tr>\n",
       "      <th>2</th>\n",
       "      <td>CustID02</td>\n",
       "      <td>Seattle</td>\n",
       "      <td>F</td>\n",
       "      <td>Food&amp;Beverages</td>\n",
       "      <td>4</td>\n",
       "      <td>125</td>\n",
       "    </tr>\n",
       "    <tr>\n",
       "      <th>0</th>\n",
       "      <td>CustID00</td>\n",
       "      <td>Chicago</td>\n",
       "      <td>M</td>\n",
       "      <td>Electronics</td>\n",
       "      <td>1</td>\n",
       "      <td>100</td>\n",
       "    </tr>\n",
       "  </tbody>\n",
       "</table>\n",
       "</div>"
      ],
      "text/plain": [
       "  CustomerID location gender            type  quantity  total_bill\n",
       "4   CustID04   Austin      F          Beauty         1          80\n",
       "2   CustID02  Seattle      F  Food&Beverages         4         125\n",
       "0   CustID00  Chicago      M     Electronics         1         100"
      ]
     },
     "execution_count": 23,
     "metadata": {},
     "output_type": "execute_result"
    }
   ],
   "source": [
    "# accessing the rows in reverse\n",
    "store_data[::-2]"
   ]
  },
  {
   "cell_type": "markdown",
   "metadata": {},
   "source": [
    "**Using loc and iloc method**\n",
    "\n",
    "**loc method**\n",
    "\n",
    "-   loc is a method to access rows and columns on pandas objects. When\n",
    "    using the loc method on a dataframe, we specify which rows and which\n",
    "    columns we want by using the following format:\n",
    "\n",
    "    -   **dataframe.loc\\[row selection, column selection\\]**\n",
    "\n",
    "-   DataFrame.loc\\[\\] method is a method that takes **only index\n",
    "    labels** and returns row or dataframe if the index label exists in\n",
    "    the data frame."
   ]
  },
  {
   "cell_type": "code",
   "execution_count": 24,
   "metadata": {},
   "outputs": [
    {
     "data": {
      "text/plain": [
       "CustomerID          CustID01\n",
       "location              Boston\n",
       "gender                     M\n",
       "type          Food&Beverages\n",
       "quantity                   3\n",
       "total_bill                75\n",
       "Name: 1, dtype: object"
      ]
     },
     "execution_count": 24,
     "metadata": {},
     "output_type": "execute_result"
    }
   ],
   "source": [
    "# accessing first index value using loc method (indexing starts from 0 in python)\n",
    "store_data.loc[1]"
   ]
  },
  {
   "cell_type": "markdown",
   "metadata": {},
   "source": [
    "**Accessing selected rows and columns using loc method**"
   ]
  },
  {
   "cell_type": "code",
   "execution_count": 26,
   "metadata": {},
   "outputs": [
    {
     "data": {
      "text/html": [
       "<div>\n",
       "<style scoped>\n",
       "    .dataframe tbody tr th:only-of-type {\n",
       "        vertical-align: middle;\n",
       "    }\n",
       "\n",
       "    .dataframe tbody tr th {\n",
       "        vertical-align: top;\n",
       "    }\n",
       "\n",
       "    .dataframe thead th {\n",
       "        text-align: right;\n",
       "    }\n",
       "</style>\n",
       "<table border=\"1\" class=\"dataframe\">\n",
       "  <thead>\n",
       "    <tr style=\"text-align: right;\">\n",
       "      <th></th>\n",
       "      <th>location</th>\n",
       "      <th>type</th>\n",
       "    </tr>\n",
       "  </thead>\n",
       "  <tbody>\n",
       "    <tr>\n",
       "      <th>1</th>\n",
       "      <td>Boston</td>\n",
       "      <td>Food&amp;Beverages</td>\n",
       "    </tr>\n",
       "    <tr>\n",
       "      <th>4</th>\n",
       "      <td>Austin</td>\n",
       "      <td>Beauty</td>\n",
       "    </tr>\n",
       "  </tbody>\n",
       "</table>\n",
       "</div>"
      ],
      "text/plain": [
       "  location            type\n",
       "1   Boston  Food&Beverages\n",
       "4   Austin          Beauty"
      ]
     },
     "execution_count": 26,
     "metadata": {},
     "output_type": "execute_result"
    }
   ],
   "source": [
    "# accessing 1st and 4th index values along with location and type columns \n",
    "store_data.loc[[1,4],['location','type']]"
   ]
  },
  {
   "cell_type": "markdown",
   "metadata": {},
   "source": [
    "**iloc method**\n",
    "\n",
    "-   The iloc indexer for Pandas Dataframe is used for **integer\n",
    "    location-based** indexing/selection by position. When using the loc\n",
    "    method on a dataframe, we specify which rows and which columns we\n",
    "    want by using the following format:\n",
    "\n",
    "    -   **dataframe.iloc\\[row selection, column selection\\]**"
   ]
  },
  {
   "cell_type": "code",
   "execution_count": 34,
   "metadata": {},
   "outputs": [
    {
     "data": {
      "text/html": [
       "<div>\n",
       "<style scoped>\n",
       "    .dataframe tbody tr th:only-of-type {\n",
       "        vertical-align: middle;\n",
       "    }\n",
       "\n",
       "    .dataframe tbody tr th {\n",
       "        vertical-align: top;\n",
       "    }\n",
       "\n",
       "    .dataframe thead th {\n",
       "        text-align: right;\n",
       "    }\n",
       "</style>\n",
       "<table border=\"1\" class=\"dataframe\">\n",
       "  <thead>\n",
       "    <tr style=\"text-align: right;\">\n",
       "      <th></th>\n",
       "      <th>CustomerID</th>\n",
       "      <th>gender</th>\n",
       "    </tr>\n",
       "  </thead>\n",
       "  <tbody>\n",
       "    <tr>\n",
       "      <th>1</th>\n",
       "      <td>CustID01</td>\n",
       "      <td>M</td>\n",
       "    </tr>\n",
       "    <tr>\n",
       "      <th>4</th>\n",
       "      <td>CustID04</td>\n",
       "      <td>F</td>\n",
       "    </tr>\n",
       "  </tbody>\n",
       "</table>\n",
       "</div>"
      ],
      "text/plain": [
       "  CustomerID gender\n",
       "1   CustID01      M\n",
       "4   CustID04      F"
      ]
     },
     "execution_count": 34,
     "metadata": {},
     "output_type": "execute_result"
    }
   ],
   "source": [
    "# accessing selected rows and columns using iloc method \n",
    "store_data.iloc[[1,4],[0,2]]"
   ]
  },
  {
   "cell_type": "markdown",
   "metadata": {},
   "source": [
    "**Difference between loc and iloc indexing methods**\n",
    "\n",
    "-   loc is label-based, which means that you have to specify rows and\n",
    "    columns based on their row and column labels.\n",
    "-   iloc is integer position-based, so you have to specify rows and\n",
    "    columns by their integer position values (0-based integer position).\n",
    "\n",
    "If we use labels instead of index values in .iloc it will throw an\n",
    "error."
   ]
  },
  {
   "cell_type": "code",
   "execution_count": 38,
   "metadata": {},
   "outputs": [
    {
     "ename": "IndexError",
     "evalue": ".iloc requires numeric indexers, got ['location' 'type']",
     "output_type": "error",
     "traceback": [
      "\u001b[1;31m---------------------------------------------------------------------------\u001b[0m",
      "\u001b[1;31mIndexError\u001b[0m                                Traceback (most recent call last)",
      "\u001b[1;32md:\\Latihan Python\\Pandas_for_Data_Science_Pandas.ipynb Cell 46\u001b[0m line \u001b[0;36m2\n\u001b[0;32m      <a href='vscode-notebook-cell:/d%3A/Latihan%20Python/Pandas_for_Data_Science_Pandas.ipynb#X63sZmlsZQ%3D%3D?line=0'>1</a>\u001b[0m \u001b[39m# accessing selected rows and columns using iloc method \u001b[39;00m\n\u001b[1;32m----> <a href='vscode-notebook-cell:/d%3A/Latihan%20Python/Pandas_for_Data_Science_Pandas.ipynb#X63sZmlsZQ%3D%3D?line=1'>2</a>\u001b[0m store_data\u001b[39m.\u001b[39;49miloc[[\u001b[39m1\u001b[39;49m,\u001b[39m4\u001b[39;49m],[\u001b[39m'\u001b[39;49m\u001b[39mlocation\u001b[39;49m\u001b[39m'\u001b[39;49m,\u001b[39m'\u001b[39;49m\u001b[39mtype\u001b[39;49m\u001b[39m'\u001b[39;49m]]\n",
      "File \u001b[1;32mc:\\Users\\acer\\AppData\\Local\\Programs\\Python\\Python310\\lib\\site-packages\\pandas\\core\\indexing.py:1184\u001b[0m, in \u001b[0;36m_LocationIndexer.__getitem__\u001b[1;34m(self, key)\u001b[0m\n\u001b[0;32m   1182\u001b[0m     \u001b[39mif\u001b[39;00m \u001b[39mself\u001b[39m\u001b[39m.\u001b[39m_is_scalar_access(key):\n\u001b[0;32m   1183\u001b[0m         \u001b[39mreturn\u001b[39;00m \u001b[39mself\u001b[39m\u001b[39m.\u001b[39mobj\u001b[39m.\u001b[39m_get_value(\u001b[39m*\u001b[39mkey, takeable\u001b[39m=\u001b[39m\u001b[39mself\u001b[39m\u001b[39m.\u001b[39m_takeable)\n\u001b[1;32m-> 1184\u001b[0m     \u001b[39mreturn\u001b[39;00m \u001b[39mself\u001b[39;49m\u001b[39m.\u001b[39;49m_getitem_tuple(key)\n\u001b[0;32m   1185\u001b[0m \u001b[39melse\u001b[39;00m:\n\u001b[0;32m   1186\u001b[0m     \u001b[39m# we by definition only have the 0th axis\u001b[39;00m\n\u001b[0;32m   1187\u001b[0m     axis \u001b[39m=\u001b[39m \u001b[39mself\u001b[39m\u001b[39m.\u001b[39maxis \u001b[39mor\u001b[39;00m \u001b[39m0\u001b[39m\n",
      "File \u001b[1;32mc:\\Users\\acer\\AppData\\Local\\Programs\\Python\\Python310\\lib\\site-packages\\pandas\\core\\indexing.py:1690\u001b[0m, in \u001b[0;36m_iLocIndexer._getitem_tuple\u001b[1;34m(self, tup)\u001b[0m\n\u001b[0;32m   1689\u001b[0m \u001b[39mdef\u001b[39;00m \u001b[39m_getitem_tuple\u001b[39m(\u001b[39mself\u001b[39m, tup: \u001b[39mtuple\u001b[39m):\n\u001b[1;32m-> 1690\u001b[0m     tup \u001b[39m=\u001b[39m \u001b[39mself\u001b[39;49m\u001b[39m.\u001b[39;49m_validate_tuple_indexer(tup)\n\u001b[0;32m   1691\u001b[0m     \u001b[39mwith\u001b[39;00m suppress(IndexingError):\n\u001b[0;32m   1692\u001b[0m         \u001b[39mreturn\u001b[39;00m \u001b[39mself\u001b[39m\u001b[39m.\u001b[39m_getitem_lowerdim(tup)\n",
      "File \u001b[1;32mc:\\Users\\acer\\AppData\\Local\\Programs\\Python\\Python310\\lib\\site-packages\\pandas\\core\\indexing.py:966\u001b[0m, in \u001b[0;36m_LocationIndexer._validate_tuple_indexer\u001b[1;34m(self, key)\u001b[0m\n\u001b[0;32m    964\u001b[0m \u001b[39mfor\u001b[39;00m i, k \u001b[39min\u001b[39;00m \u001b[39menumerate\u001b[39m(key):\n\u001b[0;32m    965\u001b[0m     \u001b[39mtry\u001b[39;00m:\n\u001b[1;32m--> 966\u001b[0m         \u001b[39mself\u001b[39;49m\u001b[39m.\u001b[39;49m_validate_key(k, i)\n\u001b[0;32m    967\u001b[0m     \u001b[39mexcept\u001b[39;00m \u001b[39mValueError\u001b[39;00m \u001b[39mas\u001b[39;00m err:\n\u001b[0;32m    968\u001b[0m         \u001b[39mraise\u001b[39;00m \u001b[39mValueError\u001b[39;00m(\n\u001b[0;32m    969\u001b[0m             \u001b[39m\"\u001b[39m\u001b[39mLocation based indexing can only have \u001b[39m\u001b[39m\"\u001b[39m\n\u001b[0;32m    970\u001b[0m             \u001b[39mf\u001b[39m\u001b[39m\"\u001b[39m\u001b[39m[\u001b[39m\u001b[39m{\u001b[39;00m\u001b[39mself\u001b[39m\u001b[39m.\u001b[39m_valid_types\u001b[39m}\u001b[39;00m\u001b[39m] types\u001b[39m\u001b[39m\"\u001b[39m\n\u001b[0;32m    971\u001b[0m         ) \u001b[39mfrom\u001b[39;00m \u001b[39merr\u001b[39;00m\n",
      "File \u001b[1;32mc:\\Users\\acer\\AppData\\Local\\Programs\\Python\\Python310\\lib\\site-packages\\pandas\\core\\indexing.py:1608\u001b[0m, in \u001b[0;36m_iLocIndexer._validate_key\u001b[1;34m(self, key, axis)\u001b[0m\n\u001b[0;32m   1606\u001b[0m \u001b[39m# check that the key has a numeric dtype\u001b[39;00m\n\u001b[0;32m   1607\u001b[0m \u001b[39mif\u001b[39;00m \u001b[39mnot\u001b[39;00m is_numeric_dtype(arr\u001b[39m.\u001b[39mdtype):\n\u001b[1;32m-> 1608\u001b[0m     \u001b[39mraise\u001b[39;00m \u001b[39mIndexError\u001b[39;00m(\u001b[39mf\u001b[39m\u001b[39m\"\u001b[39m\u001b[39m.iloc requires numeric indexers, got \u001b[39m\u001b[39m{\u001b[39;00marr\u001b[39m}\u001b[39;00m\u001b[39m\"\u001b[39m)\n\u001b[0;32m   1610\u001b[0m \u001b[39m# check that the key does not exceed the maximum size of the index\u001b[39;00m\n\u001b[0;32m   1611\u001b[0m \u001b[39mif\u001b[39;00m \u001b[39mlen\u001b[39m(arr) \u001b[39mand\u001b[39;00m (arr\u001b[39m.\u001b[39mmax() \u001b[39m>\u001b[39m\u001b[39m=\u001b[39m len_axis \u001b[39mor\u001b[39;00m arr\u001b[39m.\u001b[39mmin() \u001b[39m<\u001b[39m \u001b[39m-\u001b[39mlen_axis):\n",
      "\u001b[1;31mIndexError\u001b[0m: .iloc requires numeric indexers, got ['location' 'type']"
     ]
    }
   ],
   "source": [
    "# accessing selected rows and columns using iloc method \n",
    "store_data.iloc[[1,4],['location','type']]"
   ]
  },
  {
   "cell_type": "markdown",
   "metadata": {},
   "source": [
    "We can modify entries of a dataframe using loc or iloc too"
   ]
  },
  {
   "cell_type": "code",
   "execution_count": 46,
   "metadata": {},
   "outputs": [
    {
     "name": "stdout",
     "output_type": "stream",
     "text": [
      "Elec\n"
     ]
    }
   ],
   "source": [
    "print(store_data.loc[4,'type'])\n",
    "store_data.loc[4,'type'] = 'Electronics'"
   ]
  },
  {
   "cell_type": "code",
   "execution_count": 47,
   "metadata": {},
   "outputs": [
    {
     "data": {
      "text/html": [
       "<div>\n",
       "<style scoped>\n",
       "    .dataframe tbody tr th:only-of-type {\n",
       "        vertical-align: middle;\n",
       "    }\n",
       "\n",
       "    .dataframe tbody tr th {\n",
       "        vertical-align: top;\n",
       "    }\n",
       "\n",
       "    .dataframe thead th {\n",
       "        text-align: right;\n",
       "    }\n",
       "</style>\n",
       "<table border=\"1\" class=\"dataframe\">\n",
       "  <thead>\n",
       "    <tr style=\"text-align: right;\">\n",
       "      <th></th>\n",
       "      <th>CustomerID</th>\n",
       "      <th>location</th>\n",
       "      <th>gender</th>\n",
       "      <th>type</th>\n",
       "      <th>quantity</th>\n",
       "      <th>total_bill</th>\n",
       "    </tr>\n",
       "  </thead>\n",
       "  <tbody>\n",
       "    <tr>\n",
       "      <th>0</th>\n",
       "      <td>CustID00</td>\n",
       "      <td>Chicago</td>\n",
       "      <td>M</td>\n",
       "      <td>Electronics</td>\n",
       "      <td>1</td>\n",
       "      <td>100</td>\n",
       "    </tr>\n",
       "    <tr>\n",
       "      <th>1</th>\n",
       "      <td>CustID01</td>\n",
       "      <td>Boston</td>\n",
       "      <td>M</td>\n",
       "      <td>Food&amp;Beverages</td>\n",
       "      <td>3</td>\n",
       "      <td>75</td>\n",
       "    </tr>\n",
       "    <tr>\n",
       "      <th>2</th>\n",
       "      <td>CustID02</td>\n",
       "      <td>Seattle</td>\n",
       "      <td>F</td>\n",
       "      <td>Food&amp;Beverages</td>\n",
       "      <td>4</td>\n",
       "      <td>125</td>\n",
       "    </tr>\n",
       "    <tr>\n",
       "      <th>3</th>\n",
       "      <td>CustID03</td>\n",
       "      <td>San Francisco</td>\n",
       "      <td>M</td>\n",
       "      <td>Medicine</td>\n",
       "      <td>2</td>\n",
       "      <td>50</td>\n",
       "    </tr>\n",
       "    <tr>\n",
       "      <th>4</th>\n",
       "      <td>CustID04</td>\n",
       "      <td>Austin</td>\n",
       "      <td>F</td>\n",
       "      <td>Electronics</td>\n",
       "      <td>1</td>\n",
       "      <td>80</td>\n",
       "    </tr>\n",
       "  </tbody>\n",
       "</table>\n",
       "</div>"
      ],
      "text/plain": [
       "  CustomerID       location gender            type  quantity  total_bill\n",
       "0   CustID00        Chicago      M     Electronics         1         100\n",
       "1   CustID01         Boston      M  Food&Beverages         3          75\n",
       "2   CustID02        Seattle      F  Food&Beverages         4         125\n",
       "3   CustID03  San Francisco      M        Medicine         2          50\n",
       "4   CustID04         Austin      F     Electronics         1          80"
      ]
     },
     "execution_count": 47,
     "metadata": {},
     "output_type": "execute_result"
    }
   ],
   "source": [
    "store_data"
   ]
  },
  {
   "cell_type": "code",
   "execution_count": 49,
   "metadata": {},
   "outputs": [
    {
     "data": {
      "text/html": [
       "<div>\n",
       "<style scoped>\n",
       "    .dataframe tbody tr th:only-of-type {\n",
       "        vertical-align: middle;\n",
       "    }\n",
       "\n",
       "    .dataframe tbody tr th {\n",
       "        vertical-align: top;\n",
       "    }\n",
       "\n",
       "    .dataframe thead th {\n",
       "        text-align: right;\n",
       "    }\n",
       "</style>\n",
       "<table border=\"1\" class=\"dataframe\">\n",
       "  <thead>\n",
       "    <tr style=\"text-align: right;\">\n",
       "      <th></th>\n",
       "      <th>CustomerID</th>\n",
       "      <th>location</th>\n",
       "      <th>gender</th>\n",
       "      <th>type</th>\n",
       "      <th>quantity</th>\n",
       "      <th>total_bill</th>\n",
       "    </tr>\n",
       "  </thead>\n",
       "  <tbody>\n",
       "    <tr>\n",
       "      <th>0</th>\n",
       "      <td>CustID00</td>\n",
       "      <td>Chicago</td>\n",
       "      <td>M</td>\n",
       "      <td>Electronics</td>\n",
       "      <td>1</td>\n",
       "      <td>100</td>\n",
       "    </tr>\n",
       "    <tr>\n",
       "      <th>1</th>\n",
       "      <td>CustID01</td>\n",
       "      <td>Boston</td>\n",
       "      <td>M</td>\n",
       "      <td>Food&amp;Beverages</td>\n",
       "      <td>3</td>\n",
       "      <td>75</td>\n",
       "    </tr>\n",
       "    <tr>\n",
       "      <th>2</th>\n",
       "      <td>CustID02</td>\n",
       "      <td>Seattle</td>\n",
       "      <td>F</td>\n",
       "      <td>Food&amp;Beverages</td>\n",
       "      <td>4</td>\n",
       "      <td>125</td>\n",
       "    </tr>\n",
       "    <tr>\n",
       "      <th>3</th>\n",
       "      <td>CustID03</td>\n",
       "      <td>San Francisco</td>\n",
       "      <td>M</td>\n",
       "      <td>Medicine</td>\n",
       "      <td>2</td>\n",
       "      <td>50</td>\n",
       "    </tr>\n",
       "    <tr>\n",
       "      <th>4</th>\n",
       "      <td>CustID04</td>\n",
       "      <td>Austin</td>\n",
       "      <td>F</td>\n",
       "      <td>Beauty</td>\n",
       "      <td>1</td>\n",
       "      <td>80</td>\n",
       "    </tr>\n",
       "  </tbody>\n",
       "</table>\n",
       "</div>"
      ],
      "text/plain": [
       "  CustomerID       location gender            type  quantity  total_bill\n",
       "0   CustID00        Chicago      M     Electronics         1         100\n",
       "1   CustID01         Boston      M  Food&Beverages         3          75\n",
       "2   CustID02        Seattle      F  Food&Beverages         4         125\n",
       "3   CustID03  San Francisco      M        Medicine         2          50\n",
       "4   CustID04         Austin      F          Beauty         1          80"
      ]
     },
     "execution_count": 49,
     "metadata": {},
     "output_type": "execute_result"
    }
   ],
   "source": [
    "store_data.iloc[4,3] = 'Beauty'\n",
    "store_data"
   ]
  },
  {
   "cell_type": "markdown",
   "metadata": {},
   "source": [
    "**Condition based indexing**"
   ]
  },
  {
   "cell_type": "code",
   "execution_count": 55,
   "metadata": {},
   "outputs": [
    {
     "data": {
      "text/plain": [
       "0    False\n",
       "1     True\n",
       "2     True\n",
       "3     True\n",
       "4    False\n",
       "Name: quantity, dtype: bool"
      ]
     },
     "execution_count": 55,
     "metadata": {},
     "output_type": "execute_result"
    }
   ],
   "source": [
    "store_data['quantity']>1"
   ]
  },
  {
   "cell_type": "markdown",
   "metadata": {},
   "source": [
    "-   Wherever the condition of greater than 1 is satisfied in quantity\n",
    "    column, 'True' is returned. Let's retrieve the original values\n",
    "    wherever the condition is satisfied."
   ]
  },
  {
   "cell_type": "code",
   "execution_count": 59,
   "metadata": {},
   "outputs": [
    {
     "data": {
      "text/html": [
       "<div>\n",
       "<style scoped>\n",
       "    .dataframe tbody tr th:only-of-type {\n",
       "        vertical-align: middle;\n",
       "    }\n",
       "\n",
       "    .dataframe tbody tr th {\n",
       "        vertical-align: top;\n",
       "    }\n",
       "\n",
       "    .dataframe thead th {\n",
       "        text-align: right;\n",
       "    }\n",
       "</style>\n",
       "<table border=\"1\" class=\"dataframe\">\n",
       "  <thead>\n",
       "    <tr style=\"text-align: right;\">\n",
       "      <th></th>\n",
       "      <th>CustomerID</th>\n",
       "      <th>location</th>\n",
       "      <th>gender</th>\n",
       "      <th>type</th>\n",
       "      <th>quantity</th>\n",
       "      <th>total_bill</th>\n",
       "    </tr>\n",
       "  </thead>\n",
       "  <tbody>\n",
       "    <tr>\n",
       "      <th>1</th>\n",
       "      <td>CustID01</td>\n",
       "      <td>Boston</td>\n",
       "      <td>M</td>\n",
       "      <td>Food&amp;Beverages</td>\n",
       "      <td>3</td>\n",
       "      <td>75</td>\n",
       "    </tr>\n",
       "    <tr>\n",
       "      <th>2</th>\n",
       "      <td>CustID02</td>\n",
       "      <td>Seattle</td>\n",
       "      <td>F</td>\n",
       "      <td>Food&amp;Beverages</td>\n",
       "      <td>4</td>\n",
       "      <td>125</td>\n",
       "    </tr>\n",
       "    <tr>\n",
       "      <th>3</th>\n",
       "      <td>CustID03</td>\n",
       "      <td>San Francisco</td>\n",
       "      <td>M</td>\n",
       "      <td>Medicine</td>\n",
       "      <td>2</td>\n",
       "      <td>50</td>\n",
       "    </tr>\n",
       "  </tbody>\n",
       "</table>\n",
       "</div>"
      ],
      "text/plain": [
       "  CustomerID       location gender            type  quantity  total_bill\n",
       "1   CustID01         Boston      M  Food&Beverages         3          75\n",
       "2   CustID02        Seattle      F  Food&Beverages         4         125\n",
       "3   CustID03  San Francisco      M        Medicine         2          50"
      ]
     },
     "execution_count": 59,
     "metadata": {},
     "output_type": "execute_result"
    }
   ],
   "source": [
    "store_data.loc[store_data['quantity']>1]"
   ]
  },
  {
   "cell_type": "markdown",
   "metadata": {},
   "source": [
    "-   Wherever the condition is satisfied we get the original values, and\n",
    "    wherever the condition is not satisfied we do not get those records\n",
    "    in the output."
   ]
  },
  {
   "cell_type": "markdown",
   "metadata": {},
   "source": [
    "**Column addition and removal from a Pandas DataFrame**\n",
    "\n",
    "**Adding a new column in a DataFrame**"
   ]
  },
  {
   "cell_type": "code",
   "execution_count": 60,
   "metadata": {},
   "outputs": [
    {
     "data": {
      "text/html": [
       "<div>\n",
       "<style scoped>\n",
       "    .dataframe tbody tr th:only-of-type {\n",
       "        vertical-align: middle;\n",
       "    }\n",
       "\n",
       "    .dataframe tbody tr th {\n",
       "        vertical-align: top;\n",
       "    }\n",
       "\n",
       "    .dataframe thead th {\n",
       "        text-align: right;\n",
       "    }\n",
       "</style>\n",
       "<table border=\"1\" class=\"dataframe\">\n",
       "  <thead>\n",
       "    <tr style=\"text-align: right;\">\n",
       "      <th></th>\n",
       "      <th>CustomerID</th>\n",
       "      <th>location</th>\n",
       "      <th>gender</th>\n",
       "      <th>type</th>\n",
       "      <th>quantity</th>\n",
       "      <th>total_bill</th>\n",
       "    </tr>\n",
       "  </thead>\n",
       "  <tbody>\n",
       "    <tr>\n",
       "      <th>0</th>\n",
       "      <td>CustID00</td>\n",
       "      <td>Chicago</td>\n",
       "      <td>M</td>\n",
       "      <td>Electronics</td>\n",
       "      <td>1</td>\n",
       "      <td>100</td>\n",
       "    </tr>\n",
       "    <tr>\n",
       "      <th>1</th>\n",
       "      <td>CustID01</td>\n",
       "      <td>Boston</td>\n",
       "      <td>M</td>\n",
       "      <td>Food&amp;Beverages</td>\n",
       "      <td>3</td>\n",
       "      <td>75</td>\n",
       "    </tr>\n",
       "    <tr>\n",
       "      <th>2</th>\n",
       "      <td>CustID02</td>\n",
       "      <td>Seattle</td>\n",
       "      <td>F</td>\n",
       "      <td>Food&amp;Beverages</td>\n",
       "      <td>4</td>\n",
       "      <td>125</td>\n",
       "    </tr>\n",
       "    <tr>\n",
       "      <th>3</th>\n",
       "      <td>CustID03</td>\n",
       "      <td>San Francisco</td>\n",
       "      <td>M</td>\n",
       "      <td>Medicine</td>\n",
       "      <td>2</td>\n",
       "      <td>50</td>\n",
       "    </tr>\n",
       "    <tr>\n",
       "      <th>4</th>\n",
       "      <td>CustID04</td>\n",
       "      <td>Austin</td>\n",
       "      <td>F</td>\n",
       "      <td>Beauty</td>\n",
       "      <td>1</td>\n",
       "      <td>80</td>\n",
       "    </tr>\n",
       "  </tbody>\n",
       "</table>\n",
       "</div>"
      ],
      "text/plain": [
       "  CustomerID       location gender            type  quantity  total_bill\n",
       "0   CustID00        Chicago      M     Electronics         1         100\n",
       "1   CustID01         Boston      M  Food&Beverages         3          75\n",
       "2   CustID02        Seattle      F  Food&Beverages         4         125\n",
       "3   CustID03  San Francisco      M        Medicine         2          50\n",
       "4   CustID04         Austin      F          Beauty         1          80"
      ]
     },
     "execution_count": 60,
     "metadata": {},
     "output_type": "execute_result"
    }
   ],
   "source": [
    "store_data"
   ]
  },
  {
   "cell_type": "code",
   "execution_count": 84,
   "metadata": {},
   "outputs": [
    {
     "data": {
      "text/html": [
       "<div>\n",
       "<style scoped>\n",
       "    .dataframe tbody tr th:only-of-type {\n",
       "        vertical-align: middle;\n",
       "    }\n",
       "\n",
       "    .dataframe tbody tr th {\n",
       "        vertical-align: top;\n",
       "    }\n",
       "\n",
       "    .dataframe thead th {\n",
       "        text-align: right;\n",
       "    }\n",
       "</style>\n",
       "<table border=\"1\" class=\"dataframe\">\n",
       "  <thead>\n",
       "    <tr style=\"text-align: right;\">\n",
       "      <th></th>\n",
       "      <th>location</th>\n",
       "      <th>gender</th>\n",
       "      <th>type</th>\n",
       "      <th>quantity</th>\n",
       "      <th>total_bill</th>\n",
       "      <th>rating</th>\n",
       "    </tr>\n",
       "  </thead>\n",
       "  <tbody>\n",
       "    <tr>\n",
       "      <th>0</th>\n",
       "      <td>Chicago</td>\n",
       "      <td>M</td>\n",
       "      <td>Electronics</td>\n",
       "      <td>1</td>\n",
       "      <td>100</td>\n",
       "      <td>2</td>\n",
       "    </tr>\n",
       "    <tr>\n",
       "      <th>1</th>\n",
       "      <td>Boston</td>\n",
       "      <td>M</td>\n",
       "      <td>Food&amp;Beverages</td>\n",
       "      <td>3</td>\n",
       "      <td>75</td>\n",
       "      <td>5</td>\n",
       "    </tr>\n",
       "    <tr>\n",
       "      <th>2</th>\n",
       "      <td>Seattle</td>\n",
       "      <td>F</td>\n",
       "      <td>Food&amp;Beverages</td>\n",
       "      <td>4</td>\n",
       "      <td>125</td>\n",
       "      <td>3</td>\n",
       "    </tr>\n",
       "    <tr>\n",
       "      <th>3</th>\n",
       "      <td>San Francisco</td>\n",
       "      <td>M</td>\n",
       "      <td>Medicine</td>\n",
       "      <td>2</td>\n",
       "      <td>50</td>\n",
       "      <td>4</td>\n",
       "    </tr>\n",
       "    <tr>\n",
       "      <th>4</th>\n",
       "      <td>Austin</td>\n",
       "      <td>F</td>\n",
       "      <td>Beauty</td>\n",
       "      <td>1</td>\n",
       "      <td>80</td>\n",
       "      <td>4</td>\n",
       "    </tr>\n",
       "  </tbody>\n",
       "</table>\n",
       "</div>"
      ],
      "text/plain": [
       "        location gender            type  quantity  total_bill  rating\n",
       "0        Chicago      M     Electronics         1         100       2\n",
       "1         Boston      M  Food&Beverages         3          75       5\n",
       "2        Seattle      F  Food&Beverages         4         125       3\n",
       "3  San Francisco      M        Medicine         2          50       4\n",
       "4         Austin      F          Beauty         1          80       4"
      ]
     },
     "execution_count": 84,
     "metadata": {},
     "output_type": "execute_result"
    }
   ],
   "source": [
    "# adding a new column in data frame store_data which is a rating (out of 5) given by customer based on their shopping experience\n",
    "store_data['rating'] = [2,5,3,4,4]\n",
    "store_data"
   ]
  },
  {
   "cell_type": "code",
   "execution_count": 69,
   "metadata": {},
   "outputs": [],
   "source": [
    "#store_data['rating'] = int(input(\"Masukkan rating : \"))\n",
    "#store_data"
   ]
  },
  {
   "cell_type": "markdown",
   "metadata": {},
   "source": [
    "**Removing a column from a DataFrame**\n",
    "\n",
    "-   The CustomerID column is a unique identifier of each customer. This\n",
    "    unique identifier will not help 24/7 Stores in getting useful\n",
    "    insights about their customers. So, they have decided to remove this\n",
    "    column from the data frame."
   ]
  },
  {
   "cell_type": "code",
   "execution_count": 90,
   "metadata": {},
   "outputs": [
    {
     "data": {
      "text/html": [
       "<div>\n",
       "<style scoped>\n",
       "    .dataframe tbody tr th:only-of-type {\n",
       "        vertical-align: middle;\n",
       "    }\n",
       "\n",
       "    .dataframe tbody tr th {\n",
       "        vertical-align: top;\n",
       "    }\n",
       "\n",
       "    .dataframe thead th {\n",
       "        text-align: right;\n",
       "    }\n",
       "</style>\n",
       "<table border=\"1\" class=\"dataframe\">\n",
       "  <thead>\n",
       "    <tr style=\"text-align: right;\">\n",
       "      <th></th>\n",
       "      <th>location</th>\n",
       "      <th>gender</th>\n",
       "      <th>type</th>\n",
       "      <th>quantity</th>\n",
       "      <th>total_bill</th>\n",
       "    </tr>\n",
       "  </thead>\n",
       "  <tbody>\n",
       "    <tr>\n",
       "      <th>0</th>\n",
       "      <td>Chicago</td>\n",
       "      <td>M</td>\n",
       "      <td>Electronics</td>\n",
       "      <td>1</td>\n",
       "      <td>100</td>\n",
       "    </tr>\n",
       "    <tr>\n",
       "      <th>1</th>\n",
       "      <td>Boston</td>\n",
       "      <td>M</td>\n",
       "      <td>Food&amp;Beverages</td>\n",
       "      <td>3</td>\n",
       "      <td>75</td>\n",
       "    </tr>\n",
       "    <tr>\n",
       "      <th>2</th>\n",
       "      <td>Seattle</td>\n",
       "      <td>F</td>\n",
       "      <td>Food&amp;Beverages</td>\n",
       "      <td>4</td>\n",
       "      <td>125</td>\n",
       "    </tr>\n",
       "    <tr>\n",
       "      <th>3</th>\n",
       "      <td>San Francisco</td>\n",
       "      <td>M</td>\n",
       "      <td>Medicine</td>\n",
       "      <td>2</td>\n",
       "      <td>50</td>\n",
       "    </tr>\n",
       "    <tr>\n",
       "      <th>4</th>\n",
       "      <td>Austin</td>\n",
       "      <td>F</td>\n",
       "      <td>Beauty</td>\n",
       "      <td>1</td>\n",
       "      <td>80</td>\n",
       "    </tr>\n",
       "  </tbody>\n",
       "</table>\n",
       "</div>"
      ],
      "text/plain": [
       "        location gender            type  quantity  total_bill\n",
       "0        Chicago      M     Electronics         1         100\n",
       "1         Boston      M  Food&Beverages         3          75\n",
       "2        Seattle      F  Food&Beverages         4         125\n",
       "3  San Francisco      M        Medicine         2          50\n",
       "4         Austin      F          Beauty         1          80"
      ]
     },
     "execution_count": 90,
     "metadata": {},
     "output_type": "execute_result"
    }
   ],
   "source": [
    "store_data.drop('CustomerID',axis=1)"
   ]
  },
  {
   "cell_type": "markdown",
   "metadata": {},
   "source": [
    "-   We sucessfully removed the 'CustomerID' from dataframe. But this\n",
    "    change is not permanent in the dataframe, let's have a look at the\n",
    "    store_data again."
   ]
  },
  {
   "cell_type": "code",
   "execution_count": 91,
   "metadata": {},
   "outputs": [
    {
     "data": {
      "text/html": [
       "<div>\n",
       "<style scoped>\n",
       "    .dataframe tbody tr th:only-of-type {\n",
       "        vertical-align: middle;\n",
       "    }\n",
       "\n",
       "    .dataframe tbody tr th {\n",
       "        vertical-align: top;\n",
       "    }\n",
       "\n",
       "    .dataframe thead th {\n",
       "        text-align: right;\n",
       "    }\n",
       "</style>\n",
       "<table border=\"1\" class=\"dataframe\">\n",
       "  <thead>\n",
       "    <tr style=\"text-align: right;\">\n",
       "      <th></th>\n",
       "      <th>CustomerID</th>\n",
       "      <th>location</th>\n",
       "      <th>gender</th>\n",
       "      <th>type</th>\n",
       "      <th>quantity</th>\n",
       "      <th>total_bill</th>\n",
       "    </tr>\n",
       "  </thead>\n",
       "  <tbody>\n",
       "    <tr>\n",
       "      <th>0</th>\n",
       "      <td>CustID00</td>\n",
       "      <td>Chicago</td>\n",
       "      <td>M</td>\n",
       "      <td>Electronics</td>\n",
       "      <td>1</td>\n",
       "      <td>100</td>\n",
       "    </tr>\n",
       "    <tr>\n",
       "      <th>1</th>\n",
       "      <td>CustID01</td>\n",
       "      <td>Boston</td>\n",
       "      <td>M</td>\n",
       "      <td>Food&amp;Beverages</td>\n",
       "      <td>3</td>\n",
       "      <td>75</td>\n",
       "    </tr>\n",
       "    <tr>\n",
       "      <th>2</th>\n",
       "      <td>CustID02</td>\n",
       "      <td>Seattle</td>\n",
       "      <td>F</td>\n",
       "      <td>Food&amp;Beverages</td>\n",
       "      <td>4</td>\n",
       "      <td>125</td>\n",
       "    </tr>\n",
       "    <tr>\n",
       "      <th>3</th>\n",
       "      <td>CustID03</td>\n",
       "      <td>San Francisco</td>\n",
       "      <td>M</td>\n",
       "      <td>Medicine</td>\n",
       "      <td>2</td>\n",
       "      <td>50</td>\n",
       "    </tr>\n",
       "    <tr>\n",
       "      <th>4</th>\n",
       "      <td>CustID04</td>\n",
       "      <td>Austin</td>\n",
       "      <td>F</td>\n",
       "      <td>Beauty</td>\n",
       "      <td>1</td>\n",
       "      <td>80</td>\n",
       "    </tr>\n",
       "  </tbody>\n",
       "</table>\n",
       "</div>"
      ],
      "text/plain": [
       "  CustomerID       location gender            type  quantity  total_bill\n",
       "0   CustID00        Chicago      M     Electronics         1         100\n",
       "1   CustID01         Boston      M  Food&Beverages         3          75\n",
       "2   CustID02        Seattle      F  Food&Beverages         4         125\n",
       "3   CustID03  San Francisco      M        Medicine         2          50\n",
       "4   CustID04         Austin      F          Beauty         1          80"
      ]
     },
     "execution_count": 91,
     "metadata": {},
     "output_type": "execute_result"
    }
   ],
   "source": [
    "store_data"
   ]
  },
  {
   "cell_type": "markdown",
   "metadata": {},
   "source": [
    "-   We see that store_data still has column 'CustomerID' in it.\n",
    "-   To make permanent changes to a dataframe there are two methods will\n",
    "    have to use a parameter `inplace` and set its value to `True`."
   ]
  },
  {
   "cell_type": "code",
   "execution_count": 92,
   "metadata": {},
   "outputs": [
    {
     "data": {
      "text/html": [
       "<div>\n",
       "<style scoped>\n",
       "    .dataframe tbody tr th:only-of-type {\n",
       "        vertical-align: middle;\n",
       "    }\n",
       "\n",
       "    .dataframe tbody tr th {\n",
       "        vertical-align: top;\n",
       "    }\n",
       "\n",
       "    .dataframe thead th {\n",
       "        text-align: right;\n",
       "    }\n",
       "</style>\n",
       "<table border=\"1\" class=\"dataframe\">\n",
       "  <thead>\n",
       "    <tr style=\"text-align: right;\">\n",
       "      <th></th>\n",
       "      <th>location</th>\n",
       "      <th>gender</th>\n",
       "      <th>type</th>\n",
       "      <th>quantity</th>\n",
       "      <th>total_bill</th>\n",
       "    </tr>\n",
       "  </thead>\n",
       "  <tbody>\n",
       "    <tr>\n",
       "      <th>0</th>\n",
       "      <td>Chicago</td>\n",
       "      <td>M</td>\n",
       "      <td>Electronics</td>\n",
       "      <td>1</td>\n",
       "      <td>100</td>\n",
       "    </tr>\n",
       "    <tr>\n",
       "      <th>1</th>\n",
       "      <td>Boston</td>\n",
       "      <td>M</td>\n",
       "      <td>Food&amp;Beverages</td>\n",
       "      <td>3</td>\n",
       "      <td>75</td>\n",
       "    </tr>\n",
       "    <tr>\n",
       "      <th>2</th>\n",
       "      <td>Seattle</td>\n",
       "      <td>F</td>\n",
       "      <td>Food&amp;Beverages</td>\n",
       "      <td>4</td>\n",
       "      <td>125</td>\n",
       "    </tr>\n",
       "    <tr>\n",
       "      <th>3</th>\n",
       "      <td>San Francisco</td>\n",
       "      <td>M</td>\n",
       "      <td>Medicine</td>\n",
       "      <td>2</td>\n",
       "      <td>50</td>\n",
       "    </tr>\n",
       "    <tr>\n",
       "      <th>4</th>\n",
       "      <td>Austin</td>\n",
       "      <td>F</td>\n",
       "      <td>Beauty</td>\n",
       "      <td>1</td>\n",
       "      <td>80</td>\n",
       "    </tr>\n",
       "  </tbody>\n",
       "</table>\n",
       "</div>"
      ],
      "text/plain": [
       "        location gender            type  quantity  total_bill\n",
       "0        Chicago      M     Electronics         1         100\n",
       "1         Boston      M  Food&Beverages         3          75\n",
       "2        Seattle      F  Food&Beverages         4         125\n",
       "3  San Francisco      M        Medicine         2          50\n",
       "4         Austin      F          Beauty         1          80"
      ]
     },
     "execution_count": 92,
     "metadata": {},
     "output_type": "execute_result"
    }
   ],
   "source": [
    "store_data.drop('CustomerID',axis=1,inplace=True)\n",
    "store_data"
   ]
  },
  {
   "cell_type": "code",
   "execution_count": 93,
   "metadata": {},
   "outputs": [
    {
     "data": {
      "text/html": [
       "<div>\n",
       "<style scoped>\n",
       "    .dataframe tbody tr th:only-of-type {\n",
       "        vertical-align: middle;\n",
       "    }\n",
       "\n",
       "    .dataframe tbody tr th {\n",
       "        vertical-align: top;\n",
       "    }\n",
       "\n",
       "    .dataframe thead th {\n",
       "        text-align: right;\n",
       "    }\n",
       "</style>\n",
       "<table border=\"1\" class=\"dataframe\">\n",
       "  <thead>\n",
       "    <tr style=\"text-align: right;\">\n",
       "      <th></th>\n",
       "      <th>location</th>\n",
       "      <th>gender</th>\n",
       "      <th>type</th>\n",
       "      <th>quantity</th>\n",
       "      <th>total_bill</th>\n",
       "    </tr>\n",
       "  </thead>\n",
       "  <tbody>\n",
       "    <tr>\n",
       "      <th>0</th>\n",
       "      <td>Chicago</td>\n",
       "      <td>M</td>\n",
       "      <td>Electronics</td>\n",
       "      <td>1</td>\n",
       "      <td>100</td>\n",
       "    </tr>\n",
       "    <tr>\n",
       "      <th>1</th>\n",
       "      <td>Boston</td>\n",
       "      <td>M</td>\n",
       "      <td>Food&amp;Beverages</td>\n",
       "      <td>3</td>\n",
       "      <td>75</td>\n",
       "    </tr>\n",
       "    <tr>\n",
       "      <th>2</th>\n",
       "      <td>Seattle</td>\n",
       "      <td>F</td>\n",
       "      <td>Food&amp;Beverages</td>\n",
       "      <td>4</td>\n",
       "      <td>125</td>\n",
       "    </tr>\n",
       "    <tr>\n",
       "      <th>3</th>\n",
       "      <td>San Francisco</td>\n",
       "      <td>M</td>\n",
       "      <td>Medicine</td>\n",
       "      <td>2</td>\n",
       "      <td>50</td>\n",
       "    </tr>\n",
       "    <tr>\n",
       "      <th>4</th>\n",
       "      <td>Austin</td>\n",
       "      <td>F</td>\n",
       "      <td>Beauty</td>\n",
       "      <td>1</td>\n",
       "      <td>80</td>\n",
       "    </tr>\n",
       "  </tbody>\n",
       "</table>\n",
       "</div>"
      ],
      "text/plain": [
       "        location gender            type  quantity  total_bill\n",
       "0        Chicago      M     Electronics         1         100\n",
       "1         Boston      M  Food&Beverages         3          75\n",
       "2        Seattle      F  Food&Beverages         4         125\n",
       "3  San Francisco      M        Medicine         2          50\n",
       "4         Austin      F          Beauty         1          80"
      ]
     },
     "execution_count": 93,
     "metadata": {},
     "output_type": "execute_result"
    }
   ],
   "source": [
    "store_data"
   ]
  },
  {
   "cell_type": "markdown",
   "metadata": {},
   "source": [
    "-   Now the column has been permanently removed from the dataframe."
   ]
  },
  {
   "cell_type": "code",
   "execution_count": 41,
   "metadata": {},
   "outputs": [
    {
     "data": {
      "text/html": [
       "<div>\n",
       "<style scoped>\n",
       "    .dataframe tbody tr th:only-of-type {\n",
       "        vertical-align: middle;\n",
       "    }\n",
       "\n",
       "    .dataframe tbody tr th {\n",
       "        vertical-align: top;\n",
       "    }\n",
       "\n",
       "    .dataframe thead th {\n",
       "        text-align: right;\n",
       "    }\n",
       "</style>\n",
       "<table border=\"1\" class=\"dataframe\">\n",
       "  <thead>\n",
       "    <tr style=\"text-align: right;\">\n",
       "      <th></th>\n",
       "      <th>location</th>\n",
       "      <th>gender</th>\n",
       "      <th>type</th>\n",
       "      <th>quantity</th>\n",
       "      <th>total_bill</th>\n",
       "      <th>rating</th>\n",
       "    </tr>\n",
       "  </thead>\n",
       "  <tbody>\n",
       "    <tr>\n",
       "      <th>0</th>\n",
       "      <td>Chicago</td>\n",
       "      <td>M</td>\n",
       "      <td>Electronics</td>\n",
       "      <td>1</td>\n",
       "      <td>100</td>\n",
       "      <td>2</td>\n",
       "    </tr>\n",
       "    <tr>\n",
       "      <th>1</th>\n",
       "      <td>Boston</td>\n",
       "      <td>M</td>\n",
       "      <td>Food&amp;Beverages</td>\n",
       "      <td>3</td>\n",
       "      <td>75</td>\n",
       "      <td>5</td>\n",
       "    </tr>\n",
       "    <tr>\n",
       "      <th>2</th>\n",
       "      <td>Seattle</td>\n",
       "      <td>F</td>\n",
       "      <td>Food&amp;Beverages</td>\n",
       "      <td>4</td>\n",
       "      <td>125</td>\n",
       "      <td>3</td>\n",
       "    </tr>\n",
       "    <tr>\n",
       "      <th>3</th>\n",
       "      <td>San Francisco</td>\n",
       "      <td>M</td>\n",
       "      <td>Medicine</td>\n",
       "      <td>2</td>\n",
       "      <td>50</td>\n",
       "      <td>4</td>\n",
       "    </tr>\n",
       "    <tr>\n",
       "      <th>4</th>\n",
       "      <td>Austin</td>\n",
       "      <td>F</td>\n",
       "      <td>Beauty</td>\n",
       "      <td>1</td>\n",
       "      <td>80</td>\n",
       "      <td>4</td>\n",
       "    </tr>\n",
       "  </tbody>\n",
       "</table>\n",
       "</div>"
      ],
      "text/plain": [
       "        location gender            type  quantity  total_bill  rating\n",
       "0        Chicago      M     Electronics         1         100       2\n",
       "1         Boston      M  Food&Beverages         3          75       5\n",
       "2        Seattle      F  Food&Beverages         4         125       3\n",
       "3  San Francisco      M        Medicine         2          50       4\n",
       "4         Austin      F          Beauty         1          80       4"
      ]
     },
     "execution_count": 41,
     "metadata": {},
     "output_type": "execute_result"
    }
   ],
   "source": [
    "# we can also remove multiple columns simultaneously \n",
    "# it is always a good idea to store the new/updated data frames in new variables to avoid changes to the existing data frame\n",
    "\n",
    "# creating a copy of the existing data frame\n",
    "new_store_data = store_data.copy()\n",
    "store_data"
   ]
  },
  {
   "cell_type": "code",
   "execution_count": 42,
   "metadata": {},
   "outputs": [
    {
     "data": {
      "text/html": [
       "<div>\n",
       "<style scoped>\n",
       "    .dataframe tbody tr th:only-of-type {\n",
       "        vertical-align: middle;\n",
       "    }\n",
       "\n",
       "    .dataframe tbody tr th {\n",
       "        vertical-align: top;\n",
       "    }\n",
       "\n",
       "    .dataframe thead th {\n",
       "        text-align: right;\n",
       "    }\n",
       "</style>\n",
       "<table border=\"1\" class=\"dataframe\">\n",
       "  <thead>\n",
       "    <tr style=\"text-align: right;\">\n",
       "      <th></th>\n",
       "      <th>gender</th>\n",
       "      <th>type</th>\n",
       "      <th>quantity</th>\n",
       "      <th>total_bill</th>\n",
       "    </tr>\n",
       "  </thead>\n",
       "  <tbody>\n",
       "    <tr>\n",
       "      <th>0</th>\n",
       "      <td>M</td>\n",
       "      <td>Electronics</td>\n",
       "      <td>1</td>\n",
       "      <td>100</td>\n",
       "    </tr>\n",
       "    <tr>\n",
       "      <th>1</th>\n",
       "      <td>M</td>\n",
       "      <td>Food&amp;Beverages</td>\n",
       "      <td>3</td>\n",
       "      <td>75</td>\n",
       "    </tr>\n",
       "    <tr>\n",
       "      <th>2</th>\n",
       "      <td>F</td>\n",
       "      <td>Food&amp;Beverages</td>\n",
       "      <td>4</td>\n",
       "      <td>125</td>\n",
       "    </tr>\n",
       "    <tr>\n",
       "      <th>3</th>\n",
       "      <td>M</td>\n",
       "      <td>Medicine</td>\n",
       "      <td>2</td>\n",
       "      <td>50</td>\n",
       "    </tr>\n",
       "    <tr>\n",
       "      <th>4</th>\n",
       "      <td>F</td>\n",
       "      <td>Beauty</td>\n",
       "      <td>1</td>\n",
       "      <td>80</td>\n",
       "    </tr>\n",
       "  </tbody>\n",
       "</table>\n",
       "</div>"
      ],
      "text/plain": [
       "  gender            type  quantity  total_bill\n",
       "0      M     Electronics         1         100\n",
       "1      M  Food&Beverages         3          75\n",
       "2      F  Food&Beverages         4         125\n",
       "3      M        Medicine         2          50\n",
       "4      F          Beauty         1          80"
      ]
     },
     "execution_count": 42,
     "metadata": {},
     "output_type": "execute_result"
    }
   ],
   "source": [
    "# dropping location and rating columns simultaneously\n",
    "new_store_data.drop(['location','rating'],axis=1,inplace=True)\n",
    "new_store_data"
   ]
  },
  {
   "cell_type": "code",
   "execution_count": 43,
   "metadata": {},
   "outputs": [
    {
     "data": {
      "text/html": [
       "<div>\n",
       "<style scoped>\n",
       "    .dataframe tbody tr th:only-of-type {\n",
       "        vertical-align: middle;\n",
       "    }\n",
       "\n",
       "    .dataframe tbody tr th {\n",
       "        vertical-align: top;\n",
       "    }\n",
       "\n",
       "    .dataframe thead th {\n",
       "        text-align: right;\n",
       "    }\n",
       "</style>\n",
       "<table border=\"1\" class=\"dataframe\">\n",
       "  <thead>\n",
       "    <tr style=\"text-align: right;\">\n",
       "      <th></th>\n",
       "      <th>location</th>\n",
       "      <th>gender</th>\n",
       "      <th>type</th>\n",
       "      <th>quantity</th>\n",
       "      <th>total_bill</th>\n",
       "      <th>rating</th>\n",
       "    </tr>\n",
       "  </thead>\n",
       "  <tbody>\n",
       "    <tr>\n",
       "      <th>0</th>\n",
       "      <td>Chicago</td>\n",
       "      <td>M</td>\n",
       "      <td>Electronics</td>\n",
       "      <td>1</td>\n",
       "      <td>100</td>\n",
       "      <td>2</td>\n",
       "    </tr>\n",
       "    <tr>\n",
       "      <th>1</th>\n",
       "      <td>Boston</td>\n",
       "      <td>M</td>\n",
       "      <td>Food&amp;Beverages</td>\n",
       "      <td>3</td>\n",
       "      <td>75</td>\n",
       "      <td>5</td>\n",
       "    </tr>\n",
       "    <tr>\n",
       "      <th>2</th>\n",
       "      <td>Seattle</td>\n",
       "      <td>F</td>\n",
       "      <td>Food&amp;Beverages</td>\n",
       "      <td>4</td>\n",
       "      <td>125</td>\n",
       "      <td>3</td>\n",
       "    </tr>\n",
       "    <tr>\n",
       "      <th>3</th>\n",
       "      <td>San Francisco</td>\n",
       "      <td>M</td>\n",
       "      <td>Medicine</td>\n",
       "      <td>2</td>\n",
       "      <td>50</td>\n",
       "      <td>4</td>\n",
       "    </tr>\n",
       "    <tr>\n",
       "      <th>4</th>\n",
       "      <td>Austin</td>\n",
       "      <td>F</td>\n",
       "      <td>Beauty</td>\n",
       "      <td>1</td>\n",
       "      <td>80</td>\n",
       "      <td>4</td>\n",
       "    </tr>\n",
       "  </tbody>\n",
       "</table>\n",
       "</div>"
      ],
      "text/plain": [
       "        location gender            type  quantity  total_bill  rating\n",
       "0        Chicago      M     Electronics         1         100       2\n",
       "1         Boston      M  Food&Beverages         3          75       5\n",
       "2        Seattle      F  Food&Beverages         4         125       3\n",
       "3  San Francisco      M        Medicine         2          50       4\n",
       "4         Austin      F          Beauty         1          80       4"
      ]
     },
     "execution_count": 43,
     "metadata": {},
     "output_type": "execute_result"
    }
   ],
   "source": [
    "# lets check if store_data was impacted\n",
    "store_data"
   ]
  },
  {
   "cell_type": "markdown",
   "metadata": {},
   "source": [
    "-   There were no changes to data frame store_data.\n",
    "\n",
    "-   Deep copy stores copies of the object’s value.\n",
    "-   Shallow Copy stores the references of objects to the original memory\n",
    "    address."
   ]
  },
  {
   "cell_type": "markdown",
   "metadata": {},
   "source": [
    "**Removing rows from a dataframe**"
   ]
  },
  {
   "cell_type": "code",
   "execution_count": 44,
   "metadata": {},
   "outputs": [
    {
     "data": {
      "text/html": [
       "<div>\n",
       "<style scoped>\n",
       "    .dataframe tbody tr th:only-of-type {\n",
       "        vertical-align: middle;\n",
       "    }\n",
       "\n",
       "    .dataframe tbody tr th {\n",
       "        vertical-align: top;\n",
       "    }\n",
       "\n",
       "    .dataframe thead th {\n",
       "        text-align: right;\n",
       "    }\n",
       "</style>\n",
       "<table border=\"1\" class=\"dataframe\">\n",
       "  <thead>\n",
       "    <tr style=\"text-align: right;\">\n",
       "      <th></th>\n",
       "      <th>location</th>\n",
       "      <th>gender</th>\n",
       "      <th>type</th>\n",
       "      <th>quantity</th>\n",
       "      <th>total_bill</th>\n",
       "      <th>rating</th>\n",
       "    </tr>\n",
       "  </thead>\n",
       "  <tbody>\n",
       "    <tr>\n",
       "      <th>0</th>\n",
       "      <td>Chicago</td>\n",
       "      <td>M</td>\n",
       "      <td>Electronics</td>\n",
       "      <td>1</td>\n",
       "      <td>100</td>\n",
       "      <td>2</td>\n",
       "    </tr>\n",
       "    <tr>\n",
       "      <th>2</th>\n",
       "      <td>Seattle</td>\n",
       "      <td>F</td>\n",
       "      <td>Food&amp;Beverages</td>\n",
       "      <td>4</td>\n",
       "      <td>125</td>\n",
       "      <td>3</td>\n",
       "    </tr>\n",
       "    <tr>\n",
       "      <th>3</th>\n",
       "      <td>San Francisco</td>\n",
       "      <td>M</td>\n",
       "      <td>Medicine</td>\n",
       "      <td>2</td>\n",
       "      <td>50</td>\n",
       "      <td>4</td>\n",
       "    </tr>\n",
       "    <tr>\n",
       "      <th>4</th>\n",
       "      <td>Austin</td>\n",
       "      <td>F</td>\n",
       "      <td>Beauty</td>\n",
       "      <td>1</td>\n",
       "      <td>80</td>\n",
       "      <td>4</td>\n",
       "    </tr>\n",
       "  </tbody>\n",
       "</table>\n",
       "</div>"
      ],
      "text/plain": [
       "        location gender            type  quantity  total_bill  rating\n",
       "0        Chicago      M     Electronics         1         100       2\n",
       "2        Seattle      F  Food&Beverages         4         125       3\n",
       "3  San Francisco      M        Medicine         2          50       4\n",
       "4         Austin      F          Beauty         1          80       4"
      ]
     },
     "execution_count": 44,
     "metadata": {},
     "output_type": "execute_result"
    }
   ],
   "source": [
    "store_data.drop(1,axis=0)"
   ]
  },
  {
   "cell_type": "code",
   "execution_count": 45,
   "metadata": {},
   "outputs": [
    {
     "data": {
      "text/html": [
       "<div>\n",
       "<style scoped>\n",
       "    .dataframe tbody tr th:only-of-type {\n",
       "        vertical-align: middle;\n",
       "    }\n",
       "\n",
       "    .dataframe tbody tr th {\n",
       "        vertical-align: top;\n",
       "    }\n",
       "\n",
       "    .dataframe thead th {\n",
       "        text-align: right;\n",
       "    }\n",
       "</style>\n",
       "<table border=\"1\" class=\"dataframe\">\n",
       "  <thead>\n",
       "    <tr style=\"text-align: right;\">\n",
       "      <th></th>\n",
       "      <th>location</th>\n",
       "      <th>gender</th>\n",
       "      <th>type</th>\n",
       "      <th>quantity</th>\n",
       "      <th>total_bill</th>\n",
       "      <th>rating</th>\n",
       "    </tr>\n",
       "  </thead>\n",
       "  <tbody>\n",
       "    <tr>\n",
       "      <th>0</th>\n",
       "      <td>Chicago</td>\n",
       "      <td>M</td>\n",
       "      <td>Electronics</td>\n",
       "      <td>1</td>\n",
       "      <td>100</td>\n",
       "      <td>2</td>\n",
       "    </tr>\n",
       "    <tr>\n",
       "      <th>1</th>\n",
       "      <td>Boston</td>\n",
       "      <td>M</td>\n",
       "      <td>Food&amp;Beverages</td>\n",
       "      <td>3</td>\n",
       "      <td>75</td>\n",
       "      <td>5</td>\n",
       "    </tr>\n",
       "    <tr>\n",
       "      <th>2</th>\n",
       "      <td>Seattle</td>\n",
       "      <td>F</td>\n",
       "      <td>Food&amp;Beverages</td>\n",
       "      <td>4</td>\n",
       "      <td>125</td>\n",
       "      <td>3</td>\n",
       "    </tr>\n",
       "    <tr>\n",
       "      <th>3</th>\n",
       "      <td>San Francisco</td>\n",
       "      <td>M</td>\n",
       "      <td>Medicine</td>\n",
       "      <td>2</td>\n",
       "      <td>50</td>\n",
       "      <td>4</td>\n",
       "    </tr>\n",
       "    <tr>\n",
       "      <th>4</th>\n",
       "      <td>Austin</td>\n",
       "      <td>F</td>\n",
       "      <td>Beauty</td>\n",
       "      <td>1</td>\n",
       "      <td>80</td>\n",
       "      <td>4</td>\n",
       "    </tr>\n",
       "  </tbody>\n",
       "</table>\n",
       "</div>"
      ],
      "text/plain": [
       "        location gender            type  quantity  total_bill  rating\n",
       "0        Chicago      M     Electronics         1         100       2\n",
       "1         Boston      M  Food&Beverages         3          75       5\n",
       "2        Seattle      F  Food&Beverages         4         125       3\n",
       "3  San Francisco      M        Medicine         2          50       4\n",
       "4         Austin      F          Beauty         1          80       4"
      ]
     },
     "execution_count": 45,
     "metadata": {},
     "output_type": "execute_result"
    }
   ],
   "source": [
    "store_data"
   ]
  },
  {
   "cell_type": "markdown",
   "metadata": {},
   "source": [
    "-   Notice that we used **`axis=0`** to drop a row from a data frame,\n",
    "    while we were using **`axis=1`** for dropping a column from the data\n",
    "    frame.\n",
    "-   Also, to make permanent changes to the data frame we will have to\n",
    "    use `inplace=True` parameter.\n",
    "-   We also see that the index are not correct now as first row has been\n",
    "    removed. So, we will have to reset the index of the data frame.\n",
    "    Let's see how this can be done."
   ]
  },
  {
   "cell_type": "code",
   "execution_count": 46,
   "metadata": {},
   "outputs": [
    {
     "data": {
      "text/html": [
       "<div>\n",
       "<style scoped>\n",
       "    .dataframe tbody tr th:only-of-type {\n",
       "        vertical-align: middle;\n",
       "    }\n",
       "\n",
       "    .dataframe tbody tr th {\n",
       "        vertical-align: top;\n",
       "    }\n",
       "\n",
       "    .dataframe thead th {\n",
       "        text-align: right;\n",
       "    }\n",
       "</style>\n",
       "<table border=\"1\" class=\"dataframe\">\n",
       "  <thead>\n",
       "    <tr style=\"text-align: right;\">\n",
       "      <th></th>\n",
       "      <th>location</th>\n",
       "      <th>gender</th>\n",
       "      <th>type</th>\n",
       "      <th>quantity</th>\n",
       "      <th>total_bill</th>\n",
       "      <th>rating</th>\n",
       "    </tr>\n",
       "  </thead>\n",
       "  <tbody>\n",
       "    <tr>\n",
       "      <th>0</th>\n",
       "      <td>Chicago</td>\n",
       "      <td>M</td>\n",
       "      <td>Electronics</td>\n",
       "      <td>1</td>\n",
       "      <td>100</td>\n",
       "      <td>2</td>\n",
       "    </tr>\n",
       "    <tr>\n",
       "      <th>2</th>\n",
       "      <td>Seattle</td>\n",
       "      <td>F</td>\n",
       "      <td>Food&amp;Beverages</td>\n",
       "      <td>4</td>\n",
       "      <td>125</td>\n",
       "      <td>3</td>\n",
       "    </tr>\n",
       "    <tr>\n",
       "      <th>3</th>\n",
       "      <td>San Francisco</td>\n",
       "      <td>M</td>\n",
       "      <td>Medicine</td>\n",
       "      <td>2</td>\n",
       "      <td>50</td>\n",
       "      <td>4</td>\n",
       "    </tr>\n",
       "    <tr>\n",
       "      <th>4</th>\n",
       "      <td>Austin</td>\n",
       "      <td>F</td>\n",
       "      <td>Beauty</td>\n",
       "      <td>1</td>\n",
       "      <td>80</td>\n",
       "      <td>4</td>\n",
       "    </tr>\n",
       "  </tbody>\n",
       "</table>\n",
       "</div>"
      ],
      "text/plain": [
       "        location gender            type  quantity  total_bill  rating\n",
       "0        Chicago      M     Electronics         1         100       2\n",
       "2        Seattle      F  Food&Beverages         4         125       3\n",
       "3  San Francisco      M        Medicine         2          50       4\n",
       "4         Austin      F          Beauty         1          80       4"
      ]
     },
     "execution_count": 46,
     "metadata": {},
     "output_type": "execute_result"
    }
   ],
   "source": [
    "# creating a new dataframe\n",
    "store_data_new  = store_data.drop(1,axis=0)\n",
    "store_data_new"
   ]
  },
  {
   "cell_type": "code",
   "execution_count": 47,
   "metadata": {},
   "outputs": [
    {
     "data": {
      "text/html": [
       "<div>\n",
       "<style scoped>\n",
       "    .dataframe tbody tr th:only-of-type {\n",
       "        vertical-align: middle;\n",
       "    }\n",
       "\n",
       "    .dataframe tbody tr th {\n",
       "        vertical-align: top;\n",
       "    }\n",
       "\n",
       "    .dataframe thead th {\n",
       "        text-align: right;\n",
       "    }\n",
       "</style>\n",
       "<table border=\"1\" class=\"dataframe\">\n",
       "  <thead>\n",
       "    <tr style=\"text-align: right;\">\n",
       "      <th></th>\n",
       "      <th>index</th>\n",
       "      <th>location</th>\n",
       "      <th>gender</th>\n",
       "      <th>type</th>\n",
       "      <th>quantity</th>\n",
       "      <th>total_bill</th>\n",
       "      <th>rating</th>\n",
       "    </tr>\n",
       "  </thead>\n",
       "  <tbody>\n",
       "    <tr>\n",
       "      <th>0</th>\n",
       "      <td>0</td>\n",
       "      <td>Chicago</td>\n",
       "      <td>M</td>\n",
       "      <td>Electronics</td>\n",
       "      <td>1</td>\n",
       "      <td>100</td>\n",
       "      <td>2</td>\n",
       "    </tr>\n",
       "    <tr>\n",
       "      <th>1</th>\n",
       "      <td>2</td>\n",
       "      <td>Seattle</td>\n",
       "      <td>F</td>\n",
       "      <td>Food&amp;Beverages</td>\n",
       "      <td>4</td>\n",
       "      <td>125</td>\n",
       "      <td>3</td>\n",
       "    </tr>\n",
       "    <tr>\n",
       "      <th>2</th>\n",
       "      <td>3</td>\n",
       "      <td>San Francisco</td>\n",
       "      <td>M</td>\n",
       "      <td>Medicine</td>\n",
       "      <td>2</td>\n",
       "      <td>50</td>\n",
       "      <td>4</td>\n",
       "    </tr>\n",
       "    <tr>\n",
       "      <th>3</th>\n",
       "      <td>4</td>\n",
       "      <td>Austin</td>\n",
       "      <td>F</td>\n",
       "      <td>Beauty</td>\n",
       "      <td>1</td>\n",
       "      <td>80</td>\n",
       "      <td>4</td>\n",
       "    </tr>\n",
       "  </tbody>\n",
       "</table>\n",
       "</div>"
      ],
      "text/plain": [
       "   index       location gender            type  quantity  total_bill  rating\n",
       "0      0        Chicago      M     Electronics         1         100       2\n",
       "1      2        Seattle      F  Food&Beverages         4         125       3\n",
       "2      3  San Francisco      M        Medicine         2          50       4\n",
       "3      4         Austin      F          Beauty         1          80       4"
      ]
     },
     "execution_count": 47,
     "metadata": {},
     "output_type": "execute_result"
    }
   ],
   "source": [
    "# resetting the index of data frame\n",
    "store_data_new.reset_index()"
   ]
  },
  {
   "cell_type": "markdown",
   "metadata": {},
   "source": [
    "-   We see that the index of the data frame is now resetted but the\n",
    "    index has become a column in the data frame. We do not need the\n",
    "    index to become a column so we can simply set the parameter\n",
    "    **`drop=True`** in reset_index() function."
   ]
  },
  {
   "cell_type": "code",
   "execution_count": 48,
   "metadata": {},
   "outputs": [
    {
     "data": {
      "text/html": [
       "<div>\n",
       "<style scoped>\n",
       "    .dataframe tbody tr th:only-of-type {\n",
       "        vertical-align: middle;\n",
       "    }\n",
       "\n",
       "    .dataframe tbody tr th {\n",
       "        vertical-align: top;\n",
       "    }\n",
       "\n",
       "    .dataframe thead th {\n",
       "        text-align: right;\n",
       "    }\n",
       "</style>\n",
       "<table border=\"1\" class=\"dataframe\">\n",
       "  <thead>\n",
       "    <tr style=\"text-align: right;\">\n",
       "      <th></th>\n",
       "      <th>location</th>\n",
       "      <th>gender</th>\n",
       "      <th>type</th>\n",
       "      <th>quantity</th>\n",
       "      <th>total_bill</th>\n",
       "      <th>rating</th>\n",
       "    </tr>\n",
       "  </thead>\n",
       "  <tbody>\n",
       "    <tr>\n",
       "      <th>0</th>\n",
       "      <td>Chicago</td>\n",
       "      <td>M</td>\n",
       "      <td>Electronics</td>\n",
       "      <td>1</td>\n",
       "      <td>100</td>\n",
       "      <td>2</td>\n",
       "    </tr>\n",
       "    <tr>\n",
       "      <th>1</th>\n",
       "      <td>Seattle</td>\n",
       "      <td>F</td>\n",
       "      <td>Food&amp;Beverages</td>\n",
       "      <td>4</td>\n",
       "      <td>125</td>\n",
       "      <td>3</td>\n",
       "    </tr>\n",
       "    <tr>\n",
       "      <th>2</th>\n",
       "      <td>San Francisco</td>\n",
       "      <td>M</td>\n",
       "      <td>Medicine</td>\n",
       "      <td>2</td>\n",
       "      <td>50</td>\n",
       "      <td>4</td>\n",
       "    </tr>\n",
       "    <tr>\n",
       "      <th>3</th>\n",
       "      <td>Austin</td>\n",
       "      <td>F</td>\n",
       "      <td>Beauty</td>\n",
       "      <td>1</td>\n",
       "      <td>80</td>\n",
       "      <td>4</td>\n",
       "    </tr>\n",
       "  </tbody>\n",
       "</table>\n",
       "</div>"
      ],
      "text/plain": [
       "        location gender            type  quantity  total_bill  rating\n",
       "0        Chicago      M     Electronics         1         100       2\n",
       "1        Seattle      F  Food&Beverages         4         125       3\n",
       "2  San Francisco      M        Medicine         2          50       4\n",
       "3         Austin      F          Beauty         1          80       4"
      ]
     },
     "execution_count": 48,
     "metadata": {},
     "output_type": "execute_result"
    }
   ],
   "source": [
    "# setting inplace = True to make the changes permanent\n",
    "store_data_new.reset_index(drop=True,inplace=True)\n",
    "store_data_new"
   ]
  },
  {
   "cell_type": "markdown",
   "metadata": {},
   "source": [
    "### 2.8 Pandas - Combining DataFrames<a href=\"#2.8-Pandas---Combining-DataFrames\" class=\"anchor-link\">¶</a>\n",
    "\n",
    "We will examine 3 methods for combining dataframes\n",
    "\n",
    "1.  concat\n",
    "2.  join\n",
    "3.  merge"
   ]
  },
  {
   "cell_type": "code",
   "execution_count": 20,
   "metadata": {},
   "outputs": [],
   "source": [
    "data_cust = pd.DataFrame({\"customerID\":['101','102','103','104'], \n",
    "                            'category': ['Medium','Medium','High','Low'],\n",
    "                            'first_visit': ['yes','no','yes','yes'],\n",
    "                            'sales': [123,52,214,663]},index=[0,1,2,3])\n",
    "\n",
    "data_cust_new = pd.DataFrame({\"customerID\":['101','103','104','105'], \n",
    "                        'distance': [12,9,44,21],\n",
    "                        'sales': [123,214,663,331]},index=[4,5,6,7])\n"
   ]
  },
  {
   "cell_type": "code",
   "execution_count": 13,
   "metadata": {},
   "outputs": [
    {
     "data": {
      "text/html": [
       "<div>\n",
       "<style scoped>\n",
       "    .dataframe tbody tr th:only-of-type {\n",
       "        vertical-align: middle;\n",
       "    }\n",
       "\n",
       "    .dataframe tbody tr th {\n",
       "        vertical-align: top;\n",
       "    }\n",
       "\n",
       "    .dataframe thead th {\n",
       "        text-align: right;\n",
       "    }\n",
       "</style>\n",
       "<table border=\"1\" class=\"dataframe\">\n",
       "  <thead>\n",
       "    <tr style=\"text-align: right;\">\n",
       "      <th></th>\n",
       "      <th>customerID</th>\n",
       "      <th>category</th>\n",
       "      <th>first_visit</th>\n",
       "      <th>sales</th>\n",
       "    </tr>\n",
       "  </thead>\n",
       "  <tbody>\n",
       "    <tr>\n",
       "      <th>0</th>\n",
       "      <td>101</td>\n",
       "      <td>Medium</td>\n",
       "      <td>yes</td>\n",
       "      <td>123</td>\n",
       "    </tr>\n",
       "    <tr>\n",
       "      <th>1</th>\n",
       "      <td>102</td>\n",
       "      <td>Medium</td>\n",
       "      <td>yes</td>\n",
       "      <td>52</td>\n",
       "    </tr>\n",
       "    <tr>\n",
       "      <th>2</th>\n",
       "      <td>103</td>\n",
       "      <td>High</td>\n",
       "      <td>yes</td>\n",
       "      <td>214</td>\n",
       "    </tr>\n",
       "    <tr>\n",
       "      <th>3</th>\n",
       "      <td>104</td>\n",
       "      <td>Low</td>\n",
       "      <td>yes</td>\n",
       "      <td>663</td>\n",
       "    </tr>\n",
       "  </tbody>\n",
       "</table>\n",
       "</div>"
      ],
      "text/plain": [
       "  customerID category first_visit  sales\n",
       "0        101   Medium         yes    123\n",
       "1        102   Medium         yes     52\n",
       "2        103     High         yes    214\n",
       "3        104      Low         yes    663"
      ]
     },
     "execution_count": 13,
     "metadata": {},
     "output_type": "execute_result"
    }
   ],
   "source": [
    "data_cust"
   ]
  },
  {
   "cell_type": "code",
   "execution_count": 14,
   "metadata": {},
   "outputs": [
    {
     "data": {
      "text/html": [
       "<div>\n",
       "<style scoped>\n",
       "    .dataframe tbody tr th:only-of-type {\n",
       "        vertical-align: middle;\n",
       "    }\n",
       "\n",
       "    .dataframe tbody tr th {\n",
       "        vertical-align: top;\n",
       "    }\n",
       "\n",
       "    .dataframe thead th {\n",
       "        text-align: right;\n",
       "    }\n",
       "</style>\n",
       "<table border=\"1\" class=\"dataframe\">\n",
       "  <thead>\n",
       "    <tr style=\"text-align: right;\">\n",
       "      <th></th>\n",
       "      <th>customerID</th>\n",
       "      <th>distance</th>\n",
       "      <th>sales</th>\n",
       "    </tr>\n",
       "  </thead>\n",
       "  <tbody>\n",
       "    <tr>\n",
       "      <th>4</th>\n",
       "      <td>101</td>\n",
       "      <td>12</td>\n",
       "      <td>123</td>\n",
       "    </tr>\n",
       "    <tr>\n",
       "      <th>5</th>\n",
       "      <td>103</td>\n",
       "      <td>9</td>\n",
       "      <td>214</td>\n",
       "    </tr>\n",
       "    <tr>\n",
       "      <th>6</th>\n",
       "      <td>104</td>\n",
       "      <td>44</td>\n",
       "      <td>663</td>\n",
       "    </tr>\n",
       "    <tr>\n",
       "      <th>7</th>\n",
       "      <td>105</td>\n",
       "      <td>21</td>\n",
       "      <td>331</td>\n",
       "    </tr>\n",
       "  </tbody>\n",
       "</table>\n",
       "</div>"
      ],
      "text/plain": [
       "  customerID  distance  sales\n",
       "4        101        12    123\n",
       "5        103         9    214\n",
       "6        104        44    663\n",
       "7        105        21    331"
      ]
     },
     "execution_count": 14,
     "metadata": {},
     "output_type": "execute_result"
    }
   ],
   "source": [
    "data_cust_new"
   ]
  },
  {
   "cell_type": "code",
   "execution_count": 15,
   "metadata": {},
   "outputs": [
    {
     "data": {
      "text/html": [
       "<div>\n",
       "<style scoped>\n",
       "    .dataframe tbody tr th:only-of-type {\n",
       "        vertical-align: middle;\n",
       "    }\n",
       "\n",
       "    .dataframe tbody tr th {\n",
       "        vertical-align: top;\n",
       "    }\n",
       "\n",
       "    .dataframe thead th {\n",
       "        text-align: right;\n",
       "    }\n",
       "</style>\n",
       "<table border=\"1\" class=\"dataframe\">\n",
       "  <thead>\n",
       "    <tr style=\"text-align: right;\">\n",
       "      <th></th>\n",
       "      <th>customerID</th>\n",
       "      <th>category</th>\n",
       "      <th>first_visit</th>\n",
       "      <th>sales</th>\n",
       "      <th>distance</th>\n",
       "    </tr>\n",
       "  </thead>\n",
       "  <tbody>\n",
       "    <tr>\n",
       "      <th>0</th>\n",
       "      <td>101</td>\n",
       "      <td>Medium</td>\n",
       "      <td>yes</td>\n",
       "      <td>123</td>\n",
       "      <td>NaN</td>\n",
       "    </tr>\n",
       "    <tr>\n",
       "      <th>1</th>\n",
       "      <td>102</td>\n",
       "      <td>Medium</td>\n",
       "      <td>yes</td>\n",
       "      <td>52</td>\n",
       "      <td>NaN</td>\n",
       "    </tr>\n",
       "    <tr>\n",
       "      <th>2</th>\n",
       "      <td>103</td>\n",
       "      <td>High</td>\n",
       "      <td>yes</td>\n",
       "      <td>214</td>\n",
       "      <td>NaN</td>\n",
       "    </tr>\n",
       "    <tr>\n",
       "      <th>3</th>\n",
       "      <td>104</td>\n",
       "      <td>Low</td>\n",
       "      <td>yes</td>\n",
       "      <td>663</td>\n",
       "      <td>NaN</td>\n",
       "    </tr>\n",
       "    <tr>\n",
       "      <th>4</th>\n",
       "      <td>101</td>\n",
       "      <td>NaN</td>\n",
       "      <td>NaN</td>\n",
       "      <td>123</td>\n",
       "      <td>12.0</td>\n",
       "    </tr>\n",
       "    <tr>\n",
       "      <th>5</th>\n",
       "      <td>103</td>\n",
       "      <td>NaN</td>\n",
       "      <td>NaN</td>\n",
       "      <td>214</td>\n",
       "      <td>9.0</td>\n",
       "    </tr>\n",
       "    <tr>\n",
       "      <th>6</th>\n",
       "      <td>104</td>\n",
       "      <td>NaN</td>\n",
       "      <td>NaN</td>\n",
       "      <td>663</td>\n",
       "      <td>44.0</td>\n",
       "    </tr>\n",
       "    <tr>\n",
       "      <th>7</th>\n",
       "      <td>105</td>\n",
       "      <td>NaN</td>\n",
       "      <td>NaN</td>\n",
       "      <td>331</td>\n",
       "      <td>21.0</td>\n",
       "    </tr>\n",
       "  </tbody>\n",
       "</table>\n",
       "</div>"
      ],
      "text/plain": [
       "  customerID category first_visit  sales  distance\n",
       "0        101   Medium         yes    123       NaN\n",
       "1        102   Medium         yes     52       NaN\n",
       "2        103     High         yes    214       NaN\n",
       "3        104      Low         yes    663       NaN\n",
       "4        101      NaN         NaN    123      12.0\n",
       "5        103      NaN         NaN    214       9.0\n",
       "6        104      NaN         NaN    663      44.0\n",
       "7        105      NaN         NaN    331      21.0"
      ]
     },
     "execution_count": 15,
     "metadata": {},
     "output_type": "execute_result"
    }
   ],
   "source": [
    "pd.concat([data_cust,data_cust_new],axis=0)"
   ]
  },
  {
   "cell_type": "code",
   "execution_count": 16,
   "metadata": {},
   "outputs": [
    {
     "data": {
      "text/html": [
       "<div>\n",
       "<style scoped>\n",
       "    .dataframe tbody tr th:only-of-type {\n",
       "        vertical-align: middle;\n",
       "    }\n",
       "\n",
       "    .dataframe tbody tr th {\n",
       "        vertical-align: top;\n",
       "    }\n",
       "\n",
       "    .dataframe thead th {\n",
       "        text-align: right;\n",
       "    }\n",
       "</style>\n",
       "<table border=\"1\" class=\"dataframe\">\n",
       "  <thead>\n",
       "    <tr style=\"text-align: right;\">\n",
       "      <th></th>\n",
       "      <th>customerID</th>\n",
       "      <th>category</th>\n",
       "      <th>first_visit</th>\n",
       "      <th>sales</th>\n",
       "      <th>customerID</th>\n",
       "      <th>distance</th>\n",
       "      <th>sales</th>\n",
       "    </tr>\n",
       "  </thead>\n",
       "  <tbody>\n",
       "    <tr>\n",
       "      <th>0</th>\n",
       "      <td>101</td>\n",
       "      <td>Medium</td>\n",
       "      <td>yes</td>\n",
       "      <td>123.0</td>\n",
       "      <td>NaN</td>\n",
       "      <td>NaN</td>\n",
       "      <td>NaN</td>\n",
       "    </tr>\n",
       "    <tr>\n",
       "      <th>1</th>\n",
       "      <td>102</td>\n",
       "      <td>Medium</td>\n",
       "      <td>yes</td>\n",
       "      <td>52.0</td>\n",
       "      <td>NaN</td>\n",
       "      <td>NaN</td>\n",
       "      <td>NaN</td>\n",
       "    </tr>\n",
       "    <tr>\n",
       "      <th>2</th>\n",
       "      <td>103</td>\n",
       "      <td>High</td>\n",
       "      <td>yes</td>\n",
       "      <td>214.0</td>\n",
       "      <td>NaN</td>\n",
       "      <td>NaN</td>\n",
       "      <td>NaN</td>\n",
       "    </tr>\n",
       "    <tr>\n",
       "      <th>3</th>\n",
       "      <td>104</td>\n",
       "      <td>Low</td>\n",
       "      <td>yes</td>\n",
       "      <td>663.0</td>\n",
       "      <td>NaN</td>\n",
       "      <td>NaN</td>\n",
       "      <td>NaN</td>\n",
       "    </tr>\n",
       "    <tr>\n",
       "      <th>4</th>\n",
       "      <td>NaN</td>\n",
       "      <td>NaN</td>\n",
       "      <td>NaN</td>\n",
       "      <td>NaN</td>\n",
       "      <td>101</td>\n",
       "      <td>12.0</td>\n",
       "      <td>123.0</td>\n",
       "    </tr>\n",
       "    <tr>\n",
       "      <th>5</th>\n",
       "      <td>NaN</td>\n",
       "      <td>NaN</td>\n",
       "      <td>NaN</td>\n",
       "      <td>NaN</td>\n",
       "      <td>103</td>\n",
       "      <td>9.0</td>\n",
       "      <td>214.0</td>\n",
       "    </tr>\n",
       "    <tr>\n",
       "      <th>6</th>\n",
       "      <td>NaN</td>\n",
       "      <td>NaN</td>\n",
       "      <td>NaN</td>\n",
       "      <td>NaN</td>\n",
       "      <td>104</td>\n",
       "      <td>44.0</td>\n",
       "      <td>663.0</td>\n",
       "    </tr>\n",
       "    <tr>\n",
       "      <th>7</th>\n",
       "      <td>NaN</td>\n",
       "      <td>NaN</td>\n",
       "      <td>NaN</td>\n",
       "      <td>NaN</td>\n",
       "      <td>105</td>\n",
       "      <td>21.0</td>\n",
       "      <td>331.0</td>\n",
       "    </tr>\n",
       "  </tbody>\n",
       "</table>\n",
       "</div>"
      ],
      "text/plain": [
       "  customerID category first_visit  sales customerID  distance  sales\n",
       "0        101   Medium         yes  123.0        NaN       NaN    NaN\n",
       "1        102   Medium         yes   52.0        NaN       NaN    NaN\n",
       "2        103     High         yes  214.0        NaN       NaN    NaN\n",
       "3        104      Low         yes  663.0        NaN       NaN    NaN\n",
       "4        NaN      NaN         NaN    NaN        101      12.0  123.0\n",
       "5        NaN      NaN         NaN    NaN        103       9.0  214.0\n",
       "6        NaN      NaN         NaN    NaN        104      44.0  663.0\n",
       "7        NaN      NaN         NaN    NaN        105      21.0  331.0"
      ]
     },
     "execution_count": 16,
     "metadata": {},
     "output_type": "execute_result"
    }
   ],
   "source": [
    "pd.concat([data_cust,data_cust_new],axis=1)"
   ]
  },
  {
   "cell_type": "markdown",
   "metadata": {},
   "source": [
    "**Merge and Join**\n",
    "\n",
    "-   Merge combines dataframes using a column's values to identify common\n",
    "    entries\n",
    "\n",
    "-   Join combines dataframes using the index to identify common entries"
   ]
  },
  {
   "cell_type": "code",
   "execution_count": 22,
   "metadata": {},
   "outputs": [
    {
     "data": {
      "text/html": [
       "<div>\n",
       "<style scoped>\n",
       "    .dataframe tbody tr th:only-of-type {\n",
       "        vertical-align: middle;\n",
       "    }\n",
       "\n",
       "    .dataframe tbody tr th {\n",
       "        vertical-align: top;\n",
       "    }\n",
       "\n",
       "    .dataframe thead th {\n",
       "        text-align: right;\n",
       "    }\n",
       "</style>\n",
       "<table border=\"1\" class=\"dataframe\">\n",
       "  <thead>\n",
       "    <tr style=\"text-align: right;\">\n",
       "      <th></th>\n",
       "      <th>customerID</th>\n",
       "      <th>category</th>\n",
       "      <th>first_visit</th>\n",
       "      <th>sales_x</th>\n",
       "      <th>distance</th>\n",
       "      <th>sales_y</th>\n",
       "    </tr>\n",
       "  </thead>\n",
       "  <tbody>\n",
       "    <tr>\n",
       "      <th>0</th>\n",
       "      <td>101</td>\n",
       "      <td>Medium</td>\n",
       "      <td>yes</td>\n",
       "      <td>123.0</td>\n",
       "      <td>12.0</td>\n",
       "      <td>123.0</td>\n",
       "    </tr>\n",
       "    <tr>\n",
       "      <th>1</th>\n",
       "      <td>102</td>\n",
       "      <td>Medium</td>\n",
       "      <td>no</td>\n",
       "      <td>52.0</td>\n",
       "      <td>NaN</td>\n",
       "      <td>NaN</td>\n",
       "    </tr>\n",
       "    <tr>\n",
       "      <th>2</th>\n",
       "      <td>103</td>\n",
       "      <td>High</td>\n",
       "      <td>yes</td>\n",
       "      <td>214.0</td>\n",
       "      <td>9.0</td>\n",
       "      <td>214.0</td>\n",
       "    </tr>\n",
       "    <tr>\n",
       "      <th>3</th>\n",
       "      <td>104</td>\n",
       "      <td>Low</td>\n",
       "      <td>yes</td>\n",
       "      <td>663.0</td>\n",
       "      <td>44.0</td>\n",
       "      <td>663.0</td>\n",
       "    </tr>\n",
       "    <tr>\n",
       "      <th>4</th>\n",
       "      <td>105</td>\n",
       "      <td>NaN</td>\n",
       "      <td>NaN</td>\n",
       "      <td>NaN</td>\n",
       "      <td>21.0</td>\n",
       "      <td>331.0</td>\n",
       "    </tr>\n",
       "  </tbody>\n",
       "</table>\n",
       "</div>"
      ],
      "text/plain": [
       "  customerID category first_visit  sales_x  distance  sales_y\n",
       "0        101   Medium         yes    123.0      12.0    123.0\n",
       "1        102   Medium          no     52.0       NaN      NaN\n",
       "2        103     High         yes    214.0       9.0    214.0\n",
       "3        104      Low         yes    663.0      44.0    663.0\n",
       "4        105      NaN         NaN      NaN      21.0    331.0"
      ]
     },
     "execution_count": 22,
     "metadata": {},
     "output_type": "execute_result"
    }
   ],
   "source": [
    "pd.merge(data_cust,data_cust_new,how='outer',on='customerID') # outer merge is union of on"
   ]
  },
  {
   "cell_type": "code",
   "execution_count": 23,
   "metadata": {},
   "outputs": [
    {
     "data": {
      "text/html": [
       "<div>\n",
       "<style scoped>\n",
       "    .dataframe tbody tr th:only-of-type {\n",
       "        vertical-align: middle;\n",
       "    }\n",
       "\n",
       "    .dataframe tbody tr th {\n",
       "        vertical-align: top;\n",
       "    }\n",
       "\n",
       "    .dataframe thead th {\n",
       "        text-align: right;\n",
       "    }\n",
       "</style>\n",
       "<table border=\"1\" class=\"dataframe\">\n",
       "  <thead>\n",
       "    <tr style=\"text-align: right;\">\n",
       "      <th></th>\n",
       "      <th>customerID</th>\n",
       "      <th>category</th>\n",
       "      <th>first_visit</th>\n",
       "      <th>sales_x</th>\n",
       "      <th>distance</th>\n",
       "      <th>sales_y</th>\n",
       "    </tr>\n",
       "  </thead>\n",
       "  <tbody>\n",
       "    <tr>\n",
       "      <th>0</th>\n",
       "      <td>101</td>\n",
       "      <td>Medium</td>\n",
       "      <td>yes</td>\n",
       "      <td>123</td>\n",
       "      <td>12</td>\n",
       "      <td>123</td>\n",
       "    </tr>\n",
       "    <tr>\n",
       "      <th>1</th>\n",
       "      <td>103</td>\n",
       "      <td>High</td>\n",
       "      <td>yes</td>\n",
       "      <td>214</td>\n",
       "      <td>9</td>\n",
       "      <td>214</td>\n",
       "    </tr>\n",
       "    <tr>\n",
       "      <th>2</th>\n",
       "      <td>104</td>\n",
       "      <td>Low</td>\n",
       "      <td>yes</td>\n",
       "      <td>663</td>\n",
       "      <td>44</td>\n",
       "      <td>663</td>\n",
       "    </tr>\n",
       "  </tbody>\n",
       "</table>\n",
       "</div>"
      ],
      "text/plain": [
       "  customerID category first_visit  sales_x  distance  sales_y\n",
       "0        101   Medium         yes      123        12      123\n",
       "1        103     High         yes      214         9      214\n",
       "2        104      Low         yes      663        44      663"
      ]
     },
     "execution_count": 23,
     "metadata": {},
     "output_type": "execute_result"
    }
   ],
   "source": [
    "pd.merge(data_cust,data_cust_new,how='inner',on='customerID') # inner merge is intersection of on"
   ]
  },
  {
   "cell_type": "code",
   "execution_count": 37,
   "metadata": {},
   "outputs": [
    {
     "data": {
      "text/html": [
       "<div>\n",
       "<style scoped>\n",
       "    .dataframe tbody tr th:only-of-type {\n",
       "        vertical-align: middle;\n",
       "    }\n",
       "\n",
       "    .dataframe tbody tr th {\n",
       "        vertical-align: top;\n",
       "    }\n",
       "\n",
       "    .dataframe thead th {\n",
       "        text-align: right;\n",
       "    }\n",
       "</style>\n",
       "<table border=\"1\" class=\"dataframe\">\n",
       "  <thead>\n",
       "    <tr style=\"text-align: right;\">\n",
       "      <th></th>\n",
       "      <th>customerID</th>\n",
       "      <th>category</th>\n",
       "      <th>first_visit</th>\n",
       "      <th>sales_x</th>\n",
       "      <th>distance</th>\n",
       "      <th>sales_y</th>\n",
       "    </tr>\n",
       "  </thead>\n",
       "  <tbody>\n",
       "    <tr>\n",
       "      <th>0</th>\n",
       "      <td>101</td>\n",
       "      <td>Medium</td>\n",
       "      <td>yes</td>\n",
       "      <td>123.0</td>\n",
       "      <td>12</td>\n",
       "      <td>123</td>\n",
       "    </tr>\n",
       "    <tr>\n",
       "      <th>1</th>\n",
       "      <td>103</td>\n",
       "      <td>High</td>\n",
       "      <td>yes</td>\n",
       "      <td>214.0</td>\n",
       "      <td>9</td>\n",
       "      <td>214</td>\n",
       "    </tr>\n",
       "    <tr>\n",
       "      <th>2</th>\n",
       "      <td>104</td>\n",
       "      <td>Low</td>\n",
       "      <td>yes</td>\n",
       "      <td>663.0</td>\n",
       "      <td>44</td>\n",
       "      <td>663</td>\n",
       "    </tr>\n",
       "    <tr>\n",
       "      <th>3</th>\n",
       "      <td>105</td>\n",
       "      <td>NaN</td>\n",
       "      <td>NaN</td>\n",
       "      <td>NaN</td>\n",
       "      <td>21</td>\n",
       "      <td>331</td>\n",
       "    </tr>\n",
       "  </tbody>\n",
       "</table>\n",
       "</div>"
      ],
      "text/plain": [
       "  customerID category first_visit  sales_x  distance  sales_y\n",
       "0        101   Medium         yes    123.0        12      123\n",
       "1        103     High         yes    214.0         9      214\n",
       "2        104      Low         yes    663.0        44      663\n",
       "3        105      NaN         NaN      NaN        21      331"
      ]
     },
     "execution_count": 37,
     "metadata": {},
     "output_type": "execute_result"
    }
   ],
   "source": [
    "pd.merge(data_cust,data_cust_new,how='right',on='customerID')"
   ]
  },
  {
   "cell_type": "code",
   "execution_count": 38,
   "metadata": {},
   "outputs": [
    {
     "data": {
      "text/html": [
       "<div>\n",
       "<style scoped>\n",
       "    .dataframe tbody tr th:only-of-type {\n",
       "        vertical-align: middle;\n",
       "    }\n",
       "\n",
       "    .dataframe tbody tr th {\n",
       "        vertical-align: top;\n",
       "    }\n",
       "\n",
       "    .dataframe thead th {\n",
       "        text-align: right;\n",
       "    }\n",
       "</style>\n",
       "<table border=\"1\" class=\"dataframe\">\n",
       "  <thead>\n",
       "    <tr style=\"text-align: right;\">\n",
       "      <th></th>\n",
       "      <th>customerID</th>\n",
       "      <th>category</th>\n",
       "      <th>first_visit</th>\n",
       "      <th>sales_x</th>\n",
       "      <th>distance</th>\n",
       "      <th>sales_y</th>\n",
       "    </tr>\n",
       "  </thead>\n",
       "  <tbody>\n",
       "    <tr>\n",
       "      <th>0</th>\n",
       "      <td>101</td>\n",
       "      <td>Medium</td>\n",
       "      <td>yes</td>\n",
       "      <td>123</td>\n",
       "      <td>12.0</td>\n",
       "      <td>123.0</td>\n",
       "    </tr>\n",
       "    <tr>\n",
       "      <th>1</th>\n",
       "      <td>102</td>\n",
       "      <td>Medium</td>\n",
       "      <td>no</td>\n",
       "      <td>52</td>\n",
       "      <td>NaN</td>\n",
       "      <td>NaN</td>\n",
       "    </tr>\n",
       "    <tr>\n",
       "      <th>2</th>\n",
       "      <td>103</td>\n",
       "      <td>High</td>\n",
       "      <td>yes</td>\n",
       "      <td>214</td>\n",
       "      <td>9.0</td>\n",
       "      <td>214.0</td>\n",
       "    </tr>\n",
       "    <tr>\n",
       "      <th>3</th>\n",
       "      <td>104</td>\n",
       "      <td>Low</td>\n",
       "      <td>yes</td>\n",
       "      <td>663</td>\n",
       "      <td>44.0</td>\n",
       "      <td>663.0</td>\n",
       "    </tr>\n",
       "  </tbody>\n",
       "</table>\n",
       "</div>"
      ],
      "text/plain": [
       "  customerID category first_visit  sales_x  distance  sales_y\n",
       "0        101   Medium         yes      123      12.0    123.0\n",
       "1        102   Medium          no       52       NaN      NaN\n",
       "2        103     High         yes      214       9.0    214.0\n",
       "3        104      Low         yes      663      44.0    663.0"
      ]
     },
     "execution_count": 38,
     "metadata": {},
     "output_type": "execute_result"
    }
   ],
   "source": [
    "pd.merge(data_cust,data_cust_new,how='left',on='customerID') "
   ]
  },
  {
   "cell_type": "code",
   "execution_count": 40,
   "metadata": {},
   "outputs": [],
   "source": [
    "data_quarters = pd.DataFrame({'Q1': [101,102,103],\n",
    "                                  'Q2': [201,202,203]},\n",
    "                                   index=['I0','I1','I2'])\n",
    "\n",
    "data_quarters_new = pd.DataFrame({'Q3': [301,302,303],\n",
    "                                      'Q4': [401,402,403]},\n",
    "                                   index=['I0','I2','I3'])"
   ]
  },
  {
   "cell_type": "code",
   "execution_count": 43,
   "metadata": {},
   "outputs": [
    {
     "data": {
      "text/html": [
       "<div>\n",
       "<style scoped>\n",
       "    .dataframe tbody tr th:only-of-type {\n",
       "        vertical-align: middle;\n",
       "    }\n",
       "\n",
       "    .dataframe tbody tr th {\n",
       "        vertical-align: top;\n",
       "    }\n",
       "\n",
       "    .dataframe thead th {\n",
       "        text-align: right;\n",
       "    }\n",
       "</style>\n",
       "<table border=\"1\" class=\"dataframe\">\n",
       "  <thead>\n",
       "    <tr style=\"text-align: right;\">\n",
       "      <th></th>\n",
       "      <th>Q1</th>\n",
       "      <th>Q2</th>\n",
       "    </tr>\n",
       "  </thead>\n",
       "  <tbody>\n",
       "    <tr>\n",
       "      <th>I0</th>\n",
       "      <td>101</td>\n",
       "      <td>201</td>\n",
       "    </tr>\n",
       "    <tr>\n",
       "      <th>I1</th>\n",
       "      <td>102</td>\n",
       "      <td>202</td>\n",
       "    </tr>\n",
       "    <tr>\n",
       "      <th>I2</th>\n",
       "      <td>103</td>\n",
       "      <td>203</td>\n",
       "    </tr>\n",
       "  </tbody>\n",
       "</table>\n",
       "</div>"
      ],
      "text/plain": [
       "     Q1   Q2\n",
       "I0  101  201\n",
       "I1  102  202\n",
       "I2  103  203"
      ]
     },
     "execution_count": 43,
     "metadata": {},
     "output_type": "execute_result"
    }
   ],
   "source": [
    "data_quarters"
   ]
  },
  {
   "cell_type": "code",
   "execution_count": 44,
   "metadata": {},
   "outputs": [
    {
     "data": {
      "text/html": [
       "<div>\n",
       "<style scoped>\n",
       "    .dataframe tbody tr th:only-of-type {\n",
       "        vertical-align: middle;\n",
       "    }\n",
       "\n",
       "    .dataframe tbody tr th {\n",
       "        vertical-align: top;\n",
       "    }\n",
       "\n",
       "    .dataframe thead th {\n",
       "        text-align: right;\n",
       "    }\n",
       "</style>\n",
       "<table border=\"1\" class=\"dataframe\">\n",
       "  <thead>\n",
       "    <tr style=\"text-align: right;\">\n",
       "      <th></th>\n",
       "      <th>Q3</th>\n",
       "      <th>Q4</th>\n",
       "    </tr>\n",
       "  </thead>\n",
       "  <tbody>\n",
       "    <tr>\n",
       "      <th>I0</th>\n",
       "      <td>301</td>\n",
       "      <td>401</td>\n",
       "    </tr>\n",
       "    <tr>\n",
       "      <th>I2</th>\n",
       "      <td>302</td>\n",
       "      <td>402</td>\n",
       "    </tr>\n",
       "    <tr>\n",
       "      <th>I3</th>\n",
       "      <td>303</td>\n",
       "      <td>403</td>\n",
       "    </tr>\n",
       "  </tbody>\n",
       "</table>\n",
       "</div>"
      ],
      "text/plain": [
       "     Q3   Q4\n",
       "I0  301  401\n",
       "I2  302  402\n",
       "I3  303  403"
      ]
     },
     "execution_count": 44,
     "metadata": {},
     "output_type": "execute_result"
    }
   ],
   "source": [
    "data_quarters_new"
   ]
  },
  {
   "cell_type": "markdown",
   "metadata": {},
   "source": [
    "-   `join` behaves just like merge, except instead of using the values\n",
    "    of one of the columns to combine data frames, it uses the index\n",
    "    labels"
   ]
  },
  {
   "cell_type": "code",
   "execution_count": 49,
   "metadata": {},
   "outputs": [
    {
     "data": {
      "text/html": [
       "<div>\n",
       "<style scoped>\n",
       "    .dataframe tbody tr th:only-of-type {\n",
       "        vertical-align: middle;\n",
       "    }\n",
       "\n",
       "    .dataframe tbody tr th {\n",
       "        vertical-align: top;\n",
       "    }\n",
       "\n",
       "    .dataframe thead th {\n",
       "        text-align: right;\n",
       "    }\n",
       "</style>\n",
       "<table border=\"1\" class=\"dataframe\">\n",
       "  <thead>\n",
       "    <tr style=\"text-align: right;\">\n",
       "      <th></th>\n",
       "      <th>Q1</th>\n",
       "      <th>Q2</th>\n",
       "      <th>Q3</th>\n",
       "      <th>Q4</th>\n",
       "    </tr>\n",
       "  </thead>\n",
       "  <tbody>\n",
       "    <tr>\n",
       "      <th>I0</th>\n",
       "      <td>101.0</td>\n",
       "      <td>201.0</td>\n",
       "      <td>301</td>\n",
       "      <td>401</td>\n",
       "    </tr>\n",
       "    <tr>\n",
       "      <th>I2</th>\n",
       "      <td>103.0</td>\n",
       "      <td>203.0</td>\n",
       "      <td>302</td>\n",
       "      <td>402</td>\n",
       "    </tr>\n",
       "    <tr>\n",
       "      <th>I3</th>\n",
       "      <td>NaN</td>\n",
       "      <td>NaN</td>\n",
       "      <td>303</td>\n",
       "      <td>403</td>\n",
       "    </tr>\n",
       "  </tbody>\n",
       "</table>\n",
       "</div>"
      ],
      "text/plain": [
       "       Q1     Q2   Q3   Q4\n",
       "I0  101.0  201.0  301  401\n",
       "I2  103.0  203.0  302  402\n",
       "I3    NaN    NaN  303  403"
      ]
     },
     "execution_count": 49,
     "metadata": {},
     "output_type": "execute_result"
    }
   ],
   "source": [
    "data_quarters.join(data_quarters_new,how='right') # outer, inner, left, and right work the same as merge"
   ]
  },
  {
   "cell_type": "markdown",
   "metadata": {},
   "source": [
    "### 2.9 Pandas - Saving and Loading DataFrames<a href=\"#2.9-Pandas---Saving-and-Loading-DataFrames\" class=\"anchor-link\">¶</a>\n",
    "\n",
    "**Note**\n",
    "\n",
    "In real-life scenario, we deal with much larger datasets that have\n",
    "thousands of rows and multiple columns. It will not be feasible for us\n",
    "to create datasets using multiple lists, especially if the number of\n",
    "columns and rows increases.\n",
    "\n",
    "So, it is clear we need a more efficient way of handling the data\n",
    "simultaneously at the columns and row levels. In Python, we can import\n",
    "dataset from our local system, from links, or from databases and work on\n",
    "them directly instead of creating our own dataset."
   ]
  },
  {
   "cell_type": "markdown",
   "metadata": {},
   "source": [
    "**Loading a CSV file in Python**\n",
    "\n",
    "**For Jupyter Notebook**\n",
    "\n",
    "-   When the data file and jupyter notebook are in the same folder."
   ]
  },
  {
   "cell_type": "code",
   "execution_count": 3,
   "metadata": {},
   "outputs": [],
   "source": [
    "# Using pd.read_csv() function will work without any path if the notebook and dataset are in the folder\n",
    "\n",
    "data = pd.read_csv('StockData.csv')"
   ]
  },
  {
   "cell_type": "markdown",
   "metadata": {},
   "source": [
    "**For Google Colab with Google Drive**\n",
    "\n",
    "First, we have to give google colab access to our google drive:"
   ]
  },
  {
   "cell_type": "code",
   "execution_count": null,
   "metadata": {},
   "outputs": [],
   "source": [
    "from google.colab import drive\n",
    "drive.mount('/content/drive')"
   ]
  },
  {
   "cell_type": "markdown",
   "metadata": {},
   "source": [
    "Once we have access we can load files from google drive using read_csv()\n",
    "function."
   ]
  },
  {
   "cell_type": "code",
   "execution_count": 53,
   "metadata": {},
   "outputs": [],
   "source": [
    "path=\"StockData.csv\" \n",
    "data=pd.read_csv(path)"
   ]
  },
  {
   "cell_type": "code",
   "execution_count": 4,
   "metadata": {},
   "outputs": [
    {
     "data": {
      "text/html": [
       "<div>\n",
       "<style scoped>\n",
       "    .dataframe tbody tr th:only-of-type {\n",
       "        vertical-align: middle;\n",
       "    }\n",
       "\n",
       "    .dataframe tbody tr th {\n",
       "        vertical-align: top;\n",
       "    }\n",
       "\n",
       "    .dataframe thead th {\n",
       "        text-align: right;\n",
       "    }\n",
       "</style>\n",
       "<table border=\"1\" class=\"dataframe\">\n",
       "  <thead>\n",
       "    <tr style=\"text-align: right;\">\n",
       "      <th></th>\n",
       "      <th>stock</th>\n",
       "      <th>date</th>\n",
       "      <th>price</th>\n",
       "    </tr>\n",
       "  </thead>\n",
       "  <tbody>\n",
       "    <tr>\n",
       "      <th>0</th>\n",
       "      <td>AAPL</td>\n",
       "      <td>08-02-2013</td>\n",
       "      <td>67.8542</td>\n",
       "    </tr>\n",
       "    <tr>\n",
       "      <th>1</th>\n",
       "      <td>AAPL</td>\n",
       "      <td>11-02-2013</td>\n",
       "      <td>68.5614</td>\n",
       "    </tr>\n",
       "    <tr>\n",
       "      <th>2</th>\n",
       "      <td>AAPL</td>\n",
       "      <td>12-02-2013</td>\n",
       "      <td>66.8428</td>\n",
       "    </tr>\n",
       "    <tr>\n",
       "      <th>3</th>\n",
       "      <td>AAPL</td>\n",
       "      <td>13-02-2013</td>\n",
       "      <td>66.7156</td>\n",
       "    </tr>\n",
       "    <tr>\n",
       "      <th>4</th>\n",
       "      <td>AAPL</td>\n",
       "      <td>14-02-2013</td>\n",
       "      <td>66.6556</td>\n",
       "    </tr>\n",
       "  </tbody>\n",
       "</table>\n",
       "</div>"
      ],
      "text/plain": [
       "  stock        date    price\n",
       "0  AAPL  08-02-2013  67.8542\n",
       "1  AAPL  11-02-2013  68.5614\n",
       "2  AAPL  12-02-2013  66.8428\n",
       "3  AAPL  13-02-2013  66.7156\n",
       "4  AAPL  14-02-2013  66.6556"
      ]
     },
     "execution_count": 4,
     "metadata": {},
     "output_type": "execute_result"
    }
   ],
   "source": [
    "# head() function helps us to see the first 5 rows of the data\n",
    "data.head()"
   ]
  },
  {
   "cell_type": "markdown",
   "metadata": {},
   "source": [
    "**Loading an excel file in Python**"
   ]
  },
  {
   "cell_type": "code",
   "execution_count": 56,
   "metadata": {},
   "outputs": [
    {
     "ename": "FileNotFoundError",
     "evalue": "[Errno 2] No such file or directory: 'StockData.xlsx'",
     "output_type": "error",
     "traceback": [
      "\u001b[1;31m---------------------------------------------------------------------------\u001b[0m",
      "\u001b[1;31mFileNotFoundError\u001b[0m                         Traceback (most recent call last)",
      "\u001b[1;32md:\\Latihan Python\\Pandas_for_Data_Science_Pandas.ipynb Cell 105\u001b[0m line \u001b[0;36m2\n\u001b[0;32m      <a href='vscode-notebook-cell:/d%3A/Latihan%20Python/Pandas_for_Data_Science_Pandas.ipynb#Y205sZmlsZQ%3D%3D?line=0'>1</a>\u001b[0m path_excel\u001b[39m=\u001b[39m\u001b[39m\"\u001b[39m\u001b[39mStockData.xlsx\u001b[39m\u001b[39m\"\u001b[39m \n\u001b[1;32m----> <a href='vscode-notebook-cell:/d%3A/Latihan%20Python/Pandas_for_Data_Science_Pandas.ipynb#Y205sZmlsZQ%3D%3D?line=1'>2</a>\u001b[0m data_excel \u001b[39m=\u001b[39m pd\u001b[39m.\u001b[39;49mread_excel(path_excel)\n",
      "File \u001b[1;32mc:\\Users\\acer\\AppData\\Local\\Programs\\Python\\Python310\\lib\\site-packages\\pandas\\io\\excel\\_base.py:495\u001b[0m, in \u001b[0;36mread_excel\u001b[1;34m(io, sheet_name, header, names, index_col, usecols, dtype, engine, converters, true_values, false_values, skiprows, nrows, na_values, keep_default_na, na_filter, verbose, parse_dates, date_parser, date_format, thousands, decimal, comment, skipfooter, storage_options, dtype_backend, engine_kwargs)\u001b[0m\n\u001b[0;32m    493\u001b[0m \u001b[39mif\u001b[39;00m \u001b[39mnot\u001b[39;00m \u001b[39misinstance\u001b[39m(io, ExcelFile):\n\u001b[0;32m    494\u001b[0m     should_close \u001b[39m=\u001b[39m \u001b[39mTrue\u001b[39;00m\n\u001b[1;32m--> 495\u001b[0m     io \u001b[39m=\u001b[39m ExcelFile(\n\u001b[0;32m    496\u001b[0m         io,\n\u001b[0;32m    497\u001b[0m         storage_options\u001b[39m=\u001b[39;49mstorage_options,\n\u001b[0;32m    498\u001b[0m         engine\u001b[39m=\u001b[39;49mengine,\n\u001b[0;32m    499\u001b[0m         engine_kwargs\u001b[39m=\u001b[39;49mengine_kwargs,\n\u001b[0;32m    500\u001b[0m     )\n\u001b[0;32m    501\u001b[0m \u001b[39melif\u001b[39;00m engine \u001b[39mand\u001b[39;00m engine \u001b[39m!=\u001b[39m io\u001b[39m.\u001b[39mengine:\n\u001b[0;32m    502\u001b[0m     \u001b[39mraise\u001b[39;00m \u001b[39mValueError\u001b[39;00m(\n\u001b[0;32m    503\u001b[0m         \u001b[39m\"\u001b[39m\u001b[39mEngine should not be specified when passing \u001b[39m\u001b[39m\"\u001b[39m\n\u001b[0;32m    504\u001b[0m         \u001b[39m\"\u001b[39m\u001b[39man ExcelFile - ExcelFile already has the engine set\u001b[39m\u001b[39m\"\u001b[39m\n\u001b[0;32m    505\u001b[0m     )\n",
      "File \u001b[1;32mc:\\Users\\acer\\AppData\\Local\\Programs\\Python\\Python310\\lib\\site-packages\\pandas\\io\\excel\\_base.py:1550\u001b[0m, in \u001b[0;36mExcelFile.__init__\u001b[1;34m(self, path_or_buffer, engine, storage_options, engine_kwargs)\u001b[0m\n\u001b[0;32m   1548\u001b[0m     ext \u001b[39m=\u001b[39m \u001b[39m\"\u001b[39m\u001b[39mxls\u001b[39m\u001b[39m\"\u001b[39m\n\u001b[0;32m   1549\u001b[0m \u001b[39melse\u001b[39;00m:\n\u001b[1;32m-> 1550\u001b[0m     ext \u001b[39m=\u001b[39m inspect_excel_format(\n\u001b[0;32m   1551\u001b[0m         content_or_path\u001b[39m=\u001b[39;49mpath_or_buffer, storage_options\u001b[39m=\u001b[39;49mstorage_options\n\u001b[0;32m   1552\u001b[0m     )\n\u001b[0;32m   1553\u001b[0m     \u001b[39mif\u001b[39;00m ext \u001b[39mis\u001b[39;00m \u001b[39mNone\u001b[39;00m:\n\u001b[0;32m   1554\u001b[0m         \u001b[39mraise\u001b[39;00m \u001b[39mValueError\u001b[39;00m(\n\u001b[0;32m   1555\u001b[0m             \u001b[39m\"\u001b[39m\u001b[39mExcel file format cannot be determined, you must specify \u001b[39m\u001b[39m\"\u001b[39m\n\u001b[0;32m   1556\u001b[0m             \u001b[39m\"\u001b[39m\u001b[39man engine manually.\u001b[39m\u001b[39m\"\u001b[39m\n\u001b[0;32m   1557\u001b[0m         )\n",
      "File \u001b[1;32mc:\\Users\\acer\\AppData\\Local\\Programs\\Python\\Python310\\lib\\site-packages\\pandas\\io\\excel\\_base.py:1402\u001b[0m, in \u001b[0;36minspect_excel_format\u001b[1;34m(content_or_path, storage_options)\u001b[0m\n\u001b[0;32m   1399\u001b[0m \u001b[39mif\u001b[39;00m \u001b[39misinstance\u001b[39m(content_or_path, \u001b[39mbytes\u001b[39m):\n\u001b[0;32m   1400\u001b[0m     content_or_path \u001b[39m=\u001b[39m BytesIO(content_or_path)\n\u001b[1;32m-> 1402\u001b[0m \u001b[39mwith\u001b[39;00m get_handle(\n\u001b[0;32m   1403\u001b[0m     content_or_path, \u001b[39m\"\u001b[39;49m\u001b[39mrb\u001b[39;49m\u001b[39m\"\u001b[39;49m, storage_options\u001b[39m=\u001b[39;49mstorage_options, is_text\u001b[39m=\u001b[39;49m\u001b[39mFalse\u001b[39;49;00m\n\u001b[0;32m   1404\u001b[0m ) \u001b[39mas\u001b[39;00m handle:\n\u001b[0;32m   1405\u001b[0m     stream \u001b[39m=\u001b[39m handle\u001b[39m.\u001b[39mhandle\n\u001b[0;32m   1406\u001b[0m     stream\u001b[39m.\u001b[39mseek(\u001b[39m0\u001b[39m)\n",
      "File \u001b[1;32mc:\\Users\\acer\\AppData\\Local\\Programs\\Python\\Python310\\lib\\site-packages\\pandas\\io\\common.py:882\u001b[0m, in \u001b[0;36mget_handle\u001b[1;34m(path_or_buf, mode, encoding, compression, memory_map, is_text, errors, storage_options)\u001b[0m\n\u001b[0;32m    873\u001b[0m         handle \u001b[39m=\u001b[39m \u001b[39mopen\u001b[39m(\n\u001b[0;32m    874\u001b[0m             handle,\n\u001b[0;32m    875\u001b[0m             ioargs\u001b[39m.\u001b[39mmode,\n\u001b[1;32m   (...)\u001b[0m\n\u001b[0;32m    878\u001b[0m             newline\u001b[39m=\u001b[39m\u001b[39m\"\u001b[39m\u001b[39m\"\u001b[39m,\n\u001b[0;32m    879\u001b[0m         )\n\u001b[0;32m    880\u001b[0m     \u001b[39melse\u001b[39;00m:\n\u001b[0;32m    881\u001b[0m         \u001b[39m# Binary mode\u001b[39;00m\n\u001b[1;32m--> 882\u001b[0m         handle \u001b[39m=\u001b[39m \u001b[39mopen\u001b[39;49m(handle, ioargs\u001b[39m.\u001b[39;49mmode)\n\u001b[0;32m    883\u001b[0m     handles\u001b[39m.\u001b[39mappend(handle)\n\u001b[0;32m    885\u001b[0m \u001b[39m# Convert BytesIO or file objects passed with an encoding\u001b[39;00m\n",
      "\u001b[1;31mFileNotFoundError\u001b[0m: [Errno 2] No such file or directory: 'StockData.xlsx'"
     ]
    }
   ],
   "source": [
    "path_excel=\"StockData.xlsx\" \n",
    "data_excel = pd.read_excel(path_excel)"
   ]
  },
  {
   "cell_type": "code",
   "execution_count": null,
   "metadata": {},
   "outputs": [],
   "source": [
    "data_excel.head()"
   ]
  },
  {
   "cell_type": "markdown",
   "metadata": {},
   "source": [
    "**Saving a dataset in Python**\n",
    "\n",
    "**Saving the dataset as a csv file**\n",
    "\n",
    "To save a dataset as .csv file the syntax used is -\n",
    "\n",
    "**data.to_csv('name of the file.csv', index=False)**"
   ]
  },
  {
   "cell_type": "markdown",
   "metadata": {},
   "source": [
    "data.to_csv('Saved_StockData.csv',index=False)"
   ]
  },
  {
   "cell_type": "markdown",
   "metadata": {},
   "source": [
    "-   In jupyter notebook, the dataset will be saved in the folder where\n",
    "    the jupyter notebook is located.\n",
    "-   We can also save the dataset to a desired folder by providing the\n",
    "    path/location of the folder."
   ]
  },
  {
   "cell_type": "markdown",
   "metadata": {},
   "source": [
    "**Saving the dataset as an excel spreadsheet**\n",
    "\n",
    "To save a dataset as .xlsx file the syntax used is -\n",
    "\n",
    "**data.to_excel('name of the file.xlsx',index=False)**"
   ]
  },
  {
   "cell_type": "code",
   "execution_count": null,
   "metadata": {},
   "outputs": [],
   "source": [
    "data.to_excel('Saved_StockData.xlsx',index=False)"
   ]
  },
  {
   "cell_type": "markdown",
   "metadata": {},
   "source": [
    "### 2.10 Pandas - Functions<a href=\"#2.10-Pandas---Functions\" class=\"anchor-link\">¶</a>"
   ]
  },
  {
   "cell_type": "markdown",
   "metadata": {},
   "source": [
    "**head() - to check the first 5 rows of the dataset**"
   ]
  },
  {
   "cell_type": "code",
   "execution_count": 5,
   "metadata": {},
   "outputs": [
    {
     "data": {
      "text/html": [
       "<div>\n",
       "<style scoped>\n",
       "    .dataframe tbody tr th:only-of-type {\n",
       "        vertical-align: middle;\n",
       "    }\n",
       "\n",
       "    .dataframe tbody tr th {\n",
       "        vertical-align: top;\n",
       "    }\n",
       "\n",
       "    .dataframe thead th {\n",
       "        text-align: right;\n",
       "    }\n",
       "</style>\n",
       "<table border=\"1\" class=\"dataframe\">\n",
       "  <thead>\n",
       "    <tr style=\"text-align: right;\">\n",
       "      <th></th>\n",
       "      <th>stock</th>\n",
       "      <th>date</th>\n",
       "      <th>price</th>\n",
       "    </tr>\n",
       "  </thead>\n",
       "  <tbody>\n",
       "    <tr>\n",
       "      <th>0</th>\n",
       "      <td>AAPL</td>\n",
       "      <td>08-02-2013</td>\n",
       "      <td>67.8542</td>\n",
       "    </tr>\n",
       "    <tr>\n",
       "      <th>1</th>\n",
       "      <td>AAPL</td>\n",
       "      <td>11-02-2013</td>\n",
       "      <td>68.5614</td>\n",
       "    </tr>\n",
       "    <tr>\n",
       "      <th>2</th>\n",
       "      <td>AAPL</td>\n",
       "      <td>12-02-2013</td>\n",
       "      <td>66.8428</td>\n",
       "    </tr>\n",
       "    <tr>\n",
       "      <th>3</th>\n",
       "      <td>AAPL</td>\n",
       "      <td>13-02-2013</td>\n",
       "      <td>66.7156</td>\n",
       "    </tr>\n",
       "    <tr>\n",
       "      <th>4</th>\n",
       "      <td>AAPL</td>\n",
       "      <td>14-02-2013</td>\n",
       "      <td>66.6556</td>\n",
       "    </tr>\n",
       "  </tbody>\n",
       "</table>\n",
       "</div>"
      ],
      "text/plain": [
       "  stock        date    price\n",
       "0  AAPL  08-02-2013  67.8542\n",
       "1  AAPL  11-02-2013  68.5614\n",
       "2  AAPL  12-02-2013  66.8428\n",
       "3  AAPL  13-02-2013  66.7156\n",
       "4  AAPL  14-02-2013  66.6556"
      ]
     },
     "execution_count": 5,
     "metadata": {},
     "output_type": "execute_result"
    }
   ],
   "source": [
    "data.head()"
   ]
  },
  {
   "cell_type": "markdown",
   "metadata": {},
   "source": [
    "**tail() - to check the last 5 rows of the dataset**"
   ]
  },
  {
   "cell_type": "code",
   "execution_count": 6,
   "metadata": {},
   "outputs": [
    {
     "data": {
      "text/html": [
       "<div>\n",
       "<style scoped>\n",
       "    .dataframe tbody tr th:only-of-type {\n",
       "        vertical-align: middle;\n",
       "    }\n",
       "\n",
       "    .dataframe tbody tr th {\n",
       "        vertical-align: top;\n",
       "    }\n",
       "\n",
       "    .dataframe thead th {\n",
       "        text-align: right;\n",
       "    }\n",
       "</style>\n",
       "<table border=\"1\" class=\"dataframe\">\n",
       "  <thead>\n",
       "    <tr style=\"text-align: right;\">\n",
       "      <th></th>\n",
       "      <th>stock</th>\n",
       "      <th>date</th>\n",
       "      <th>price</th>\n",
       "    </tr>\n",
       "  </thead>\n",
       "  <tbody>\n",
       "    <tr>\n",
       "      <th>5031</th>\n",
       "      <td>ZTS</td>\n",
       "      <td>01-02-2018</td>\n",
       "      <td>77.82</td>\n",
       "    </tr>\n",
       "    <tr>\n",
       "      <th>5032</th>\n",
       "      <td>ZTS</td>\n",
       "      <td>02-02-2018</td>\n",
       "      <td>76.78</td>\n",
       "    </tr>\n",
       "    <tr>\n",
       "      <th>5033</th>\n",
       "      <td>ZTS</td>\n",
       "      <td>05-02-2018</td>\n",
       "      <td>73.83</td>\n",
       "    </tr>\n",
       "    <tr>\n",
       "      <th>5034</th>\n",
       "      <td>ZTS</td>\n",
       "      <td>06-02-2018</td>\n",
       "      <td>73.27</td>\n",
       "    </tr>\n",
       "    <tr>\n",
       "      <th>5035</th>\n",
       "      <td>ZTS</td>\n",
       "      <td>07-02-2018</td>\n",
       "      <td>73.86</td>\n",
       "    </tr>\n",
       "  </tbody>\n",
       "</table>\n",
       "</div>"
      ],
      "text/plain": [
       "     stock        date  price\n",
       "5031   ZTS  01-02-2018  77.82\n",
       "5032   ZTS  02-02-2018  76.78\n",
       "5033   ZTS  05-02-2018  73.83\n",
       "5034   ZTS  06-02-2018  73.27\n",
       "5035   ZTS  07-02-2018  73.86"
      ]
     },
     "execution_count": 6,
     "metadata": {},
     "output_type": "execute_result"
    }
   ],
   "source": [
    "data.tail()"
   ]
  },
  {
   "cell_type": "markdown",
   "metadata": {},
   "source": [
    "**shape - to check the number of rows and columns in the dataset**"
   ]
  },
  {
   "cell_type": "code",
   "execution_count": 7,
   "metadata": {},
   "outputs": [
    {
     "data": {
      "text/plain": [
       "(5036, 3)"
      ]
     },
     "execution_count": 7,
     "metadata": {},
     "output_type": "execute_result"
    }
   ],
   "source": [
    "data.shape"
   ]
  },
  {
   "cell_type": "markdown",
   "metadata": {},
   "source": [
    "-   The dataset has 5036 rows and 3 columns."
   ]
  },
  {
   "cell_type": "markdown",
   "metadata": {},
   "source": [
    "**info() - to check the data type of the columns**"
   ]
  },
  {
   "cell_type": "code",
   "execution_count": 9,
   "metadata": {},
   "outputs": [
    {
     "name": "stdout",
     "output_type": "stream",
     "text": [
      "<class 'pandas.core.frame.DataFrame'>\n",
      "RangeIndex: 5036 entries, 0 to 5035\n",
      "Data columns (total 3 columns):\n",
      " #   Column  Non-Null Count  Dtype  \n",
      "---  ------  --------------  -----  \n",
      " 0   stock   5036 non-null   object \n",
      " 1   date    5036 non-null   object \n",
      " 2   price   5036 non-null   float64\n",
      "dtypes: float64(1), object(2)\n",
      "memory usage: 118.2+ KB\n"
     ]
    }
   ],
   "source": [
    "data.info()"
   ]
  },
  {
   "cell_type": "markdown",
   "metadata": {},
   "source": [
    "-   The price column is numeric in nature while the stock and date\n",
    "    columns are of object types."
   ]
  },
  {
   "cell_type": "markdown",
   "metadata": {},
   "source": [
    "**min() - to check the minimum value of a numeric column**"
   ]
  },
  {
   "cell_type": "code",
   "execution_count": 11,
   "metadata": {},
   "outputs": [
    {
     "data": {
      "text/plain": [
       "28.4"
      ]
     },
     "execution_count": 11,
     "metadata": {},
     "output_type": "execute_result"
    }
   ],
   "source": [
    "data['price'].min()"
   ]
  },
  {
   "cell_type": "markdown",
   "metadata": {},
   "source": [
    "**max() - to check the maximum value of a numeric column**"
   ]
  },
  {
   "cell_type": "code",
   "execution_count": 10,
   "metadata": {},
   "outputs": [
    {
     "data": {
      "text/plain": [
       "179.26"
      ]
     },
     "execution_count": 10,
     "metadata": {},
     "output_type": "execute_result"
    }
   ],
   "source": [
    "data['price'].max()"
   ]
  },
  {
   "cell_type": "markdown",
   "metadata": {},
   "source": [
    "**unique() - to check the number of unique values that are present in a\n",
    "column**"
   ]
  },
  {
   "cell_type": "code",
   "execution_count": 12,
   "metadata": {},
   "outputs": [
    {
     "data": {
      "text/plain": [
       "array(['AAPL', 'SNI', 'TJX', 'ZTS'], dtype=object)"
      ]
     },
     "execution_count": 12,
     "metadata": {},
     "output_type": "execute_result"
    }
   ],
   "source": [
    "data['stock'].unique()"
   ]
  },
  {
   "cell_type": "markdown",
   "metadata": {},
   "source": [
    "**value_counts() - to check the number of values that each unique\n",
    "quantity has in a column**"
   ]
  },
  {
   "cell_type": "code",
   "execution_count": 13,
   "metadata": {},
   "outputs": [
    {
     "data": {
      "text/plain": [
       "stock\n",
       "AAPL    1259\n",
       "SNI     1259\n",
       "TJX     1259\n",
       "ZTS     1259\n",
       "Name: count, dtype: int64"
      ]
     },
     "execution_count": 13,
     "metadata": {},
     "output_type": "execute_result"
    }
   ],
   "source": [
    "data['stock'].value_counts()"
   ]
  },
  {
   "cell_type": "markdown",
   "metadata": {},
   "source": [
    "**value_counts(normalize=True) - using the `normalize` parameter and\n",
    "initializing it to True will return the relative frequencies of the\n",
    "unique values.**"
   ]
  },
  {
   "cell_type": "code",
   "execution_count": 14,
   "metadata": {},
   "outputs": [
    {
     "data": {
      "text/plain": [
       "stock\n",
       "AAPL    0.25\n",
       "SNI     0.25\n",
       "TJX     0.25\n",
       "ZTS     0.25\n",
       "Name: proportion, dtype: float64"
      ]
     },
     "execution_count": 14,
     "metadata": {},
     "output_type": "execute_result"
    }
   ],
   "source": [
    "data['stock'].value_counts(normalize=True)"
   ]
  },
  {
   "cell_type": "markdown",
   "metadata": {},
   "source": [
    "**Statistical Functions**\n",
    "\n",
    "**mean() - to check the mean (average) value of the column**"
   ]
  },
  {
   "cell_type": "code",
   "execution_count": 15,
   "metadata": {},
   "outputs": [
    {
     "data": {
      "text/plain": [
       "73.05702966640192"
      ]
     },
     "execution_count": 15,
     "metadata": {},
     "output_type": "execute_result"
    }
   ],
   "source": [
    "data['price'].mean()"
   ]
  },
  {
   "cell_type": "markdown",
   "metadata": {},
   "source": [
    "**median() - to check the median value of the column**"
   ]
  },
  {
   "cell_type": "code",
   "execution_count": 16,
   "metadata": {},
   "outputs": [
    {
     "data": {
      "text/plain": [
       "69.08500000000001"
      ]
     },
     "execution_count": 16,
     "metadata": {},
     "output_type": "execute_result"
    }
   ],
   "source": [
    "data['price'].median()"
   ]
  },
  {
   "cell_type": "markdown",
   "metadata": {},
   "source": [
    "**mode() - to check the mode value of the column**"
   ]
  },
  {
   "cell_type": "code",
   "execution_count": 17,
   "metadata": {},
   "outputs": [
    {
     "data": {
      "text/plain": [
       "0    AAPL\n",
       "1     SNI\n",
       "2     TJX\n",
       "3     ZTS\n",
       "Name: stock, dtype: object"
      ]
     },
     "execution_count": 17,
     "metadata": {},
     "output_type": "execute_result"
    }
   ],
   "source": [
    "data['stock'].mode()"
   ]
  },
  {
   "cell_type": "markdown",
   "metadata": {},
   "source": [
    "**To access a particular mode when the dataset has more than 1 mode**"
   ]
  },
  {
   "cell_type": "code",
   "execution_count": 18,
   "metadata": {},
   "outputs": [
    {
     "data": {
      "text/plain": [
       "74.59"
      ]
     },
     "execution_count": 18,
     "metadata": {},
     "output_type": "execute_result"
    }
   ],
   "source": [
    "#to access the first mode \n",
    "data['price'].mode()[0]"
   ]
  },
  {
   "cell_type": "markdown",
   "metadata": {},
   "source": [
    "**Group By function**\n",
    "\n",
    "-   Pandas dataframe.groupby() function is used to split the data into\n",
    "    groups based on some criteria."
   ]
  },
  {
   "cell_type": "code",
   "execution_count": 19,
   "metadata": {},
   "outputs": [
    {
     "data": {
      "text/plain": [
       "stock\n",
       "AAPL    109.066698\n",
       "SNI      71.319206\n",
       "TJX      66.743566\n",
       "ZTS      45.098648\n",
       "Name: price, dtype: float64"
      ]
     },
     "execution_count": 19,
     "metadata": {},
     "output_type": "execute_result"
    }
   ],
   "source": [
    "data.groupby(['stock'])['price'].mean()"
   ]
  },
  {
   "cell_type": "markdown",
   "metadata": {},
   "source": [
    "-   Here the groupby function is used to split the data into the 4\n",
    "    stocks that are present in the dataset and then the mean price of\n",
    "    each of the 4 stock is calculated."
   ]
  },
  {
   "cell_type": "code",
   "execution_count": 20,
   "metadata": {},
   "outputs": [
    {
     "data": {
      "text/plain": [
       "stock\n",
       "AAPL    109.01\n",
       "SNI      72.31\n",
       "TJX      68.85\n",
       "ZTS      45.62\n",
       "Name: price, dtype: float64"
      ]
     },
     "execution_count": 20,
     "metadata": {},
     "output_type": "execute_result"
    }
   ],
   "source": [
    "# similarly we can get the median price of each stock\n",
    "data.groupby(['stock'])['price'].median()"
   ]
  },
  {
   "cell_type": "markdown",
   "metadata": {},
   "source": [
    "-   Here the groupby function is used to split the data into the 4\n",
    "    stocks that are present in the dataset and then the median price of\n",
    "    each of the 4 stock is calculated."
   ]
  },
  {
   "cell_type": "markdown",
   "metadata": {},
   "source": [
    "**Let's create a function to increase the price of the stock by 10%**"
   ]
  },
  {
   "cell_type": "code",
   "execution_count": 21,
   "metadata": {},
   "outputs": [],
   "source": [
    "def profit(s):\n",
    "    return s + s*0.10 # increase of 10%"
   ]
  },
  {
   "cell_type": "markdown",
   "metadata": {},
   "source": [
    "**The Pandas apply() function lets you to manipulate columns and rows in\n",
    "a DataFrame.**"
   ]
  },
  {
   "cell_type": "code",
   "execution_count": 22,
   "metadata": {},
   "outputs": [
    {
     "data": {
      "text/plain": [
       "0       74.63962\n",
       "1       75.41754\n",
       "2       73.52708\n",
       "3       73.38716\n",
       "4       73.32116\n",
       "          ...   \n",
       "5031    85.60200\n",
       "5032    84.45800\n",
       "5033    81.21300\n",
       "5034    80.59700\n",
       "5035    81.24600\n",
       "Name: price, Length: 5036, dtype: float64"
      ]
     },
     "execution_count": 22,
     "metadata": {},
     "output_type": "execute_result"
    }
   ],
   "source": [
    "data['price'].apply(profit)"
   ]
  },
  {
   "cell_type": "markdown",
   "metadata": {},
   "source": [
    "-   We can now add this updated values in the dataset."
   ]
  },
  {
   "cell_type": "code",
   "execution_count": 23,
   "metadata": {},
   "outputs": [
    {
     "data": {
      "text/html": [
       "<div>\n",
       "<style scoped>\n",
       "    .dataframe tbody tr th:only-of-type {\n",
       "        vertical-align: middle;\n",
       "    }\n",
       "\n",
       "    .dataframe tbody tr th {\n",
       "        vertical-align: top;\n",
       "    }\n",
       "\n",
       "    .dataframe thead th {\n",
       "        text-align: right;\n",
       "    }\n",
       "</style>\n",
       "<table border=\"1\" class=\"dataframe\">\n",
       "  <thead>\n",
       "    <tr style=\"text-align: right;\">\n",
       "      <th></th>\n",
       "      <th>stock</th>\n",
       "      <th>date</th>\n",
       "      <th>price</th>\n",
       "      <th>new_price</th>\n",
       "    </tr>\n",
       "  </thead>\n",
       "  <tbody>\n",
       "    <tr>\n",
       "      <th>0</th>\n",
       "      <td>AAPL</td>\n",
       "      <td>08-02-2013</td>\n",
       "      <td>67.8542</td>\n",
       "      <td>74.63962</td>\n",
       "    </tr>\n",
       "    <tr>\n",
       "      <th>1</th>\n",
       "      <td>AAPL</td>\n",
       "      <td>11-02-2013</td>\n",
       "      <td>68.5614</td>\n",
       "      <td>75.41754</td>\n",
       "    </tr>\n",
       "    <tr>\n",
       "      <th>2</th>\n",
       "      <td>AAPL</td>\n",
       "      <td>12-02-2013</td>\n",
       "      <td>66.8428</td>\n",
       "      <td>73.52708</td>\n",
       "    </tr>\n",
       "    <tr>\n",
       "      <th>3</th>\n",
       "      <td>AAPL</td>\n",
       "      <td>13-02-2013</td>\n",
       "      <td>66.7156</td>\n",
       "      <td>73.38716</td>\n",
       "    </tr>\n",
       "    <tr>\n",
       "      <th>4</th>\n",
       "      <td>AAPL</td>\n",
       "      <td>14-02-2013</td>\n",
       "      <td>66.6556</td>\n",
       "      <td>73.32116</td>\n",
       "    </tr>\n",
       "  </tbody>\n",
       "</table>\n",
       "</div>"
      ],
      "text/plain": [
       "  stock        date    price  new_price\n",
       "0  AAPL  08-02-2013  67.8542   74.63962\n",
       "1  AAPL  11-02-2013  68.5614   75.41754\n",
       "2  AAPL  12-02-2013  66.8428   73.52708\n",
       "3  AAPL  13-02-2013  66.7156   73.38716\n",
       "4  AAPL  14-02-2013  66.6556   73.32116"
      ]
     },
     "execution_count": 23,
     "metadata": {},
     "output_type": "execute_result"
    }
   ],
   "source": [
    "data['new_price'] =data['price'].apply(profit)\n",
    "data.head()"
   ]
  },
  {
   "cell_type": "markdown",
   "metadata": {},
   "source": [
    "**Pandas sort_values() function sorts a data frame in ascending or\n",
    "descending order of passed column.**"
   ]
  },
  {
   "cell_type": "code",
   "execution_count": 24,
   "metadata": {},
   "outputs": [
    {
     "data": {
      "text/html": [
       "<div>\n",
       "<style scoped>\n",
       "    .dataframe tbody tr th:only-of-type {\n",
       "        vertical-align: middle;\n",
       "    }\n",
       "\n",
       "    .dataframe tbody tr th {\n",
       "        vertical-align: top;\n",
       "    }\n",
       "\n",
       "    .dataframe thead th {\n",
       "        text-align: right;\n",
       "    }\n",
       "</style>\n",
       "<table border=\"1\" class=\"dataframe\">\n",
       "  <thead>\n",
       "    <tr style=\"text-align: right;\">\n",
       "      <th></th>\n",
       "      <th>stock</th>\n",
       "      <th>date</th>\n",
       "      <th>price</th>\n",
       "      <th>new_price</th>\n",
       "    </tr>\n",
       "  </thead>\n",
       "  <tbody>\n",
       "    <tr>\n",
       "      <th>1244</th>\n",
       "      <td>AAPL</td>\n",
       "      <td>18-01-2018</td>\n",
       "      <td>179.26</td>\n",
       "      <td>197.186</td>\n",
       "    </tr>\n",
       "    <tr>\n",
       "      <th>1243</th>\n",
       "      <td>AAPL</td>\n",
       "      <td>17-01-2018</td>\n",
       "      <td>179.10</td>\n",
       "      <td>197.010</td>\n",
       "    </tr>\n",
       "    <tr>\n",
       "      <th>1245</th>\n",
       "      <td>AAPL</td>\n",
       "      <td>19-01-2018</td>\n",
       "      <td>178.46</td>\n",
       "      <td>196.306</td>\n",
       "    </tr>\n",
       "    <tr>\n",
       "      <th>1241</th>\n",
       "      <td>AAPL</td>\n",
       "      <td>12-01-2018</td>\n",
       "      <td>177.09</td>\n",
       "      <td>194.799</td>\n",
       "    </tr>\n",
       "    <tr>\n",
       "      <th>1247</th>\n",
       "      <td>AAPL</td>\n",
       "      <td>23-01-2018</td>\n",
       "      <td>177.04</td>\n",
       "      <td>194.744</td>\n",
       "    </tr>\n",
       "    <tr>\n",
       "      <th>...</th>\n",
       "      <td>...</td>\n",
       "      <td>...</td>\n",
       "      <td>...</td>\n",
       "      <td>...</td>\n",
       "    </tr>\n",
       "    <tr>\n",
       "      <th>4076</th>\n",
       "      <td>ZTS</td>\n",
       "      <td>17-04-2014</td>\n",
       "      <td>28.60</td>\n",
       "      <td>31.460</td>\n",
       "    </tr>\n",
       "    <tr>\n",
       "      <th>4074</th>\n",
       "      <td>ZTS</td>\n",
       "      <td>15-04-2014</td>\n",
       "      <td>28.55</td>\n",
       "      <td>31.405</td>\n",
       "    </tr>\n",
       "    <tr>\n",
       "      <th>4075</th>\n",
       "      <td>ZTS</td>\n",
       "      <td>16-04-2014</td>\n",
       "      <td>28.53</td>\n",
       "      <td>31.383</td>\n",
       "    </tr>\n",
       "    <tr>\n",
       "      <th>4073</th>\n",
       "      <td>ZTS</td>\n",
       "      <td>14-04-2014</td>\n",
       "      <td>28.48</td>\n",
       "      <td>31.328</td>\n",
       "    </tr>\n",
       "    <tr>\n",
       "      <th>4072</th>\n",
       "      <td>ZTS</td>\n",
       "      <td>11-04-2014</td>\n",
       "      <td>28.40</td>\n",
       "      <td>31.240</td>\n",
       "    </tr>\n",
       "  </tbody>\n",
       "</table>\n",
       "<p>5036 rows × 4 columns</p>\n",
       "</div>"
      ],
      "text/plain": [
       "     stock        date   price  new_price\n",
       "1244  AAPL  18-01-2018  179.26    197.186\n",
       "1243  AAPL  17-01-2018  179.10    197.010\n",
       "1245  AAPL  19-01-2018  178.46    196.306\n",
       "1241  AAPL  12-01-2018  177.09    194.799\n",
       "1247  AAPL  23-01-2018  177.04    194.744\n",
       "...    ...         ...     ...        ...\n",
       "4076   ZTS  17-04-2014   28.60     31.460\n",
       "4074   ZTS  15-04-2014   28.55     31.405\n",
       "4075   ZTS  16-04-2014   28.53     31.383\n",
       "4073   ZTS  14-04-2014   28.48     31.328\n",
       "4072   ZTS  11-04-2014   28.40     31.240\n",
       "\n",
       "[5036 rows x 4 columns]"
      ]
     },
     "execution_count": 24,
     "metadata": {},
     "output_type": "execute_result"
    }
   ],
   "source": [
    "data.sort_values(by='new_price',ascending=False) # by default ascending is set to True"
   ]
  },
  {
   "cell_type": "markdown",
   "metadata": {},
   "source": [
    "### 2.11 Pandas - Date-time Functions<a href=\"#2.11-Pandas---Date-time-Functions\" class=\"anchor-link\">¶</a>"
   ]
  },
  {
   "cell_type": "code",
   "execution_count": 25,
   "metadata": {},
   "outputs": [],
   "source": [
    "# reading the StockData\n",
    "path=\"StockData.csv\" \n",
    "data=pd.read_csv(path)"
   ]
  },
  {
   "cell_type": "code",
   "execution_count": 26,
   "metadata": {},
   "outputs": [
    {
     "data": {
      "text/html": [
       "<div>\n",
       "<style scoped>\n",
       "    .dataframe tbody tr th:only-of-type {\n",
       "        vertical-align: middle;\n",
       "    }\n",
       "\n",
       "    .dataframe tbody tr th {\n",
       "        vertical-align: top;\n",
       "    }\n",
       "\n",
       "    .dataframe thead th {\n",
       "        text-align: right;\n",
       "    }\n",
       "</style>\n",
       "<table border=\"1\" class=\"dataframe\">\n",
       "  <thead>\n",
       "    <tr style=\"text-align: right;\">\n",
       "      <th></th>\n",
       "      <th>stock</th>\n",
       "      <th>date</th>\n",
       "      <th>price</th>\n",
       "    </tr>\n",
       "  </thead>\n",
       "  <tbody>\n",
       "    <tr>\n",
       "      <th>0</th>\n",
       "      <td>AAPL</td>\n",
       "      <td>08-02-2013</td>\n",
       "      <td>67.8542</td>\n",
       "    </tr>\n",
       "    <tr>\n",
       "      <th>1</th>\n",
       "      <td>AAPL</td>\n",
       "      <td>11-02-2013</td>\n",
       "      <td>68.5614</td>\n",
       "    </tr>\n",
       "    <tr>\n",
       "      <th>2</th>\n",
       "      <td>AAPL</td>\n",
       "      <td>12-02-2013</td>\n",
       "      <td>66.8428</td>\n",
       "    </tr>\n",
       "    <tr>\n",
       "      <th>3</th>\n",
       "      <td>AAPL</td>\n",
       "      <td>13-02-2013</td>\n",
       "      <td>66.7156</td>\n",
       "    </tr>\n",
       "    <tr>\n",
       "      <th>4</th>\n",
       "      <td>AAPL</td>\n",
       "      <td>14-02-2013</td>\n",
       "      <td>66.6556</td>\n",
       "    </tr>\n",
       "  </tbody>\n",
       "</table>\n",
       "</div>"
      ],
      "text/plain": [
       "  stock        date    price\n",
       "0  AAPL  08-02-2013  67.8542\n",
       "1  AAPL  11-02-2013  68.5614\n",
       "2  AAPL  12-02-2013  66.8428\n",
       "3  AAPL  13-02-2013  66.7156\n",
       "4  AAPL  14-02-2013  66.6556"
      ]
     },
     "execution_count": 26,
     "metadata": {},
     "output_type": "execute_result"
    }
   ],
   "source": [
    "# checking the first 5 rows of the dataset\n",
    "data.head()"
   ]
  },
  {
   "cell_type": "code",
   "execution_count": 27,
   "metadata": {},
   "outputs": [
    {
     "name": "stdout",
     "output_type": "stream",
     "text": [
      "<class 'pandas.core.frame.DataFrame'>\n",
      "RangeIndex: 5036 entries, 0 to 5035\n",
      "Data columns (total 3 columns):\n",
      " #   Column  Non-Null Count  Dtype  \n",
      "---  ------  --------------  -----  \n",
      " 0   stock   5036 non-null   object \n",
      " 1   date    5036 non-null   object \n",
      " 2   price   5036 non-null   float64\n",
      "dtypes: float64(1), object(2)\n",
      "memory usage: 118.2+ KB\n"
     ]
    }
   ],
   "source": [
    "# checking the data type of columns in the dataset\n",
    "data.info()"
   ]
  },
  {
   "cell_type": "markdown",
   "metadata": {},
   "source": [
    "-   We observe that the date column is of object type whereas it should\n",
    "    be of date time data type."
   ]
  },
  {
   "cell_type": "code",
   "execution_count": 28,
   "metadata": {},
   "outputs": [],
   "source": [
    "# converting the date column to datetime format\n",
    "data['date']  = pd.to_datetime(data['date'],dayfirst=True)"
   ]
  },
  {
   "cell_type": "code",
   "execution_count": 29,
   "metadata": {},
   "outputs": [
    {
     "name": "stdout",
     "output_type": "stream",
     "text": [
      "<class 'pandas.core.frame.DataFrame'>\n",
      "RangeIndex: 5036 entries, 0 to 5035\n",
      "Data columns (total 3 columns):\n",
      " #   Column  Non-Null Count  Dtype         \n",
      "---  ------  --------------  -----         \n",
      " 0   stock   5036 non-null   object        \n",
      " 1   date    5036 non-null   datetime64[ns]\n",
      " 2   price   5036 non-null   float64       \n",
      "dtypes: datetime64[ns](1), float64(1), object(1)\n",
      "memory usage: 118.2+ KB\n"
     ]
    }
   ],
   "source": [
    "data.info()"
   ]
  },
  {
   "cell_type": "markdown",
   "metadata": {},
   "source": [
    "-   We observe that the date column has been converted to datetime\n",
    "    format"
   ]
  },
  {
   "cell_type": "code",
   "execution_count": 30,
   "metadata": {},
   "outputs": [
    {
     "data": {
      "text/html": [
       "<div>\n",
       "<style scoped>\n",
       "    .dataframe tbody tr th:only-of-type {\n",
       "        vertical-align: middle;\n",
       "    }\n",
       "\n",
       "    .dataframe tbody tr th {\n",
       "        vertical-align: top;\n",
       "    }\n",
       "\n",
       "    .dataframe thead th {\n",
       "        text-align: right;\n",
       "    }\n",
       "</style>\n",
       "<table border=\"1\" class=\"dataframe\">\n",
       "  <thead>\n",
       "    <tr style=\"text-align: right;\">\n",
       "      <th></th>\n",
       "      <th>stock</th>\n",
       "      <th>date</th>\n",
       "      <th>price</th>\n",
       "    </tr>\n",
       "  </thead>\n",
       "  <tbody>\n",
       "    <tr>\n",
       "      <th>0</th>\n",
       "      <td>AAPL</td>\n",
       "      <td>2013-02-08</td>\n",
       "      <td>67.8542</td>\n",
       "    </tr>\n",
       "    <tr>\n",
       "      <th>1</th>\n",
       "      <td>AAPL</td>\n",
       "      <td>2013-02-11</td>\n",
       "      <td>68.5614</td>\n",
       "    </tr>\n",
       "    <tr>\n",
       "      <th>2</th>\n",
       "      <td>AAPL</td>\n",
       "      <td>2013-02-12</td>\n",
       "      <td>66.8428</td>\n",
       "    </tr>\n",
       "    <tr>\n",
       "      <th>3</th>\n",
       "      <td>AAPL</td>\n",
       "      <td>2013-02-13</td>\n",
       "      <td>66.7156</td>\n",
       "    </tr>\n",
       "    <tr>\n",
       "      <th>4</th>\n",
       "      <td>AAPL</td>\n",
       "      <td>2013-02-14</td>\n",
       "      <td>66.6556</td>\n",
       "    </tr>\n",
       "  </tbody>\n",
       "</table>\n",
       "</div>"
      ],
      "text/plain": [
       "  stock       date    price\n",
       "0  AAPL 2013-02-08  67.8542\n",
       "1  AAPL 2013-02-11  68.5614\n",
       "2  AAPL 2013-02-12  66.8428\n",
       "3  AAPL 2013-02-13  66.7156\n",
       "4  AAPL 2013-02-14  66.6556"
      ]
     },
     "execution_count": 30,
     "metadata": {},
     "output_type": "execute_result"
    }
   ],
   "source": [
    "data.head()"
   ]
  },
  {
   "cell_type": "markdown",
   "metadata": {},
   "source": [
    "**The column 'date' is now in datetime format. Now we can change the\n",
    "format of the date to any other format**\n"
   ]
  },
  {
   "cell_type": "code",
   "execution_count": 35,
   "metadata": {},
   "outputs": [
    {
     "data": {
      "text/plain": [
       "0       02/08/2013\n",
       "1       02/11/2013\n",
       "2       02/12/2013\n",
       "3       02/13/2013\n",
       "4       02/14/2013\n",
       "           ...    \n",
       "5031    02/01/2018\n",
       "5032    02/02/2018\n",
       "5033    02/05/2018\n",
       "5034    02/06/2018\n",
       "5035    02/07/2018\n",
       "Name: date, Length: 5036, dtype: object"
      ]
     },
     "execution_count": 35,
     "metadata": {},
     "output_type": "execute_result"
    }
   ],
   "source": [
    "data['date'].dt.strftime('%m/%d/%Y')"
   ]
  },
  {
   "cell_type": "code",
   "execution_count": 36,
   "metadata": {},
   "outputs": [
    {
     "data": {
      "text/plain": [
       "0       02-08-13\n",
       "1       02-11-13\n",
       "2       02-12-13\n",
       "3       02-13-13\n",
       "4       02-14-13\n",
       "          ...   \n",
       "5031    02-01-18\n",
       "5032    02-02-18\n",
       "5033    02-05-18\n",
       "5034    02-06-18\n",
       "5035    02-07-18\n",
       "Name: date, Length: 5036, dtype: object"
      ]
     },
     "execution_count": 36,
     "metadata": {},
     "output_type": "execute_result"
    }
   ],
   "source": [
    "data['date'].dt.strftime('%m-%d-%y')"
   ]
  },
  {
   "cell_type": "markdown",
   "metadata": {},
   "source": [
    "**Extracting year from the date column**"
   ]
  },
  {
   "cell_type": "code",
   "execution_count": 37,
   "metadata": {},
   "outputs": [
    {
     "data": {
      "text/plain": [
       "0       2013\n",
       "1       2013\n",
       "2       2013\n",
       "3       2013\n",
       "4       2013\n",
       "        ... \n",
       "5031    2018\n",
       "5032    2018\n",
       "5033    2018\n",
       "5034    2018\n",
       "5035    2018\n",
       "Name: date, Length: 5036, dtype: int32"
      ]
     },
     "execution_count": 37,
     "metadata": {},
     "output_type": "execute_result"
    }
   ],
   "source": [
    "data['date'].dt.year"
   ]
  },
  {
   "cell_type": "markdown",
   "metadata": {},
   "source": [
    "Creating a new column and adding the extracted year values into the\n",
    "dataframe."
   ]
  },
  {
   "cell_type": "code",
   "execution_count": 39,
   "metadata": {},
   "outputs": [],
   "source": [
    "data['year'] = data['date'].dt.year"
   ]
  },
  {
   "cell_type": "markdown",
   "metadata": {},
   "source": [
    "**Extracting month from the date column**"
   ]
  },
  {
   "cell_type": "code",
   "execution_count": 40,
   "metadata": {},
   "outputs": [
    {
     "data": {
      "text/plain": [
       "0       2\n",
       "1       2\n",
       "2       2\n",
       "3       2\n",
       "4       2\n",
       "       ..\n",
       "5031    2\n",
       "5032    2\n",
       "5033    2\n",
       "5034    2\n",
       "5035    2\n",
       "Name: date, Length: 5036, dtype: int32"
      ]
     },
     "execution_count": 40,
     "metadata": {},
     "output_type": "execute_result"
    }
   ],
   "source": [
    "data['date'].dt.month"
   ]
  },
  {
   "cell_type": "markdown",
   "metadata": {},
   "source": [
    "Creating a new column and adding the extracted month values into the\n",
    "dataframe."
   ]
  },
  {
   "cell_type": "code",
   "execution_count": 41,
   "metadata": {},
   "outputs": [],
   "source": [
    "data['month'] = data['date'].dt.month"
   ]
  },
  {
   "cell_type": "markdown",
   "metadata": {},
   "source": [
    "**Extracting day from the date column**"
   ]
  },
  {
   "cell_type": "code",
   "execution_count": 42,
   "metadata": {},
   "outputs": [
    {
     "data": {
      "text/plain": [
       "0        8\n",
       "1       11\n",
       "2       12\n",
       "3       13\n",
       "4       14\n",
       "        ..\n",
       "5031     1\n",
       "5032     2\n",
       "5033     5\n",
       "5034     6\n",
       "5035     7\n",
       "Name: date, Length: 5036, dtype: int32"
      ]
     },
     "execution_count": 42,
     "metadata": {},
     "output_type": "execute_result"
    }
   ],
   "source": [
    "data['date'].dt.day"
   ]
  },
  {
   "cell_type": "markdown",
   "metadata": {},
   "source": [
    "Creating a new column and adding the extracted day values into the\n",
    "dataframe."
   ]
  },
  {
   "cell_type": "code",
   "execution_count": 43,
   "metadata": {},
   "outputs": [],
   "source": [
    "data['day'] = data['date'].dt.day"
   ]
  },
  {
   "cell_type": "code",
   "execution_count": 44,
   "metadata": {},
   "outputs": [
    {
     "data": {
      "text/html": [
       "<div>\n",
       "<style scoped>\n",
       "    .dataframe tbody tr th:only-of-type {\n",
       "        vertical-align: middle;\n",
       "    }\n",
       "\n",
       "    .dataframe tbody tr th {\n",
       "        vertical-align: top;\n",
       "    }\n",
       "\n",
       "    .dataframe thead th {\n",
       "        text-align: right;\n",
       "    }\n",
       "</style>\n",
       "<table border=\"1\" class=\"dataframe\">\n",
       "  <thead>\n",
       "    <tr style=\"text-align: right;\">\n",
       "      <th></th>\n",
       "      <th>stock</th>\n",
       "      <th>date</th>\n",
       "      <th>price</th>\n",
       "      <th>year</th>\n",
       "      <th>month</th>\n",
       "      <th>day</th>\n",
       "    </tr>\n",
       "  </thead>\n",
       "  <tbody>\n",
       "    <tr>\n",
       "      <th>0</th>\n",
       "      <td>AAPL</td>\n",
       "      <td>2013-02-08</td>\n",
       "      <td>67.8542</td>\n",
       "      <td>2013</td>\n",
       "      <td>2</td>\n",
       "      <td>8</td>\n",
       "    </tr>\n",
       "    <tr>\n",
       "      <th>1</th>\n",
       "      <td>AAPL</td>\n",
       "      <td>2013-02-11</td>\n",
       "      <td>68.5614</td>\n",
       "      <td>2013</td>\n",
       "      <td>2</td>\n",
       "      <td>11</td>\n",
       "    </tr>\n",
       "    <tr>\n",
       "      <th>2</th>\n",
       "      <td>AAPL</td>\n",
       "      <td>2013-02-12</td>\n",
       "      <td>66.8428</td>\n",
       "      <td>2013</td>\n",
       "      <td>2</td>\n",
       "      <td>12</td>\n",
       "    </tr>\n",
       "    <tr>\n",
       "      <th>3</th>\n",
       "      <td>AAPL</td>\n",
       "      <td>2013-02-13</td>\n",
       "      <td>66.7156</td>\n",
       "      <td>2013</td>\n",
       "      <td>2</td>\n",
       "      <td>13</td>\n",
       "    </tr>\n",
       "    <tr>\n",
       "      <th>4</th>\n",
       "      <td>AAPL</td>\n",
       "      <td>2013-02-14</td>\n",
       "      <td>66.6556</td>\n",
       "      <td>2013</td>\n",
       "      <td>2</td>\n",
       "      <td>14</td>\n",
       "    </tr>\n",
       "  </tbody>\n",
       "</table>\n",
       "</div>"
      ],
      "text/plain": [
       "  stock       date    price  year  month  day\n",
       "0  AAPL 2013-02-08  67.8542  2013      2    8\n",
       "1  AAPL 2013-02-11  68.5614  2013      2   11\n",
       "2  AAPL 2013-02-12  66.8428  2013      2   12\n",
       "3  AAPL 2013-02-13  66.7156  2013      2   13\n",
       "4  AAPL 2013-02-14  66.6556  2013      2   14"
      ]
     },
     "execution_count": 44,
     "metadata": {},
     "output_type": "execute_result"
    }
   ],
   "source": [
    "data.head()"
   ]
  },
  {
   "cell_type": "markdown",
   "metadata": {},
   "source": [
    "-   We can see that year, month, and day columns have been added in the\n",
    "    dataset."
   ]
  },
  {
   "cell_type": "code",
   "execution_count": 46,
   "metadata": {},
   "outputs": [
    {
     "data": {
      "text/plain": [
       "Timedelta('3 days 00:00:00')"
      ]
     },
     "execution_count": 46,
     "metadata": {},
     "output_type": "execute_result"
    }
   ],
   "source": [
    "# The datetime format is convenient for many tasks!\n",
    "data['date'][1]-data['date'][0]"
   ]
  }
 ],
 "metadata": {
  "kernelspec": {
   "display_name": "Python 3",
   "language": "python",
   "name": "python3"
  },
  "language_info": {
   "codemirror_mode": {
    "name": "ipython",
    "version": 3
   },
   "file_extension": ".py",
   "mimetype": "text/x-python",
   "name": "python",
   "nbconvert_exporter": "python",
   "pygments_lexer": "ipython3",
   "version": "3.10.11"
  }
 },
 "nbformat": 4,
 "nbformat_minor": 5
}
