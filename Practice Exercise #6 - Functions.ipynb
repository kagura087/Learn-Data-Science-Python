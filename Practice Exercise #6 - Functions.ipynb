{
 "cells": [
  {
   "cell_type": "markdown",
   "metadata": {},
   "source": [
    "# **USER DEFINED FUNCTION AND LAMBDA FUNCTIONS EXERCISE**"
   ]
  },
  {
   "cell_type": "markdown",
   "metadata": {},
   "source": [
    "### 1. Write a function to add, subtract, multiply and divide two variables passed to it and print the result "
   ]
  },
  {
   "cell_type": "code",
   "execution_count": 61,
   "metadata": {},
   "outputs": [
    {
     "name": "stdout",
     "output_type": "stream",
     "text": [
      "------------------------------\n",
      "hasil dari pertambahan\t =  9\n",
      "hasil dari pengurangan\t =  -1\n",
      "hasil dari perkalian\t =  20\n",
      "hasil dari pembagian\t =  0.8\n",
      "------------------------------\n",
      "None\n"
     ]
    }
   ],
   "source": [
    "def kalkulator(angka_1, angka_2):\n",
    "    add = angka_1 + angka_2\n",
    "    subtract = angka_1 - angka_2\n",
    "    multiply = angka_1 * angka_2\n",
    "    devide = angka_1 / angka_2\n",
    "\n",
    "    print(\"------------------------------\")\n",
    "    print(\"hasil dari pertambahan\\t = \", add)\n",
    "    print(\"hasil dari pengurangan\\t = \", subtract)\n",
    "    print(\"hasil dari perkalian\\t = \", multiply)\n",
    "    print(\"hasil dari pembagian\\t = \", devide)\n",
    "    print(\"------------------------------\")\n",
    "\n",
    "\n",
    "print(kalkulator(4,5))"
   ]
  },
  {
   "cell_type": "markdown",
   "metadata": {},
   "source": [
    "### 2. Write a Python function given range (1,10) both included, that gives the square of every number"
   ]
  },
  {
   "cell_type": "code",
   "execution_count": 24,
   "metadata": {},
   "outputs": [
    {
     "name": "stdout",
     "output_type": "stream",
     "text": [
      "Nilai seteah dipangkatkan :  1\n",
      "Nilai seteah dipangkatkan :  4\n",
      "Nilai seteah dipangkatkan :  9\n",
      "Nilai seteah dipangkatkan :  16\n",
      "Nilai seteah dipangkatkan :  25\n",
      "Nilai seteah dipangkatkan :  36\n",
      "Nilai seteah dipangkatkan :  49\n",
      "Nilai seteah dipangkatkan :  64\n",
      "Nilai seteah dipangkatkan :  81\n",
      "Nilai seteah dipangkatkan :  100\n",
      "None\n"
     ]
    }
   ],
   "source": [
    "def kotak():\n",
    "    for i in range(1,11):\n",
    "        print(\"Nilai seteah dipangkatkan : \", i ** 2)\n",
    "\n",
    "print(kotak())"
   ]
  },
  {
   "cell_type": "markdown",
   "metadata": {},
   "source": [
    "### 3. Write a function to calculate simple interest\n",
    "\n",
    "simple interest = (Principal amount * Annual Rate of interest * Time(in years))/100\n",
    "\n",
    "Take values as follows\n",
    "\n",
    "Principal Amount = 1000\n",
    "\n",
    "Rate of interest = 3%\n",
    "\n",
    "Time = 5 years"
   ]
  },
  {
   "cell_type": "code",
   "execution_count": 2,
   "metadata": {},
   "outputs": [
    {
     "name": "stdout",
     "output_type": "stream",
     "text": [
      "Bunga yang kamu dapatkan =  1.5\n",
      "None\n"
     ]
    }
   ],
   "source": [
    "def diskon():\n",
    "    Principal_Amount = 1000\n",
    "    Rate_interest = 3/100\n",
    "    Time = 5\n",
    "    simple_interest = (Principal_Amount * Rate_interest * Time)/100\n",
    "\n",
    "    print(\"Bunga yang kamu dapatkan = \", simple_interest)\n",
    "\n",
    "print(diskon())"
   ]
  },
  {
   "cell_type": "markdown",
   "metadata": {},
   "source": [
    "### 4. Write a function to check the number is divisible by 25. The function should return True if divisible and \"Not divisible\" if not"
   ]
  },
  {
   "cell_type": "code",
   "execution_count": 27,
   "metadata": {},
   "outputs": [
    {
     "name": "stdout",
     "output_type": "stream",
     "text": [
      "Masukkan angka = \n",
      "Angka yang dimasukkan = 75\n",
      "Devisible\n",
      "True\n"
     ]
    }
   ],
   "source": [
    "def check():\n",
    "    angka = int(input(print(\"Masukkan angka = \")))\n",
    "    print(\"Angka yang dimasukkan = %d\" %angka)\n",
    "    if angka % 25 == 0:\n",
    "        print(\"Devisible\")\n",
    "        return True\n",
    "    else:\n",
    "        print(\"Not Divisible\")\n",
    "        return False\n",
    "print(check())"
   ]
  },
  {
   "cell_type": "markdown",
   "metadata": {},
   "source": [
    "### 5. Define a function that takes an input, squares it, adds 5, then returns the answer"
   ]
  },
  {
   "cell_type": "code",
   "execution_count": 34,
   "metadata": {},
   "outputs": [
    {
     "name": "stdout",
     "output_type": "stream",
     "text": [
      "Masukkan angka = \n",
      "Angka yang dimasukkan = 75\n",
      "5630.0\n"
     ]
    }
   ],
   "source": [
    "def kalkulator():\n",
    "    angka = float(input(print(\"Masukkan angka = \")))\n",
    "    print(\"Angka yang dimasukkan = %d\" %angka)\n",
    "    angka = angka ** 2 + 5\n",
    "    return (angka)\n",
    "\n",
    "print(kalkulator())\n",
    "    "
   ]
  },
  {
   "cell_type": "markdown",
   "metadata": {},
   "source": [
    "### 6. Using lambda function perform the following task : take an input, squares it, add 5, then return the answer"
   ]
  },
  {
   "cell_type": "code",
   "execution_count": 47,
   "metadata": {},
   "outputs": [
    {
     "name": "stdout",
     "output_type": "stream",
     "text": [
      "Masukkan angka = \n",
      "Hasilnya adalah = 4230\n"
     ]
    }
   ],
   "source": [
    "nilai = int(input(print(\"Masukkan angka = \")))\n",
    "kalkulator = lambda angka : angka ** 2 + 5\n",
    "result = kalkulator(nilai)\n",
    "print(\"Hasilnya adalah = %d\" %result)\n"
   ]
  },
  {
   "cell_type": "markdown",
   "metadata": {},
   "source": [
    "### 7. Write a function to calculate the power of a number raised to other ($a^b$)"
   ]
  },
  {
   "cell_type": "code",
   "execution_count": 74,
   "metadata": {},
   "outputs": [
    {
     "name": "stdout",
     "output_type": "stream",
     "text": [
      "Angka a = 6\n",
      "Angka b = 3\n",
      "216.0\n",
      "None\n"
     ]
    }
   ],
   "source": [
    "def pangkat():\n",
    "    a = float(input(\"Masukkan angka a: \"))\n",
    "    b = float(input(\"Masukkan angka b: \"))\n",
    "    print(\"Angka a = %d\" %a)\n",
    "    print(\"Angka b = %d\" %b)\n",
    "    result = a ** b\n",
    "    print(result)\n",
    "print(pangkat())"
   ]
  },
  {
   "cell_type": "markdown",
   "metadata": {},
   "source": [
    "### 8. Write a function to calculate the area of a triangle\n",
    "\n",
    "area of triangle = 1/2 * base * height"
   ]
  },
  {
   "cell_type": "code",
   "execution_count": 76,
   "metadata": {},
   "outputs": [
    {
     "name": "stdout",
     "output_type": "stream",
     "text": [
      "Angka a = 6\n",
      "Angka a = 3\n",
      "9.0\n",
      "None\n"
     ]
    }
   ],
   "source": [
    "def triangle():\n",
    "    base = float(input(\"Masukkan base: \"))\n",
    "    height = float(input(\"Masukkan height: \"))\n",
    "    print(\"Angka a = %d\" %base)\n",
    "    print(\"Angka a = %d\" %height)\n",
    "    result = 1/2 * base * height\n",
    "    print(result)\n",
    "\n",
    "print(triangle())\n",
    "    "
   ]
  },
  {
   "cell_type": "markdown",
   "metadata": {},
   "source": [
    "### 9. Create a function that takes country as the input and returns \"I am from *Country* \""
   ]
  },
  {
   "cell_type": "code",
   "execution_count": 77,
   "metadata": {},
   "outputs": [
    {
     "name": "stdout",
     "output_type": "stream",
     "text": [
      "Masukkan negara = \n",
      "Saya dari Negara Indonesia\n",
      "None\n"
     ]
    }
   ],
   "source": [
    "def country():\n",
    "    wilayah = str(input(print(\"Masukkan negara = \")))\n",
    "    print(\"Saya dari Negara %s\" %wilayah)\n",
    "print(country())\n",
    "    "
   ]
  },
  {
   "cell_type": "markdown",
   "metadata": {},
   "source": [
    "### 10. Write a function to convert degree Celsius temperature to Fahrenheit"
   ]
  },
  {
   "cell_type": "code",
   "execution_count": 80,
   "metadata": {},
   "outputs": [
    {
     "name": "stdout",
     "output_type": "stream",
     "text": [
      "Masukkan derajat celcius = \n",
      "Nilai dari fahrenheit adalah 158.00\n",
      "None\n"
     ]
    }
   ],
   "source": [
    "def suhu():\n",
    "    celcius = float(input(print(\"Masukkan derajat celcius = \")))\n",
    "    fahrenheit = (9/5 * celcius) + 32\n",
    "    print(\"Nilai dari fahrenheit adalah %.2f\" %fahrenheit)\n",
    "print(suhu())"
   ]
  },
  {
   "cell_type": "code",
   "execution_count": 5,
   "metadata": {},
   "outputs": [
    {
     "name": "stdout",
     "output_type": "stream",
     "text": [
      "Kamu tidak memenuhi semua persyaratan karena \n",
      "Ipk'mu adalah 3.20 kurang dari 3.25\n",
      "TOEFL'mu adalah 300 kurang dari 450\n",
      "TKDA'mu adalah 200 kurang dari 400, tetapi kamu diberi kesempatan untuk meningkatkan skor TKDA.\n",
      "Usia'mu adalah 12 tahun kurang dari 25 tahun\n",
      "Pengalamanmu 10 tahun Jadi, sepuh jangan terlalu merendah padahal GrandMaster\n"
     ]
    }
   ],
   "source": [
    "#rekursi\n",
    "def cek_kelayakan(ipk, toefl, tkda, usia, pengalaman):\n",
    "    if ipk >= 3.25 and toefl >= 450 and tkda >= 400 and usia >= 25 and pengalaman >= 2:\n",
    "        print(\"Kamu memenuhi semua persyaratan jadi wibu sejati\")\n",
    "    else:\n",
    "        print(\"Kamu tidak memenuhi semua persyaratan karena \")\n",
    "        if ipk < 3.25:\n",
    "            print(\"Ipk'mu adalah %.2f kurang dari 3.25\" %ipk)\n",
    "        if toefl < 450:\n",
    "            print(\"TOEFL'mu adalah %d kurang dari 450\" %toefl)\n",
    "        if tkda < 400 and 300 < tkda < 400:\n",
    "            print(\"TKDA'mu adalah %d kurang dari 400, tetapi kamu diberi kesempatan untuk meningkatkan skor TKDA.\" %tkda)\n",
    "        if usia < 25:\n",
    "            print(\"Usia'mu adalah %d tahun kurang dari 25 tahun\" %usia)\n",
    "        if pengalaman >= 2:\n",
    "            if 2 <= pengalaman <= 4:\n",
    "                print(\"Kamu belum waktunya jadi sepuh pengalamanmu masih %d tahun selesain tugas kuliah dulu\" %pengalaman)\n",
    "            elif 5 <= pengalaman <10:\n",
    "                print(\"Kamu belum waktunya jadi sepuh pengalamanmu %d tahun jadi, salesain skripsinya dulu\" %pengalaman)\n",
    "            else:\n",
    "                print(\"Pengalamanmu %d tahun Jadi, sepuh jangan terlalu merendah padahal GrandMaster\" %pengalaman)\n",
    "\n",
    "ipk = float(input(\"Masukkan IPK \\t\\t\\t= \"))\n",
    "toefl = int(input(\"Masukkan TOEFL \\t\\t\\t= \"))\n",
    "tkda = int(input(\"Masukkan TKDA \\t\\t\\t= \"))\n",
    "usia = int(input(\"Masukkan Usia \\t\\t\\t= \"))\n",
    "pengalaman = int(input(\"Masukkan Pengalaman Kerja \\t= \"))\n",
    "\n",
    "cek_kelayakan(ipk, toefl, tkda, usia, pengalaman)"
   ]
  },
  {
   "cell_type": "code",
   "execution_count": 6,
   "metadata": {},
   "outputs": [
    {
     "name": "stdout",
     "output_type": "stream",
     "text": [
      "Requirement already satisfied: plotly in c:\\users\\acer\\appdata\\local\\programs\\python\\python310\\lib\\site-packages (5.22.0)\n",
      "Requirement already satisfied: tenacity>=6.2.0 in c:\\users\\acer\\appdata\\local\\programs\\python\\python310\\lib\\site-packages (from plotly) (8.3.0)\n",
      "Requirement already satisfied: packaging in c:\\users\\acer\\appdata\\roaming\\python\\python310\\site-packages (from plotly) (24.0)\n"
     ]
    }
   ],
   "source": [
    "!pip install plotly"
   ]
  }
 ],
 "metadata": {
  "kernelspec": {
   "display_name": "Python 3 (ipykernel)",
   "language": "python",
   "name": "python3"
  },
  "language_info": {
   "codemirror_mode": {
    "name": "ipython",
    "version": 3
   },
   "file_extension": ".py",
   "mimetype": "text/x-python",
   "name": "python",
   "nbconvert_exporter": "python",
   "pygments_lexer": "ipython3",
   "version": "3.10.11"
  }
 },
 "nbformat": 4,
 "nbformat_minor": 4
}
