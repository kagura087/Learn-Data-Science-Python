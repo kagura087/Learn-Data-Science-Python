{
 "cells": [
  {
   "cell_type": "markdown",
   "metadata": {},
   "source": [
    "# **LOOPING STATEMENTS EXERCISE**"
   ]
  },
  {
   "cell_type": "markdown",
   "metadata": {},
   "source": [
    "### 1. Print -10 to -1 using for loop"
   ]
  },
  {
   "cell_type": "code",
   "execution_count": 3,
   "metadata": {},
   "outputs": [
    {
     "name": "stdout",
     "output_type": "stream",
     "text": [
      "i = -10\n",
      "i = -9\n",
      "i = -8\n",
      "i = -7\n",
      "i = -6\n",
      "i = -5\n",
      "i = -4\n",
      "i = -3\n",
      "i = -2\n",
      "i = -1\n"
     ]
    }
   ],
   "source": [
    "for i in range (-10,0):\n",
    "    print(\"i = %d\" %i)"
   ]
  },
  {
   "cell_type": "markdown",
   "metadata": {},
   "source": [
    "### 2. Using while loop print numbers 1 to 10"
   ]
  },
  {
   "cell_type": "code",
   "execution_count": 2,
   "metadata": {},
   "outputs": [
    {
     "name": "stdout",
     "output_type": "stream",
     "text": [
      "i = 1\n",
      "i = 2\n",
      "i = 3\n",
      "i = 4\n",
      "i = 5\n",
      "i = 6\n",
      "i = 7\n",
      "i = 8\n",
      "i = 9\n",
      "i = 10\n"
     ]
    }
   ],
   "source": [
    "i = 1\n",
    "while i < 11:\n",
    "    print(\"i = %d\" %i)\n",
    "    i += 1"
   ]
  },
  {
   "cell_type": "markdown",
   "metadata": {},
   "source": [
    "### 3. Using for loop print first ten even numbers"
   ]
  },
  {
   "cell_type": "code",
   "execution_count": 14,
   "metadata": {},
   "outputs": [
    {
     "name": "stdout",
     "output_type": "stream",
     "text": [
      "i = 2\n",
      "i = 4\n",
      "i = 6\n",
      "i = 8\n",
      "i = 10\n",
      "i = 12\n",
      "i = 14\n",
      "i = 16\n",
      "i = 18\n",
      "i = 20\n"
     ]
    }
   ],
   "source": [
    "a = int(input(\"Enter the total loop: \"))\n",
    "for i in range (2, (a * 2) + 1, 2):\n",
    "    print(\"i = %d\" %i)"
   ]
  },
  {
   "cell_type": "markdown",
   "metadata": {},
   "source": [
    "### 4. Using while loop generate the table of 5"
   ]
  },
  {
   "cell_type": "code",
   "execution_count": 29,
   "metadata": {},
   "outputs": [
    {
     "name": "stdout",
     "output_type": "stream",
     "text": [
      "Angka angkanya =  203\n",
      "Angka angkanya =  217\n",
      "Angka angkanya =  224\n",
      "Angka angkanya =  231\n",
      "Angka angkanya =  238\n",
      "Angka angkanya =  252\n",
      "Angka angkanya =  259\n",
      "Angka angkanya =  266\n",
      "Angka angkanya =  273\n",
      "Angka angkanya =  287\n",
      "Angka angkanya =  294\n",
      "Angka angkanya =  301\n",
      "Angka angkanya =  308\n"
     ]
    }
   ],
   "source": [
    "i = 202\n",
    "while i < 321:\n",
    "    if i % 7 == 0 and i % 5 != 0:\n",
    "        print(\"Angka angkanya = \", i)\n",
    "    i += 1"
   ]
  },
  {
   "cell_type": "markdown",
   "metadata": {},
   "source": [
    "### 5. Using for loop generate the table of 8"
   ]
  },
  {
   "cell_type": "code",
   "execution_count": 24,
   "metadata": {},
   "outputs": [
    {
     "name": "stdout",
     "output_type": "stream",
     "text": [
      "Angka angkanya =  203\n",
      "Angka angkanya =  217\n",
      "Angka angkanya =  224\n",
      "Angka angkanya =  231\n",
      "Angka angkanya =  238\n",
      "Angka angkanya =  252\n",
      "Angka angkanya =  259\n",
      "Angka angkanya =  266\n",
      "Angka angkanya =  273\n",
      "Angka angkanya =  287\n",
      "Angka angkanya =  294\n",
      "Angka angkanya =  301\n",
      "Angka angkanya =  308\n"
     ]
    }
   ],
   "source": [
    "for i in range(202, 321):\n",
    "    if i % 7 == 0 and i % 5 != 0:\n",
    "        print(\"Angka angkanya = \", i)"
   ]
  },
  {
   "cell_type": "markdown",
   "metadata": {},
   "source": [
    "### 6. For numbers 1 to 100, if a number is divisible by 3, then print Fizz.\n",
    "### If a number is divisible by 5, then print Buzz.\n",
    "### If a number is divisible by 3 and 5 both, then print FizzBuzz\n",
    "### If a number is neither divisible by 3 or 5, just print the number.\n",
    "\n",
    "Hint: use range(1,101) function  to generate numbers from 1 to 100"
   ]
  },
  {
   "cell_type": "code",
   "execution_count": 4,
   "metadata": {},
   "outputs": [
    {
     "name": "stdout",
     "output_type": "stream",
     "text": [
      "i = 1\n",
      "i = 2\n",
      "Buzz\n",
      "i = 4\n",
      "Buzz\n",
      "Buzz\n",
      "i = 7\n",
      "i = 8\n",
      "Buzz\n",
      "Buzz\n",
      "i = 11\n",
      "Buzz\n",
      "i = 13\n",
      "i = 14\n",
      "FizzBuzz\n",
      "i = 16\n",
      "i = 17\n",
      "Buzz\n",
      "i = 19\n",
      "Buzz\n",
      "Buzz\n",
      "i = 22\n",
      "i = 23\n",
      "Buzz\n",
      "Buzz\n",
      "i = 26\n",
      "Buzz\n",
      "i = 28\n",
      "i = 29\n",
      "FizzBuzz\n",
      "i = 31\n",
      "i = 32\n",
      "Buzz\n",
      "i = 34\n",
      "Buzz\n",
      "Buzz\n",
      "i = 37\n",
      "i = 38\n",
      "Buzz\n",
      "Buzz\n",
      "i = 41\n",
      "Buzz\n",
      "i = 43\n",
      "i = 44\n",
      "FizzBuzz\n",
      "i = 46\n",
      "i = 47\n",
      "Buzz\n",
      "i = 49\n",
      "Buzz\n",
      "Buzz\n",
      "i = 52\n",
      "i = 53\n",
      "Buzz\n",
      "Buzz\n",
      "i = 56\n",
      "Buzz\n",
      "i = 58\n",
      "i = 59\n",
      "FizzBuzz\n",
      "i = 61\n",
      "i = 62\n",
      "Buzz\n",
      "i = 64\n",
      "Buzz\n",
      "Buzz\n",
      "i = 67\n",
      "i = 68\n",
      "Buzz\n",
      "Buzz\n",
      "i = 71\n",
      "Buzz\n",
      "i = 73\n",
      "i = 74\n",
      "FizzBuzz\n",
      "i = 76\n",
      "i = 77\n",
      "Buzz\n",
      "i = 79\n",
      "Buzz\n",
      "Buzz\n",
      "i = 82\n",
      "i = 83\n",
      "Buzz\n",
      "Buzz\n",
      "i = 86\n",
      "Buzz\n",
      "i = 88\n",
      "i = 89\n",
      "FizzBuzz\n",
      "i = 91\n",
      "i = 92\n",
      "Buzz\n",
      "i = 94\n",
      "Buzz\n",
      "Buzz\n",
      "i = 97\n",
      "i = 98\n",
      "Buzz\n",
      "Buzz\n"
     ]
    }
   ],
   "source": [
    "for i in range (1, 101):\n",
    "    if i % 3 == 0 and i % 5 == 0:\n",
    "        print(\"FizzBuzz\")\n",
    "    elif i % 5 == 0:\n",
    "        print(\"Buzz\")\n",
    "    elif i % 3 == 0:\n",
    "        print(\"Buzz\")\n",
    "    else:\n",
    "        print(\"i = %d\" %i)"
   ]
  },
  {
   "cell_type": "code",
   "execution_count": 4,
   "metadata": {},
   "outputs": [
    {
     "name": "stdout",
     "output_type": "stream",
     "text": [
      "NO\n",
      "NO\n",
      "i = 3\n",
      "NO\n",
      "NO\n",
      "OK\n",
      "NO\n",
      "NO\n",
      "i = 9\n",
      "NO\n",
      "NO\n",
      "OK\n",
      "NO\n",
      "NO\n",
      "i = 15\n",
      "NO\n",
      "NO\n",
      "OK\n",
      "NO\n",
      "NO\n",
      "i = 21\n",
      "NO\n",
      "NO\n",
      "OK\n",
      "NO\n",
      "NO\n",
      "i = 27\n",
      "NO\n",
      "NO\n",
      "OK\n",
      "NO\n",
      "NO\n",
      "i = 33\n",
      "NO\n",
      "NO\n",
      "OK\n",
      "NO\n",
      "NO\n",
      "i = 39\n",
      "NO\n",
      "NO\n",
      "OK\n",
      "NO\n",
      "NO\n",
      "i = 45\n",
      "NO\n",
      "NO\n",
      "OK\n",
      "NO\n",
      "OK\n",
      "51\n",
      "52\n",
      "i = 53\n",
      "54\n",
      "i = 55\n",
      "56\n",
      "57\n",
      "58\n",
      "i = 59\n",
      "60\n",
      "i = 61\n",
      "62\n",
      "63\n",
      "64\n",
      "i = 65\n",
      "66\n",
      "i = 67\n",
      "68\n",
      "69\n",
      "70\n",
      "i = 71\n",
      "72\n",
      "i = 73\n",
      "74\n",
      "75\n",
      "76\n",
      "i = 77\n",
      "78\n",
      "i = 79\n",
      "80\n",
      "81\n",
      "82\n",
      "i = 83\n",
      "84\n",
      "i = 85\n",
      "86\n",
      "87\n",
      "88\n",
      "i = 89\n",
      "90\n",
      "i = 91\n",
      "92\n",
      "93\n",
      "94\n",
      "i = 95\n",
      "96\n",
      "i = 97\n",
      "98\n",
      "99\n",
      "100\n"
     ]
    }
   ],
   "source": [
    "for i in range (1, 101):\n",
    "    if i % 3 and i < 50:\n",
    "        print(\"NO\")\n",
    "    elif i % 2 == 0 and i <= 50:\n",
    "        print(\"OK\")\n",
    "    elif i % 3 == 0 and i > 50:\n",
    "        print(i)\n",
    "    elif i % 2 == 0 and i > 50:\n",
    "        print(i)\n",
    "    else:\n",
    "        print(\"i = %d\" %i)"
   ]
  },
  {
   "cell_type": "markdown",
   "metadata": {},
   "source": [
    "### 7.  Using the range function find the sum of all numbers from 1 to 100.\n",
    "    For the numbers in the range (1,100):1+2+3+4+5......+100 = 5050"
   ]
  },
  {
   "cell_type": "code",
   "execution_count": 59,
   "metadata": {},
   "outputs": [
    {
     "name": "stdout",
     "output_type": "stream",
     "text": [
      "1 2 3 4 5 6 7 8 9 10 11 12 13 14 15 16 17 18 19 20 21 22 23 24 25 26 27 28 29 30 31 32 33 34 35 36 37 38 39 40 41 42 43 44 45 46 47 48 49 50 51 52 53 54 55 56 57 58 59 60 61 62 63 64 65 66 67 68 69 70 71 72 73 74 75 76 77 78 79 80 81 82 83 84 85 86 87 88 89 90 91 92 93 94 95 96 97 98 99 100 \n",
      "Jumlah semua angka =  5050\n"
     ]
    }
   ],
   "source": [
    "for i in range(1 , 101):\n",
    "    print(i , end = ' ')\n",
    "print(\"\\nJumlah semua angka = \", sum(range(1,101)))"
   ]
  },
  {
   "cell_type": "markdown",
   "metadata": {},
   "source": [
    "### 8. Write a program which will find all such numbers which are divisible by 7 but are not a multiple of 5, between 202 and 320 (both included)."
   ]
  },
  {
   "cell_type": "code",
   "execution_count": 23,
   "metadata": {},
   "outputs": [
    {
     "name": "stdout",
     "output_type": "stream",
     "text": [
      "Angka angkanya =  203\n",
      "Angka angkanya =  217\n",
      "Angka angkanya =  224\n",
      "Angka angkanya =  231\n",
      "Angka angkanya =  238\n",
      "Angka angkanya =  252\n",
      "Angka angkanya =  259\n",
      "Angka angkanya =  266\n",
      "Angka angkanya =  273\n",
      "Angka angkanya =  287\n",
      "Angka angkanya =  294\n",
      "Angka angkanya =  301\n",
      "Angka angkanya =  308\n"
     ]
    }
   ],
   "source": [
    "for i in range(202, 321):\n",
    "    if i % 7 == 0 and i % 5 != 0:\n",
    "        print(\"Angka angkanya = \", i)"
   ]
  },
  {
   "cell_type": "markdown",
   "metadata": {},
   "source": [
    "### 9. Python Program to count the number of vowels in a string.\n",
    "st = \"Data Science\"\n",
    "\n",
    "Output: No of vowels = 5"
   ]
  },
  {
   "cell_type": "code",
   "execution_count": 1,
   "metadata": {},
   "outputs": [
    {
     "name": "stdout",
     "output_type": "stream",
     "text": [
      "\n",
      "Jumlah semua vocal =  5\n"
     ]
    }
   ],
   "source": [
    "st = \"Data Science\"\n",
    "vokal = \"aiueoAIUEO\"\n",
    "count = 0\n",
    "for i in st:\n",
    "    if i in vokal:\n",
    "        count += 1\n",
    "print(\"\\r\\nJumlah semua vocal = \", count)"
   ]
  },
  {
   "cell_type": "markdown",
   "metadata": {},
   "source": [
    "### 10. Print Data Science 5 times using for loop"
   ]
  },
  {
   "cell_type": "code",
   "execution_count": 1,
   "metadata": {},
   "outputs": [
    {
     "name": "stdout",
     "output_type": "stream",
     "text": [
      "Data Science\n",
      "Data Science\n",
      "Data Science\n",
      "Data Science\n",
      "Data Science\n"
     ]
    }
   ],
   "source": [
    "for i in range(5):\n",
    "    print(\"Data Science\")"
   ]
  }
 ],
 "metadata": {
  "kernelspec": {
   "display_name": "Python 3 (ipykernel)",
   "language": "python",
   "name": "python3"
  },
  "language_info": {
   "codemirror_mode": {
    "name": "ipython",
    "version": 3
   },
   "file_extension": ".py",
   "mimetype": "text/x-python",
   "name": "python",
   "nbconvert_exporter": "python",
   "pygments_lexer": "ipython3",
   "version": "3.10.11"
  }
 },
 "nbformat": 4,
 "nbformat_minor": 4
}
